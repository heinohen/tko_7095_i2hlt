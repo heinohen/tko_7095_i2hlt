{
  "nbformat": 4,
  "nbformat_minor": 0,
  "metadata": {
    "colab": {
      "provenance": [],
      "authorship_tag": "ABX9TyOMu/fQMAnl4YMrqx0FasTI",
      "include_colab_link": true
    },
    "kernelspec": {
      "name": "python3",
      "display_name": "Python 3"
    },
    "language_info": {
      "name": "python"
    }
  },
  "cells": [
    {
      "cell_type": "markdown",
      "metadata": {
        "id": "view-in-github",
        "colab_type": "text"
      },
      "source": [
        "<a href=\"https://colab.research.google.com/github/heinohen/tko_7095_i2hlt/blob/main/week7_ex_1.ipynb\" target=\"_parent\"><img src=\"https://colab.research.google.com/assets/colab-badge.svg\" alt=\"Open In Colab\"/></a>"
      ]
    },
    {
      "cell_type": "code",
      "execution_count": 51,
      "metadata": {
        "id": "UfwB8i2yDll8"
      },
      "outputs": [],
      "source": [
        "!pip install --quiet transformers"
      ]
    },
    {
      "cell_type": "code",
      "source": [
        "from transformers import AutoTokenizer, AutoModelForCausalLM, pipeline"
      ],
      "metadata": {
        "id": "LyuG8ZK4D1r8"
      },
      "execution_count": 52,
      "outputs": []
    },
    {
      "cell_type": "code",
      "source": [
        "MODEL = 'gpt2-large'\n",
        "\n",
        "tokenizer = AutoTokenizer.from_pretrained(MODEL)\n",
        "model = AutoModelForCausalLM.from_pretrained(MODEL)"
      ],
      "metadata": {
        "id": "_wTgLmqJD4Pf"
      },
      "execution_count": 53,
      "outputs": []
    },
    {
      "cell_type": "code",
      "source": [
        "pipe = pipeline(\n",
        "    'text-generation',\n",
        "    model = model,\n",
        "    tokenizer = tokenizer,\n",
        "    device = model.device\n",
        "    )"
      ],
      "metadata": {
        "id": "S3_83dLYEah-"
      },
      "execution_count": 54,
      "outputs": []
    },
    {
      "cell_type": "markdown",
      "source": [
        "## 1) An essay from tweet"
      ],
      "metadata": {
        "id": "_kFSxSufIfM8"
      }
    },
    {
      "cell_type": "code",
      "source": [
        "\n",
        "# MUSK TWEETS\n",
        "\n",
        "tweets = [\n",
        "    \"Next I’m buying Coca-Cola to put the cocaine back in\", # https://twitter.com/elonmusk/status/1519480761749016577\n",
        "    \"Pluto takes 248 years to orbit the sun, but Uranus only takes 84\", # https://twitter.com/elonmusk/status/1404351360644964355\n",
        "]\n",
        ""
      ],
      "metadata": {
        "id": "TU3zu5E-Ev-M"
      },
      "execution_count": 55,
      "outputs": []
    },
    {
      "cell_type": "code",
      "source": [
        "\n",
        "# ZERO-SHOT\n",
        "template = \"\"\"\n",
        "\n",
        "Can you write me an 250 word essay about the subject?\n",
        "Text: {}\n",
        "Answer:\n",
        "\n",
        "\"\"\"\n",
        "\n"
      ],
      "metadata": {
        "id": "MFeQwpJAE28I"
      },
      "execution_count": 94,
      "outputs": []
    },
    {
      "cell_type": "code",
      "source": [
        "\n",
        "for tweet in tweets:\n",
        "  print(\"*\"*20)\n",
        "  output = pipe(\n",
        "          tweet,\n",
        "          max_new_tokens=250,\n",
        "      )\n",
        "  print(output[0]['generated_text']) # puppulausegeneraattori\n",
        "  print(\"*\"*20)\n"
      ],
      "metadata": {
        "colab": {
          "base_uri": "https://localhost:8080/"
        },
        "id": "D35igRg5E5K1",
        "outputId": "deacea65-d487-4006-f32e-9aa6932312e6"
      },
      "execution_count": 96,
      "outputs": [
        {
          "output_type": "stream",
          "name": "stderr",
          "text": [
            "Setting `pad_token_id` to `eos_token_id`:50256 for open-end generation.\n"
          ]
        },
        {
          "output_type": "stream",
          "name": "stdout",
          "text": [
            "********************\n"
          ]
        },
        {
          "output_type": "stream",
          "name": "stderr",
          "text": [
            "Setting `pad_token_id` to `eos_token_id`:50256 for open-end generation.\n"
          ]
        },
        {
          "output_type": "stream",
          "name": "stdout",
          "text": [
            "Next I’m buying Coca-Cola to put the cocaine back in the bottle.\n",
            "\n",
            "The only people who do not have enough drugs are the drug users.\n",
            "\n",
            "If you think it is fun and fun only makes drug use harder, think about it for one second. Then you are done buying the product, I am done buying the product.\n",
            "\n",
            "My problem is that I don't want to die. I say if you really want to die, then do it now. There is nothing more important than dying. You have to know that this won't happen to you. So do it now. If you don't do it then it will never happen to you.\n",
            "\n",
            "To the people who are like that, they are like a dog on meth and the dog just keeps getting more and more aggressive. I say, \"Get out of here! I'm not gonna play with you anymore!\" If you can't get out of your own way, then what you are doing is wrong!\n",
            "\n",
            "If you think you need drugs just to get over something you can get over anyway, or just to feel pain. That makes you stupid! You are wasting your time because it will just make you feel worse, make you stupid, and make you die.\n",
            "\n",
            "If it was up to me,\n",
            "********************\n",
            "********************\n",
            "Pluto takes 248 years to orbit the sun, but Uranus only takes 84, so it means that you're probably going to have to wait for a while before you get to enjoy some of its planets.\n",
            "\n",
            "This graphic shows how much the other planets in our Solar System take away from you. Each dot depicts an angle relative to Earth's axis of orbit, from a certain point on the planet's hemisphere. Click on the graphic for a larger version, or right-click above to save as a PDF.\n",
            "********************\n"
          ]
        }
      ]
    },
    {
      "cell_type": "markdown",
      "source": [
        "\n",
        "\n",
        "## SENTIMENT\n"
      ],
      "metadata": {
        "id": "9x0pEaWfXNw6"
      }
    },
    {
      "cell_type": "code",
      "source": [
        "sents = [\n",
        "    \"The sun is shining brightly\", # pos\n",
        "    \"She completed the project ahead of schedule\", # pos\n",
        "    \"They enjoyed the concert last night\", # pos\n",
        "    \"The flowers in the garden are blooming beautifully\", # pos\n",
        "    \"He received a promotion at work.\", # pos\n",
        "    \"I am not flying to England.\", # neg\n",
        "    \"That isn't the way to Nashville.\", # neg\n",
        "    \"They are not from Ecuador.\", # neg\n",
        "    \"He wasn't eating white rice.\", # neg\n",
        "    \"We were not sad when he moved away.\", # neg\n",
        "    \"They don't practice yoga.\" # neg\n",
        "         ]"
      ],
      "metadata": {
        "id": "J08hMMxjWv9q"
      },
      "execution_count": 72,
      "outputs": []
    },
    {
      "cell_type": "code",
      "source": [
        "template = \"\"\"\n",
        "Do the following texts express a positive or negative sentiment?\n",
        "\n",
        "Text: I'm happy!\n",
        "Answer: Positive\n",
        "\n",
        "Text: This sucks!\n",
        "Answer: Negative\n",
        "\n",
        "Text: {text: }\n",
        "Answer:\"\"\""
      ],
      "metadata": {
        "id": "rfT8MYZVIdMV"
      },
      "execution_count": 91,
      "outputs": []
    },
    {
      "cell_type": "code",
      "source": [
        "\n",
        "\n",
        "for s in sents:\n",
        "    print(\"!!!\"* 3)\n",
        "    out = pipe(template.format(text = s),\n",
        "               max_new_tokens = 2,\n",
        "               do_sample = False)\n",
        "    print(out[0]['generated_text'])\n"
      ],
      "metadata": {
        "colab": {
          "base_uri": "https://localhost:8080/"
        },
        "id": "_wHV0kUHZKqU",
        "outputId": "0480f8cb-a41b-45d8-f900-34af1d4ab885"
      },
      "execution_count": 93,
      "outputs": [
        {
          "output_type": "stream",
          "name": "stderr",
          "text": [
            "Setting `pad_token_id` to `eos_token_id`:50256 for open-end generation.\n"
          ]
        },
        {
          "output_type": "stream",
          "name": "stdout",
          "text": [
            "!!!!!!!!!\n"
          ]
        },
        {
          "output_type": "stream",
          "name": "stderr",
          "text": [
            "Setting `pad_token_id` to `eos_token_id`:50256 for open-end generation.\n"
          ]
        },
        {
          "output_type": "stream",
          "name": "stdout",
          "text": [
            "\n",
            "Do the following texts express a positive or negative sentiment?\n",
            "\n",
            "Text: I'm happy!\n",
            "Answer: Positive\n",
            "\n",
            "Text: This sucks!\n",
            "Answer: Negative\n",
            "\n",
            "Text: The sun is shining brightly\n",
            "Answer: Positive\n",
            "\n",
            "!!!!!!!!!\n"
          ]
        },
        {
          "output_type": "stream",
          "name": "stderr",
          "text": [
            "Setting `pad_token_id` to `eos_token_id`:50256 for open-end generation.\n"
          ]
        },
        {
          "output_type": "stream",
          "name": "stdout",
          "text": [
            "\n",
            "Do the following texts express a positive or negative sentiment?\n",
            "\n",
            "Text: I'm happy!\n",
            "Answer: Positive\n",
            "\n",
            "Text: This sucks!\n",
            "Answer: Negative\n",
            "\n",
            "Text: She completed the project ahead of schedule\n",
            "Answer: Positive\n",
            "\n",
            "!!!!!!!!!\n"
          ]
        },
        {
          "output_type": "stream",
          "name": "stderr",
          "text": [
            "Setting `pad_token_id` to `eos_token_id`:50256 for open-end generation.\n"
          ]
        },
        {
          "output_type": "stream",
          "name": "stdout",
          "text": [
            "\n",
            "Do the following texts express a positive or negative sentiment?\n",
            "\n",
            "Text: I'm happy!\n",
            "Answer: Positive\n",
            "\n",
            "Text: This sucks!\n",
            "Answer: Negative\n",
            "\n",
            "Text: They enjoyed the concert last night\n",
            "Answer: Positive\n",
            "\n",
            "!!!!!!!!!\n"
          ]
        },
        {
          "output_type": "stream",
          "name": "stderr",
          "text": [
            "Setting `pad_token_id` to `eos_token_id`:50256 for open-end generation.\n"
          ]
        },
        {
          "output_type": "stream",
          "name": "stdout",
          "text": [
            "\n",
            "Do the following texts express a positive or negative sentiment?\n",
            "\n",
            "Text: I'm happy!\n",
            "Answer: Positive\n",
            "\n",
            "Text: This sucks!\n",
            "Answer: Negative\n",
            "\n",
            "Text: The flowers in the garden are blooming beautifully\n",
            "Answer: Positive\n",
            "\n",
            "!!!!!!!!!\n"
          ]
        },
        {
          "output_type": "stream",
          "name": "stderr",
          "text": [
            "Setting `pad_token_id` to `eos_token_id`:50256 for open-end generation.\n"
          ]
        },
        {
          "output_type": "stream",
          "name": "stdout",
          "text": [
            "\n",
            "Do the following texts express a positive or negative sentiment?\n",
            "\n",
            "Text: I'm happy!\n",
            "Answer: Positive\n",
            "\n",
            "Text: This sucks!\n",
            "Answer: Negative\n",
            "\n",
            "Text: He received a promotion at work.\n",
            "Answer: Positive\n",
            "\n",
            "!!!!!!!!!\n"
          ]
        },
        {
          "output_type": "stream",
          "name": "stderr",
          "text": [
            "Setting `pad_token_id` to `eos_token_id`:50256 for open-end generation.\n"
          ]
        },
        {
          "output_type": "stream",
          "name": "stdout",
          "text": [
            "\n",
            "Do the following texts express a positive or negative sentiment?\n",
            "\n",
            "Text: I'm happy!\n",
            "Answer: Positive\n",
            "\n",
            "Text: This sucks!\n",
            "Answer: Negative\n",
            "\n",
            "Text: I am not flying to England.\n",
            "Answer: Positive\n",
            "\n",
            "!!!!!!!!!\n"
          ]
        },
        {
          "output_type": "stream",
          "name": "stderr",
          "text": [
            "Setting `pad_token_id` to `eos_token_id`:50256 for open-end generation.\n"
          ]
        },
        {
          "output_type": "stream",
          "name": "stdout",
          "text": [
            "\n",
            "Do the following texts express a positive or negative sentiment?\n",
            "\n",
            "Text: I'm happy!\n",
            "Answer: Positive\n",
            "\n",
            "Text: This sucks!\n",
            "Answer: Negative\n",
            "\n",
            "Text: That isn't the way to Nashville.\n",
            "Answer: Positive\n",
            "\n",
            "!!!!!!!!!\n"
          ]
        },
        {
          "output_type": "stream",
          "name": "stderr",
          "text": [
            "Setting `pad_token_id` to `eos_token_id`:50256 for open-end generation.\n"
          ]
        },
        {
          "output_type": "stream",
          "name": "stdout",
          "text": [
            "\n",
            "Do the following texts express a positive or negative sentiment?\n",
            "\n",
            "Text: I'm happy!\n",
            "Answer: Positive\n",
            "\n",
            "Text: This sucks!\n",
            "Answer: Negative\n",
            "\n",
            "Text: They are not from Ecuador.\n",
            "Answer: Negative\n",
            "\n",
            "!!!!!!!!!\n"
          ]
        },
        {
          "output_type": "stream",
          "name": "stderr",
          "text": [
            "Setting `pad_token_id` to `eos_token_id`:50256 for open-end generation.\n"
          ]
        },
        {
          "output_type": "stream",
          "name": "stdout",
          "text": [
            "\n",
            "Do the following texts express a positive or negative sentiment?\n",
            "\n",
            "Text: I'm happy!\n",
            "Answer: Positive\n",
            "\n",
            "Text: This sucks!\n",
            "Answer: Negative\n",
            "\n",
            "Text: He wasn't eating white rice.\n",
            "Answer: Positive\n",
            "\n",
            "!!!!!!!!!\n"
          ]
        },
        {
          "output_type": "stream",
          "name": "stderr",
          "text": [
            "Setting `pad_token_id` to `eos_token_id`:50256 for open-end generation.\n"
          ]
        },
        {
          "output_type": "stream",
          "name": "stdout",
          "text": [
            "\n",
            "Do the following texts express a positive or negative sentiment?\n",
            "\n",
            "Text: I'm happy!\n",
            "Answer: Positive\n",
            "\n",
            "Text: This sucks!\n",
            "Answer: Negative\n",
            "\n",
            "Text: We were not sad when he moved away.\n",
            "Answer: Positive\n",
            "\n",
            "!!!!!!!!!\n",
            "\n",
            "Do the following texts express a positive or negative sentiment?\n",
            "\n",
            "Text: I'm happy!\n",
            "Answer: Positive\n",
            "\n",
            "Text: This sucks!\n",
            "Answer: Negative\n",
            "\n",
            "Text: They don't practice yoga.\n",
            "Answer: Positive\n",
            "\n"
          ]
        }
      ]
    },
    {
      "cell_type": "code",
      "source": [
        "questions = [\n",
        "    \"\"\n",
        "]"
      ],
      "metadata": {
        "id": "VaaVWC4mbkRO"
      },
      "execution_count": null,
      "outputs": []
    }
  ]
}