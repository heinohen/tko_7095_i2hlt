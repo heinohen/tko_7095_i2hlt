{
  "nbformat": 4,
  "nbformat_minor": 0,
  "metadata": {
    "colab": {
      "provenance": [],
      "authorship_tag": "ABX9TyPPWXN1pKruIPmCnd9GHQ5j",
      "include_colab_link": true
    },
    "kernelspec": {
      "name": "python3",
      "display_name": "Python 3"
    },
    "language_info": {
      "name": "python"
    }
  },
  "cells": [
    {
      "cell_type": "markdown",
      "metadata": {
        "id": "view-in-github",
        "colab_type": "text"
      },
      "source": [
        "<a href=\"https://colab.research.google.com/github/heinohen/tko_7095_i2hlt/blob/main/week7_ex_1.ipynb\" target=\"_parent\"><img src=\"https://colab.research.google.com/assets/colab-badge.svg\" alt=\"Open In Colab\"/></a>"
      ]
    },
    {
      "cell_type": "code",
      "execution_count": 101,
      "metadata": {
        "id": "UfwB8i2yDll8"
      },
      "outputs": [],
      "source": [
        "!pip install --quiet transformers"
      ]
    },
    {
      "cell_type": "code",
      "source": [
        "from transformers import AutoTokenizer, AutoModelForCausalLM, pipeline"
      ],
      "metadata": {
        "id": "LyuG8ZK4D1r8"
      },
      "execution_count": 102,
      "outputs": []
    },
    {
      "cell_type": "code",
      "source": [
        "MODEL = 'gpt2-large'\n",
        "\n",
        "tokenizer = AutoTokenizer.from_pretrained(MODEL)\n",
        "model = AutoModelForCausalLM.from_pretrained(MODEL)"
      ],
      "metadata": {
        "id": "_wTgLmqJD4Pf"
      },
      "execution_count": 103,
      "outputs": []
    },
    {
      "cell_type": "code",
      "source": [
        "pipe = pipeline(\n",
        "    'text-generation',\n",
        "    model = model,\n",
        "    tokenizer = tokenizer,\n",
        "    device = model.device\n",
        "    )"
      ],
      "metadata": {
        "id": "S3_83dLYEah-"
      },
      "execution_count": 104,
      "outputs": []
    },
    {
      "cell_type": "code",
      "source": [
        "# FUNCTION TO CALL ALL IN SEQUENCE # https://huggingface.co/docs/transformers/tasks/prompting#llm-prompting-guide\n",
        "\n",
        "def results(prompt: str, max_new_tokens: int) -> str:\n",
        "  return pipe(prompt, max_new_tokens = max_new_tokens)[0]['generated_text']"
      ],
      "metadata": {
        "id": "mcsf8eNdtH7D"
      },
      "execution_count": 105,
      "outputs": []
    },
    {
      "cell_type": "code",
      "source": [
        "LABELS = ['ZERO-SHOT', 'ONE-SHOT', 'TWO-SHOT']"
      ],
      "metadata": {
        "id": "PK-yecHp77Nx"
      },
      "execution_count": 106,
      "outputs": []
    },
    {
      "cell_type": "markdown",
      "source": [
        "## BINARY SENTIMENT CLASSIFICATION"
      ],
      "metadata": {
        "id": "rQDHlO5R1Ytp"
      }
    },
    {
      "cell_type": "code",
      "source": [
        "SENTIMENTS = [\n",
        "    \"The sun is shining brightly\", # pos\n",
        "    \"She completed the project ahead of schedule\", # pos\n",
        "    \"They enjoyed the concert last night\", # pos\n",
        "    \"The flowers in the garden are blooming beautifully\", # pos\n",
        "    \"He received a promotion at work.\", # pos\n",
        "    \"I am not flying to England.\", # neg\n",
        "    \"That isn't the way to Nashville.\", # neg\n",
        "    \"They are not from Ecuador.\", # neg\n",
        "    \"He wasn't eating white rice.\", # neg\n",
        "    \"We were not sad when he moved away.\", # neg\n",
        "    \"They don't practice yoga.\" # neg\n",
        "         ]"
      ],
      "metadata": {
        "id": "J08hMMxjWv9q"
      },
      "execution_count": 107,
      "outputs": []
    },
    {
      "cell_type": "code",
      "source": [
        "\n",
        "# ZERO-SHOT\n",
        "sentiment_prompt_zero = \"\"\"Do the following texts express positive or negative sentiment?\n",
        "Text:  {}\n",
        "Sentiment: \"\"\"\n",
        "\n",
        "# ONE-SHOT (of both cases)\n",
        "sentiment_prompt_one = \"\"\"Do the following texts express positive or negative sentiment?\n",
        "Text: We had a great time at the party.\n",
        "Sentiment: Positive\n",
        "\n",
        "Text: I rarely go to the gym after work.\n",
        "Sentiment: Negative\n",
        "\n",
        "Text: {}\n",
        "Sentiment\"\"\"\n",
        "\n",
        "# TWO-SHOT\n",
        "sentiment_prompt_two = \"\"\"Do the following texts express positive or negative sentiment?\n",
        "Text: She is a talented singer.\n",
        "Sentiment: Positive\n",
        "\n",
        "Text: We had a great time at the party.\n",
        "Sentiment Positive\n",
        "\n",
        "Text: My guests are not arriving\n",
        "Sentiment: Negative\n",
        "\n",
        "Text: I rarely go to the gym after work.\n",
        "Sentiment: Negative\n",
        "\n",
        "Text: {}\n",
        "Sentiment:\"\"\"\n",
        "\n",
        "\n",
        "TASKS = [sentiment_prompt_zero, sentiment_prompt_one, sentiment_prompt_two]"
      ],
      "metadata": {
        "id": "EmJXK7bbxlCk"
      },
      "execution_count": 108,
      "outputs": []
    },
    {
      "cell_type": "code",
      "source": [
        "\n",
        "for i,task in enumerate(TASKS):\n",
        "  print(\"*\"*20, 'START', LABELS[i], \"*\"*20)\n",
        "  for sent in SENTIMENTS:\n",
        "    print(results(task.format(sent), 1))\n",
        "  print(\"*\"*20, 'END', \"*\"*22)\n"
      ],
      "metadata": {
        "colab": {
          "base_uri": "https://localhost:8080/"
        },
        "id": "zT_tD0jmz4Wv",
        "outputId": "224f9737-1311-42da-9ab1-ea2c960fb144"
      },
      "execution_count": 109,
      "outputs": [
        {
          "output_type": "stream",
          "name": "stderr",
          "text": [
            "Setting `pad_token_id` to `eos_token_id`:50256 for open-end generation.\n"
          ]
        },
        {
          "output_type": "stream",
          "name": "stdout",
          "text": [
            "******************** START ZERO-SHOT ********************\n"
          ]
        },
        {
          "output_type": "stream",
          "name": "stderr",
          "text": [
            "Setting `pad_token_id` to `eos_token_id`:50256 for open-end generation.\n"
          ]
        },
        {
          "output_type": "stream",
          "name": "stdout",
          "text": [
            "Do the following texts express positive or negative sentiment?\n",
            "Text:  The sun is shining brightly\n",
            "Sentiment:  Yes\n"
          ]
        },
        {
          "output_type": "stream",
          "name": "stderr",
          "text": [
            "Setting `pad_token_id` to `eos_token_id`:50256 for open-end generation.\n"
          ]
        },
        {
          "output_type": "stream",
          "name": "stdout",
          "text": [
            "Do the following texts express positive or negative sentiment?\n",
            "Text:  She completed the project ahead of schedule\n",
            "Sentiment:  She\n"
          ]
        },
        {
          "output_type": "stream",
          "name": "stderr",
          "text": [
            "Setting `pad_token_id` to `eos_token_id`:50256 for open-end generation.\n"
          ]
        },
        {
          "output_type": "stream",
          "name": "stdout",
          "text": [
            "Do the following texts express positive or negative sentiment?\n",
            "Text:  They enjoyed the concert last night\n",
            "Sentiment: They\n"
          ]
        },
        {
          "output_type": "stream",
          "name": "stderr",
          "text": [
            "Setting `pad_token_id` to `eos_token_id`:50256 for open-end generation.\n"
          ]
        },
        {
          "output_type": "stream",
          "name": "stdout",
          "text": [
            "Do the following texts express positive or negative sentiment?\n",
            "Text:  The flowers in the garden are blooming beautifully\n",
            "Sentiment:  This\n"
          ]
        },
        {
          "output_type": "stream",
          "name": "stderr",
          "text": [
            "Setting `pad_token_id` to `eos_token_id`:50256 for open-end generation.\n"
          ]
        },
        {
          "output_type": "stream",
          "name": "stdout",
          "text": [
            "Do the following texts express positive or negative sentiment?\n",
            "Text:  He received a promotion at work.\n",
            "Sentiment:  I\n"
          ]
        },
        {
          "output_type": "stream",
          "name": "stderr",
          "text": [
            "Setting `pad_token_id` to `eos_token_id`:50256 for open-end generation.\n"
          ]
        },
        {
          "output_type": "stream",
          "name": "stdout",
          "text": [
            "Do the following texts express positive or negative sentiment?\n",
            "Text:  I am not flying to England.\n",
            "Sentiment:  \n"
          ]
        },
        {
          "output_type": "stream",
          "name": "stderr",
          "text": [
            "Setting `pad_token_id` to `eos_token_id`:50256 for open-end generation.\n"
          ]
        },
        {
          "output_type": "stream",
          "name": "stdout",
          "text": [
            "Do the following texts express positive or negative sentiment?\n",
            "Text:  That isn't the way to Nashville.\n",
            "Sentiment:  How\n"
          ]
        },
        {
          "output_type": "stream",
          "name": "stderr",
          "text": [
            "Setting `pad_token_id` to `eos_token_id`:50256 for open-end generation.\n"
          ]
        },
        {
          "output_type": "stream",
          "name": "stdout",
          "text": [
            "Do the following texts express positive or negative sentiment?\n",
            "Text:  They are not from Ecuador.\n",
            "Sentiment:  They\n"
          ]
        },
        {
          "output_type": "stream",
          "name": "stderr",
          "text": [
            "Setting `pad_token_id` to `eos_token_id`:50256 for open-end generation.\n"
          ]
        },
        {
          "output_type": "stream",
          "name": "stdout",
          "text": [
            "Do the following texts express positive or negative sentiment?\n",
            "Text:  He wasn't eating white rice.\n",
            "Sentiment:  \n"
          ]
        },
        {
          "output_type": "stream",
          "name": "stderr",
          "text": [
            "Setting `pad_token_id` to `eos_token_id`:50256 for open-end generation.\n"
          ]
        },
        {
          "output_type": "stream",
          "name": "stdout",
          "text": [
            "Do the following texts express positive or negative sentiment?\n",
            "Text:  We were not sad when he moved away.\n",
            "Sentiment:  \n"
          ]
        },
        {
          "output_type": "stream",
          "name": "stderr",
          "text": [
            "Setting `pad_token_id` to `eos_token_id`:50256 for open-end generation.\n"
          ]
        },
        {
          "output_type": "stream",
          "name": "stdout",
          "text": [
            "Do the following texts express positive or negative sentiment?\n",
            "Text:  They don't practice yoga.\n",
            "Sentiment:  Negative\n",
            "******************** END **********************\n",
            "******************** START ONE-SHOT ********************\n"
          ]
        },
        {
          "output_type": "stream",
          "name": "stderr",
          "text": [
            "Setting `pad_token_id` to `eos_token_id`:50256 for open-end generation.\n"
          ]
        },
        {
          "output_type": "stream",
          "name": "stdout",
          "text": [
            "Do the following texts express positive or negative sentiment?\n",
            "Text: We had a great time at the party.\n",
            "Sentiment: Positive\n",
            "\n",
            "Text: I rarely go to the gym after work.\n",
            "Sentiment: Negative\n",
            "\n",
            "Text: The sun is shining brightly\n",
            "Sentiment:\n"
          ]
        },
        {
          "output_type": "stream",
          "name": "stderr",
          "text": [
            "Setting `pad_token_id` to `eos_token_id`:50256 for open-end generation.\n"
          ]
        },
        {
          "output_type": "stream",
          "name": "stdout",
          "text": [
            "Do the following texts express positive or negative sentiment?\n",
            "Text: We had a great time at the party.\n",
            "Sentiment: Positive\n",
            "\n",
            "Text: I rarely go to the gym after work.\n",
            "Sentiment: Negative\n",
            "\n",
            "Text: She completed the project ahead of schedule\n",
            "Sentiment:\n"
          ]
        },
        {
          "output_type": "stream",
          "name": "stderr",
          "text": [
            "Setting `pad_token_id` to `eos_token_id`:50256 for open-end generation.\n"
          ]
        },
        {
          "output_type": "stream",
          "name": "stdout",
          "text": [
            "Do the following texts express positive or negative sentiment?\n",
            "Text: We had a great time at the party.\n",
            "Sentiment: Positive\n",
            "\n",
            "Text: I rarely go to the gym after work.\n",
            "Sentiment: Negative\n",
            "\n",
            "Text: They enjoyed the concert last night\n",
            "Sentiment:\n"
          ]
        },
        {
          "output_type": "stream",
          "name": "stderr",
          "text": [
            "Setting `pad_token_id` to `eos_token_id`:50256 for open-end generation.\n"
          ]
        },
        {
          "output_type": "stream",
          "name": "stdout",
          "text": [
            "Do the following texts express positive or negative sentiment?\n",
            "Text: We had a great time at the party.\n",
            "Sentiment: Positive\n",
            "\n",
            "Text: I rarely go to the gym after work.\n",
            "Sentiment: Negative\n",
            "\n",
            "Text: The flowers in the garden are blooming beautifully\n",
            "Sentiment:\n"
          ]
        },
        {
          "output_type": "stream",
          "name": "stderr",
          "text": [
            "Setting `pad_token_id` to `eos_token_id`:50256 for open-end generation.\n"
          ]
        },
        {
          "output_type": "stream",
          "name": "stdout",
          "text": [
            "Do the following texts express positive or negative sentiment?\n",
            "Text: We had a great time at the party.\n",
            "Sentiment: Positive\n",
            "\n",
            "Text: I rarely go to the gym after work.\n",
            "Sentiment: Negative\n",
            "\n",
            "Text: He received a promotion at work.\n",
            "Sentiment:\n"
          ]
        },
        {
          "output_type": "stream",
          "name": "stderr",
          "text": [
            "Setting `pad_token_id` to `eos_token_id`:50256 for open-end generation.\n"
          ]
        },
        {
          "output_type": "stream",
          "name": "stdout",
          "text": [
            "Do the following texts express positive or negative sentiment?\n",
            "Text: We had a great time at the party.\n",
            "Sentiment: Positive\n",
            "\n",
            "Text: I rarely go to the gym after work.\n",
            "Sentiment: Negative\n",
            "\n",
            "Text: I am not flying to England.\n",
            "Sentiment:\n"
          ]
        },
        {
          "output_type": "stream",
          "name": "stderr",
          "text": [
            "Setting `pad_token_id` to `eos_token_id`:50256 for open-end generation.\n"
          ]
        },
        {
          "output_type": "stream",
          "name": "stdout",
          "text": [
            "Do the following texts express positive or negative sentiment?\n",
            "Text: We had a great time at the party.\n",
            "Sentiment: Positive\n",
            "\n",
            "Text: I rarely go to the gym after work.\n",
            "Sentiment: Negative\n",
            "\n",
            "Text: That isn't the way to Nashville.\n",
            "Sentiment:\n"
          ]
        },
        {
          "output_type": "stream",
          "name": "stderr",
          "text": [
            "Setting `pad_token_id` to `eos_token_id`:50256 for open-end generation.\n"
          ]
        },
        {
          "output_type": "stream",
          "name": "stdout",
          "text": [
            "Do the following texts express positive or negative sentiment?\n",
            "Text: We had a great time at the party.\n",
            "Sentiment: Positive\n",
            "\n",
            "Text: I rarely go to the gym after work.\n",
            "Sentiment: Negative\n",
            "\n",
            "Text: They are not from Ecuador.\n",
            "Sentiment:\n"
          ]
        },
        {
          "output_type": "stream",
          "name": "stderr",
          "text": [
            "Setting `pad_token_id` to `eos_token_id`:50256 for open-end generation.\n"
          ]
        },
        {
          "output_type": "stream",
          "name": "stdout",
          "text": [
            "Do the following texts express positive or negative sentiment?\n",
            "Text: We had a great time at the party.\n",
            "Sentiment: Positive\n",
            "\n",
            "Text: I rarely go to the gym after work.\n",
            "Sentiment: Negative\n",
            "\n",
            "Text: He wasn't eating white rice.\n",
            "Sentiment:\n"
          ]
        },
        {
          "output_type": "stream",
          "name": "stderr",
          "text": [
            "Setting `pad_token_id` to `eos_token_id`:50256 for open-end generation.\n"
          ]
        },
        {
          "output_type": "stream",
          "name": "stdout",
          "text": [
            "Do the following texts express positive or negative sentiment?\n",
            "Text: We had a great time at the party.\n",
            "Sentiment: Positive\n",
            "\n",
            "Text: I rarely go to the gym after work.\n",
            "Sentiment: Negative\n",
            "\n",
            "Text: We were not sad when he moved away.\n",
            "Sentiment:\n"
          ]
        },
        {
          "output_type": "stream",
          "name": "stderr",
          "text": [
            "Setting `pad_token_id` to `eos_token_id`:50256 for open-end generation.\n"
          ]
        },
        {
          "output_type": "stream",
          "name": "stdout",
          "text": [
            "Do the following texts express positive or negative sentiment?\n",
            "Text: We had a great time at the party.\n",
            "Sentiment: Positive\n",
            "\n",
            "Text: I rarely go to the gym after work.\n",
            "Sentiment: Negative\n",
            "\n",
            "Text: They don't practice yoga.\n",
            "Sentiment:\n",
            "******************** END **********************\n",
            "******************** START TWO-SHOT ********************\n"
          ]
        },
        {
          "output_type": "stream",
          "name": "stderr",
          "text": [
            "Setting `pad_token_id` to `eos_token_id`:50256 for open-end generation.\n"
          ]
        },
        {
          "output_type": "stream",
          "name": "stdout",
          "text": [
            "Do the following texts express positive or negative sentiment?\n",
            "Text: She is a talented singer.\n",
            "Sentiment: Positive\n",
            "\n",
            "Text: We had a great time at the party.\n",
            "Sentiment Positive\n",
            "\n",
            "Text: My guests are not arriving\n",
            "Sentiment: Negative\n",
            "\n",
            "Text: I rarely go to the gym after work.\n",
            "Sentiment: Negative\n",
            "\n",
            "Text: The sun is shining brightly\n",
            "Sentiment: Positive\n"
          ]
        },
        {
          "output_type": "stream",
          "name": "stderr",
          "text": [
            "Setting `pad_token_id` to `eos_token_id`:50256 for open-end generation.\n"
          ]
        },
        {
          "output_type": "stream",
          "name": "stdout",
          "text": [
            "Do the following texts express positive or negative sentiment?\n",
            "Text: She is a talented singer.\n",
            "Sentiment: Positive\n",
            "\n",
            "Text: We had a great time at the party.\n",
            "Sentiment Positive\n",
            "\n",
            "Text: My guests are not arriving\n",
            "Sentiment: Negative\n",
            "\n",
            "Text: I rarely go to the gym after work.\n",
            "Sentiment: Negative\n",
            "\n",
            "Text: She completed the project ahead of schedule\n",
            "Sentiment: Negative\n"
          ]
        },
        {
          "output_type": "stream",
          "name": "stderr",
          "text": [
            "Setting `pad_token_id` to `eos_token_id`:50256 for open-end generation.\n"
          ]
        },
        {
          "output_type": "stream",
          "name": "stdout",
          "text": [
            "Do the following texts express positive or negative sentiment?\n",
            "Text: She is a talented singer.\n",
            "Sentiment: Positive\n",
            "\n",
            "Text: We had a great time at the party.\n",
            "Sentiment Positive\n",
            "\n",
            "Text: My guests are not arriving\n",
            "Sentiment: Negative\n",
            "\n",
            "Text: I rarely go to the gym after work.\n",
            "Sentiment: Negative\n",
            "\n",
            "Text: They enjoyed the concert last night\n",
            "Sentiment: Positive\n"
          ]
        },
        {
          "output_type": "stream",
          "name": "stderr",
          "text": [
            "Setting `pad_token_id` to `eos_token_id`:50256 for open-end generation.\n"
          ]
        },
        {
          "output_type": "stream",
          "name": "stdout",
          "text": [
            "Do the following texts express positive or negative sentiment?\n",
            "Text: She is a talented singer.\n",
            "Sentiment: Positive\n",
            "\n",
            "Text: We had a great time at the party.\n",
            "Sentiment Positive\n",
            "\n",
            "Text: My guests are not arriving\n",
            "Sentiment: Negative\n",
            "\n",
            "Text: I rarely go to the gym after work.\n",
            "Sentiment: Negative\n",
            "\n",
            "Text: The flowers in the garden are blooming beautifully\n",
            "Sentiment: Positive\n"
          ]
        },
        {
          "output_type": "stream",
          "name": "stderr",
          "text": [
            "Setting `pad_token_id` to `eos_token_id`:50256 for open-end generation.\n"
          ]
        },
        {
          "output_type": "stream",
          "name": "stdout",
          "text": [
            "Do the following texts express positive or negative sentiment?\n",
            "Text: She is a talented singer.\n",
            "Sentiment: Positive\n",
            "\n",
            "Text: We had a great time at the party.\n",
            "Sentiment Positive\n",
            "\n",
            "Text: My guests are not arriving\n",
            "Sentiment: Negative\n",
            "\n",
            "Text: I rarely go to the gym after work.\n",
            "Sentiment: Negative\n",
            "\n",
            "Text: He received a promotion at work.\n",
            "Sentiment: Positive\n"
          ]
        },
        {
          "output_type": "stream",
          "name": "stderr",
          "text": [
            "Setting `pad_token_id` to `eos_token_id`:50256 for open-end generation.\n"
          ]
        },
        {
          "output_type": "stream",
          "name": "stdout",
          "text": [
            "Do the following texts express positive or negative sentiment?\n",
            "Text: She is a talented singer.\n",
            "Sentiment: Positive\n",
            "\n",
            "Text: We had a great time at the party.\n",
            "Sentiment Positive\n",
            "\n",
            "Text: My guests are not arriving\n",
            "Sentiment: Negative\n",
            "\n",
            "Text: I rarely go to the gym after work.\n",
            "Sentiment: Negative\n",
            "\n",
            "Text: I am not flying to England.\n",
            "Sentiment: Positive\n"
          ]
        },
        {
          "output_type": "stream",
          "name": "stderr",
          "text": [
            "Setting `pad_token_id` to `eos_token_id`:50256 for open-end generation.\n"
          ]
        },
        {
          "output_type": "stream",
          "name": "stdout",
          "text": [
            "Do the following texts express positive or negative sentiment?\n",
            "Text: She is a talented singer.\n",
            "Sentiment: Positive\n",
            "\n",
            "Text: We had a great time at the party.\n",
            "Sentiment Positive\n",
            "\n",
            "Text: My guests are not arriving\n",
            "Sentiment: Negative\n",
            "\n",
            "Text: I rarely go to the gym after work.\n",
            "Sentiment: Negative\n",
            "\n",
            "Text: That isn't the way to Nashville.\n",
            "Sentiment: Positive\n"
          ]
        },
        {
          "output_type": "stream",
          "name": "stderr",
          "text": [
            "Setting `pad_token_id` to `eos_token_id`:50256 for open-end generation.\n"
          ]
        },
        {
          "output_type": "stream",
          "name": "stdout",
          "text": [
            "Do the following texts express positive or negative sentiment?\n",
            "Text: She is a talented singer.\n",
            "Sentiment: Positive\n",
            "\n",
            "Text: We had a great time at the party.\n",
            "Sentiment Positive\n",
            "\n",
            "Text: My guests are not arriving\n",
            "Sentiment: Negative\n",
            "\n",
            "Text: I rarely go to the gym after work.\n",
            "Sentiment: Negative\n",
            "\n",
            "Text: They are not from Ecuador.\n",
            "Sentiment: Negative\n"
          ]
        },
        {
          "output_type": "stream",
          "name": "stderr",
          "text": [
            "Setting `pad_token_id` to `eos_token_id`:50256 for open-end generation.\n"
          ]
        },
        {
          "output_type": "stream",
          "name": "stdout",
          "text": [
            "Do the following texts express positive or negative sentiment?\n",
            "Text: She is a talented singer.\n",
            "Sentiment: Positive\n",
            "\n",
            "Text: We had a great time at the party.\n",
            "Sentiment Positive\n",
            "\n",
            "Text: My guests are not arriving\n",
            "Sentiment: Negative\n",
            "\n",
            "Text: I rarely go to the gym after work.\n",
            "Sentiment: Negative\n",
            "\n",
            "Text: He wasn't eating white rice.\n",
            "Sentiment: Negative\n"
          ]
        },
        {
          "output_type": "stream",
          "name": "stderr",
          "text": [
            "Setting `pad_token_id` to `eos_token_id`:50256 for open-end generation.\n"
          ]
        },
        {
          "output_type": "stream",
          "name": "stdout",
          "text": [
            "Do the following texts express positive or negative sentiment?\n",
            "Text: She is a talented singer.\n",
            "Sentiment: Positive\n",
            "\n",
            "Text: We had a great time at the party.\n",
            "Sentiment Positive\n",
            "\n",
            "Text: My guests are not arriving\n",
            "Sentiment: Negative\n",
            "\n",
            "Text: I rarely go to the gym after work.\n",
            "Sentiment: Negative\n",
            "\n",
            "Text: We were not sad when he moved away.\n",
            "Sentiment: Positive\n",
            "Do the following texts express positive or negative sentiment?\n",
            "Text: She is a talented singer.\n",
            "Sentiment: Positive\n",
            "\n",
            "Text: We had a great time at the party.\n",
            "Sentiment Positive\n",
            "\n",
            "Text: My guests are not arriving\n",
            "Sentiment: Negative\n",
            "\n",
            "Text: I rarely go to the gym after work.\n",
            "Sentiment: Negative\n",
            "\n",
            "Text: They don't practice yoga.\n",
            "Sentiment: Positive\n",
            "******************** END **********************\n"
          ]
        }
      ]
    },
    {
      "cell_type": "markdown",
      "source": [
        "Sentiment analysis did not know what to do in zero-shot and one-shot. Two-shot worked at least in pos neg axis, not all were correct tho."
      ],
      "metadata": {
        "id": "402lK6TM0q_m"
      }
    },
    {
      "cell_type": "markdown",
      "source": [
        "## PERSON NAME RECOGNITION"
      ],
      "metadata": {
        "id": "g1V8icRx1d4f"
      }
    },
    {
      "cell_type": "code",
      "source": [
        "NAMES = [\n",
        "    \"Joe is arguably the best hand to hand fighter in the entire show. Despite his condition, it has been seen on numerous occasions that he is able to completely overwhelm other characters who are accomplished fighters in their own right such as Lois and Peter,\",\n",
        "    \"Stewie is well-spoken, with an advanced vocabulary, an upper-class British accent and an ambiguous sexual orientation.\",\n",
        "    \"Lois forced Meg to practice the piano through the use of an ankle bracelet attached to an iron ball and forcibly restrained her when she tried to ask Peter for help.\",\n",
        "]"
      ],
      "metadata": {
        "id": "UN4_xz1O1Vs1"
      },
      "execution_count": 110,
      "outputs": []
    },
    {
      "cell_type": "code",
      "source": [
        "# ZERO-SHOT\n",
        "pnr_prompt_zero = \"\"\"List the person names occurring in the following texts.\n",
        "\n",
        "Text: {}\n",
        "Names:\"\"\"\n",
        "\n",
        "pnr_promt_one = \"\"\"List the person names occurring in the following texts.\n",
        "\n",
        "Text: Joe calls Lola from the road and tells her he cannot walk any further, but she convinces him to keep going for Jadin.\n",
        "Names: Joe, Lola, Jadin\n",
        "\n",
        "Text: {}\n",
        "Names:\"\"\"\n",
        "\n",
        "pnr_promt_two = \"\"\"List the person names occurring in the following texts.\n",
        "\n",
        "Text: Joe calls Lola from the road and tells her he cannot walk any further, but she convinces him to keep going for Jadin.\n",
        "Names: Joe, Lola, Jadin\n",
        "\n",
        "Text: The film ends with Joe and Jadin meeting in a field, walking together towards the sunlight. As the credits roll, images and videos of the real Bell family are shown.\n",
        "Names: Joe, Jadin, Bell\n",
        "\n",
        "Text: {}\n",
        "Names:\"\"\"\n",
        "\n",
        "\n",
        "PNR = [pnr_prompt_zero, pnr_promt_one, pnr_promt_two]"
      ],
      "metadata": {
        "id": "mGbbLkyD2g3j"
      },
      "execution_count": 111,
      "outputs": []
    },
    {
      "cell_type": "code",
      "source": [
        "\n",
        "for i, pnr in enumerate(PNR):\n",
        "  print(\"*\"*20, 'START', LABELS[i], \"*\"*20)\n",
        "  for n in NAMES:\n",
        "    print(\"!\"*20, 'EXAMPLE START', \"!\"*20)\n",
        "    print(results(pnr.format(n), 4))\n",
        "    print(\"!\"*20, 'EXAMPLE END', \"!\"*2)\n",
        "  print(\"*\"*20, 'END', \"*\"*22)\n"
      ],
      "metadata": {
        "colab": {
          "base_uri": "https://localhost:8080/"
        },
        "id": "aF8JFzdq3O2n",
        "outputId": "f8c48e95-9964-4acb-de0e-a26124fc5f81"
      },
      "execution_count": 112,
      "outputs": [
        {
          "output_type": "stream",
          "name": "stderr",
          "text": [
            "Setting `pad_token_id` to `eos_token_id`:50256 for open-end generation.\n"
          ]
        },
        {
          "output_type": "stream",
          "name": "stdout",
          "text": [
            "******************** START ZERO-SHOT ********************\n",
            "!!!!!!!!!!!!!!!!!!!! EXAMPLE START !!!!!!!!!!!!!!!!!!!!\n"
          ]
        },
        {
          "output_type": "stream",
          "name": "stderr",
          "text": [
            "Setting `pad_token_id` to `eos_token_id`:50256 for open-end generation.\n"
          ]
        },
        {
          "output_type": "stream",
          "name": "stdout",
          "text": [
            "List the person names occurring in the following texts.\n",
            "\n",
            "Text: Joe is arguably the best hand to hand fighter in the entire show. Despite his condition, it has been seen on numerous occasions that he is able to completely overwhelm other characters who are accomplished fighters in their own right such as Lois and Peter,\n",
            "Names: Martha, Lois,\n",
            "!!!!!!!!!!!!!!!!!!!! EXAMPLE END !!\n",
            "!!!!!!!!!!!!!!!!!!!! EXAMPLE START !!!!!!!!!!!!!!!!!!!!\n"
          ]
        },
        {
          "output_type": "stream",
          "name": "stderr",
          "text": [
            "Setting `pad_token_id` to `eos_token_id`:50256 for open-end generation.\n"
          ]
        },
        {
          "output_type": "stream",
          "name": "stdout",
          "text": [
            "List the person names occurring in the following texts.\n",
            "\n",
            "Text: Stewie is well-spoken, with an advanced vocabulary, an upper-class British accent and an ambiguous sexual orientation.\n",
            "Names: Stewie is a\n",
            "!!!!!!!!!!!!!!!!!!!! EXAMPLE END !!\n",
            "!!!!!!!!!!!!!!!!!!!! EXAMPLE START !!!!!!!!!!!!!!!!!!!!\n"
          ]
        },
        {
          "output_type": "stream",
          "name": "stderr",
          "text": [
            "Setting `pad_token_id` to `eos_token_id`:50256 for open-end generation.\n"
          ]
        },
        {
          "output_type": "stream",
          "name": "stdout",
          "text": [
            "List the person names occurring in the following texts.\n",
            "\n",
            "Text: Lois forced Meg to practice the piano through the use of an ankle bracelet attached to an iron ball and forcibly restrained her when she tried to ask Peter for help.\n",
            "Names: Lois: Catman\n",
            "!!!!!!!!!!!!!!!!!!!! EXAMPLE END !!\n",
            "******************** END **********************\n",
            "******************** START ONE-SHOT ********************\n",
            "!!!!!!!!!!!!!!!!!!!! EXAMPLE START !!!!!!!!!!!!!!!!!!!!\n"
          ]
        },
        {
          "output_type": "stream",
          "name": "stderr",
          "text": [
            "Setting `pad_token_id` to `eos_token_id`:50256 for open-end generation.\n"
          ]
        },
        {
          "output_type": "stream",
          "name": "stdout",
          "text": [
            "List the person names occurring in the following texts.\n",
            "\n",
            "Text: Joe calls Lola from the road and tells her he cannot walk any further, but she convinces him to keep going for Jadin.\n",
            "Names: Joe, Lola, Jadin\n",
            "\n",
            "Text: Joe is arguably the best hand to hand fighter in the entire show. Despite his condition, it has been seen on numerous occasions that he is able to completely overwhelm other characters who are accomplished fighters in their own right such as Lois and Peter,\n",
            "Names: Joe, Lois\n",
            "\n",
            "!!!!!!!!!!!!!!!!!!!! EXAMPLE END !!\n",
            "!!!!!!!!!!!!!!!!!!!! EXAMPLE START !!!!!!!!!!!!!!!!!!!!\n"
          ]
        },
        {
          "output_type": "stream",
          "name": "stderr",
          "text": [
            "Setting `pad_token_id` to `eos_token_id`:50256 for open-end generation.\n"
          ]
        },
        {
          "output_type": "stream",
          "name": "stdout",
          "text": [
            "List the person names occurring in the following texts.\n",
            "\n",
            "Text: Joe calls Lola from the road and tells her he cannot walk any further, but she convinces him to keep going for Jadin.\n",
            "Names: Joe, Lola, Jadin\n",
            "\n",
            "Text: Stewie is well-spoken, with an advanced vocabulary, an upper-class British accent and an ambiguous sexual orientation.\n",
            "Names: Joe, Stewie\n",
            "!!!!!!!!!!!!!!!!!!!! EXAMPLE END !!\n",
            "!!!!!!!!!!!!!!!!!!!! EXAMPLE START !!!!!!!!!!!!!!!!!!!!\n"
          ]
        },
        {
          "output_type": "stream",
          "name": "stderr",
          "text": [
            "Setting `pad_token_id` to `eos_token_id`:50256 for open-end generation.\n"
          ]
        },
        {
          "output_type": "stream",
          "name": "stdout",
          "text": [
            "List the person names occurring in the following texts.\n",
            "\n",
            "Text: Joe calls Lola from the road and tells her he cannot walk any further, but she convinces him to keep going for Jadin.\n",
            "Names: Joe, Lola, Jadin\n",
            "\n",
            "Text: Lois forced Meg to practice the piano through the use of an ankle bracelet attached to an iron ball and forcibly restrained her when she tried to ask Peter for help.\n",
            "Names: Peter, Lois,\n",
            "!!!!!!!!!!!!!!!!!!!! EXAMPLE END !!\n",
            "******************** END **********************\n",
            "******************** START TWO-SHOT ********************\n",
            "!!!!!!!!!!!!!!!!!!!! EXAMPLE START !!!!!!!!!!!!!!!!!!!!\n"
          ]
        },
        {
          "output_type": "stream",
          "name": "stderr",
          "text": [
            "Setting `pad_token_id` to `eos_token_id`:50256 for open-end generation.\n"
          ]
        },
        {
          "output_type": "stream",
          "name": "stdout",
          "text": [
            "List the person names occurring in the following texts.\n",
            "\n",
            "Text: Joe calls Lola from the road and tells her he cannot walk any further, but she convinces him to keep going for Jadin.\n",
            "Names: Joe, Lola, Jadin\n",
            "\n",
            "Text: The film ends with Joe and Jadin meeting in a field, walking together towards the sunlight. As the credits roll, images and videos of the real Bell family are shown.\n",
            "Names: Joe, Jadin, Bell\n",
            "\n",
            "Text: Joe is arguably the best hand to hand fighter in the entire show. Despite his condition, it has been seen on numerous occasions that he is able to completely overwhelm other characters who are accomplished fighters in their own right such as Lois and Peter,\n",
            "Names: Joe, Peter,\n",
            "!!!!!!!!!!!!!!!!!!!! EXAMPLE END !!\n",
            "!!!!!!!!!!!!!!!!!!!! EXAMPLE START !!!!!!!!!!!!!!!!!!!!\n"
          ]
        },
        {
          "output_type": "stream",
          "name": "stderr",
          "text": [
            "Setting `pad_token_id` to `eos_token_id`:50256 for open-end generation.\n"
          ]
        },
        {
          "output_type": "stream",
          "name": "stdout",
          "text": [
            "List the person names occurring in the following texts.\n",
            "\n",
            "Text: Joe calls Lola from the road and tells her he cannot walk any further, but she convinces him to keep going for Jadin.\n",
            "Names: Joe, Lola, Jadin\n",
            "\n",
            "Text: The film ends with Joe and Jadin meeting in a field, walking together towards the sunlight. As the credits roll, images and videos of the real Bell family are shown.\n",
            "Names: Joe, Jadin, Bell\n",
            "\n",
            "Text: Stewie is well-spoken, with an advanced vocabulary, an upper-class British accent and an ambiguous sexual orientation.\n",
            "Names: Lisa, Stewie\n",
            "!!!!!!!!!!!!!!!!!!!! EXAMPLE END !!\n",
            "!!!!!!!!!!!!!!!!!!!! EXAMPLE START !!!!!!!!!!!!!!!!!!!!\n",
            "List the person names occurring in the following texts.\n",
            "\n",
            "Text: Joe calls Lola from the road and tells her he cannot walk any further, but she convinces him to keep going for Jadin.\n",
            "Names: Joe, Lola, Jadin\n",
            "\n",
            "Text: The film ends with Joe and Jadin meeting in a field, walking together towards the sunlight. As the credits roll, images and videos of the real Bell family are shown.\n",
            "Names: Joe, Jadin, Bell\n",
            "\n",
            "Text: Lois forced Meg to practice the piano through the use of an ankle bracelet attached to an iron ball and forcibly restrained her when she tried to ask Peter for help.\n",
            "Names: Joe, Meg,\n",
            "!!!!!!!!!!!!!!!!!!!! EXAMPLE END !!\n",
            "******************** END **********************\n"
          ]
        }
      ]
    },
    {
      "cell_type": "markdown",
      "source": [
        "Two-shot works pretty well, others not so\n"
      ],
      "metadata": {
        "id": "bMku4HYv5Xkz"
      }
    },
    {
      "cell_type": "markdown",
      "source": [
        "## TWO-DIGIT ADDITION"
      ],
      "metadata": {
        "id": "c4SE0Nvi58ok"
      }
    },
    {
      "cell_type": "code",
      "source": [
        "CASES = ['11 + 22', '12 + 23', '34 + 45']"
      ],
      "metadata": {
        "id": "3DnP_Ivu6ASc"
      },
      "execution_count": 113,
      "outputs": []
    },
    {
      "cell_type": "code",
      "source": [
        "#ZERO-SHOT\n",
        "\n",
        "addition_zero = \"\"\"This is a first grade math exam.\n",
        "Case: {}\n",
        "Answer\"\"\"\n",
        "\n",
        "addition_one = \"\"\"This is a first grade math exam.\n",
        "Case: 10 + 10\n",
        "Answer: 20\n",
        "\n",
        "Case: {}\n",
        "Answer:\"\"\"\n",
        "\n",
        "addition_two = \"\"\"This is a first grade math exam.\n",
        "Case: 10 + 10\n",
        "Answer: 20\n",
        "\n",
        "Case: 5 + 5\n",
        "Answer: 10\n",
        "\n",
        "Case: {}\n",
        "Answer:\"\"\"\n",
        "\n",
        "ADDITIONS = [addition_zero, addition_one, addition_two]"
      ],
      "metadata": {
        "id": "x9OGvreM6QhW"
      },
      "execution_count": 114,
      "outputs": []
    },
    {
      "cell_type": "code",
      "source": [
        "for i, addi in enumerate(ADDITIONS):\n",
        "  print(\"*\"*20, 'START', LABELS[i], \"*\"*20)\n",
        "  for c in CASES:\n",
        "    print(\"!\"*20, 'EXAMPLE START', \"!\"*20)\n",
        "    print(results(addi.format(c), 1))\n",
        "    print(\"!\"*20, 'EXAMPLE END', \"!\"*2)\n",
        "  print(\"*\"*20, 'END', \"*\"*22)\n"
      ],
      "metadata": {
        "colab": {
          "base_uri": "https://localhost:8080/"
        },
        "id": "OKtLzBKY6t7B",
        "outputId": "4d94079c-fa01-4f29-9b5b-1a91ae70d10c"
      },
      "execution_count": 115,
      "outputs": [
        {
          "output_type": "stream",
          "name": "stderr",
          "text": [
            "Setting `pad_token_id` to `eos_token_id`:50256 for open-end generation.\n"
          ]
        },
        {
          "output_type": "stream",
          "name": "stdout",
          "text": [
            "******************** START ZERO-SHOT ********************\n",
            "!!!!!!!!!!!!!!!!!!!! EXAMPLE START !!!!!!!!!!!!!!!!!!!!\n"
          ]
        },
        {
          "output_type": "stream",
          "name": "stderr",
          "text": [
            "Setting `pad_token_id` to `eos_token_id`:50256 for open-end generation.\n"
          ]
        },
        {
          "output_type": "stream",
          "name": "stdout",
          "text": [
            "This is a first grade math exam.\n",
            "Case: 11 + 22\n",
            "Answer:\n",
            "!!!!!!!!!!!!!!!!!!!! EXAMPLE END !!\n",
            "!!!!!!!!!!!!!!!!!!!! EXAMPLE START !!!!!!!!!!!!!!!!!!!!\n"
          ]
        },
        {
          "output_type": "stream",
          "name": "stderr",
          "text": [
            "Setting `pad_token_id` to `eos_token_id`:50256 for open-end generation.\n"
          ]
        },
        {
          "output_type": "stream",
          "name": "stdout",
          "text": [
            "This is a first grade math exam.\n",
            "Case: 12 + 23\n",
            "Answer:\n",
            "!!!!!!!!!!!!!!!!!!!! EXAMPLE END !!\n",
            "!!!!!!!!!!!!!!!!!!!! EXAMPLE START !!!!!!!!!!!!!!!!!!!!\n"
          ]
        },
        {
          "output_type": "stream",
          "name": "stderr",
          "text": [
            "Setting `pad_token_id` to `eos_token_id`:50256 for open-end generation.\n"
          ]
        },
        {
          "output_type": "stream",
          "name": "stdout",
          "text": [
            "This is a first grade math exam.\n",
            "Case: 34 + 45\n",
            "Answer:\n",
            "!!!!!!!!!!!!!!!!!!!! EXAMPLE END !!\n",
            "******************** END **********************\n",
            "******************** START ONE-SHOT ********************\n",
            "!!!!!!!!!!!!!!!!!!!! EXAMPLE START !!!!!!!!!!!!!!!!!!!!\n"
          ]
        },
        {
          "output_type": "stream",
          "name": "stderr",
          "text": [
            "Setting `pad_token_id` to `eos_token_id`:50256 for open-end generation.\n"
          ]
        },
        {
          "output_type": "stream",
          "name": "stdout",
          "text": [
            "This is a first grade math exam.\n",
            "Case: 10 + 10\n",
            "Answer: 20\n",
            "\n",
            "Case: 11 + 22\n",
            "Answer: 23\n",
            "!!!!!!!!!!!!!!!!!!!! EXAMPLE END !!\n",
            "!!!!!!!!!!!!!!!!!!!! EXAMPLE START !!!!!!!!!!!!!!!!!!!!\n"
          ]
        },
        {
          "output_type": "stream",
          "name": "stderr",
          "text": [
            "Setting `pad_token_id` to `eos_token_id`:50256 for open-end generation.\n"
          ]
        },
        {
          "output_type": "stream",
          "name": "stdout",
          "text": [
            "This is a first grade math exam.\n",
            "Case: 10 + 10\n",
            "Answer: 20\n",
            "\n",
            "Case: 12 + 23\n",
            "Answer: 24\n",
            "!!!!!!!!!!!!!!!!!!!! EXAMPLE END !!\n",
            "!!!!!!!!!!!!!!!!!!!! EXAMPLE START !!!!!!!!!!!!!!!!!!!!\n"
          ]
        },
        {
          "output_type": "stream",
          "name": "stderr",
          "text": [
            "Setting `pad_token_id` to `eos_token_id`:50256 for open-end generation.\n"
          ]
        },
        {
          "output_type": "stream",
          "name": "stdout",
          "text": [
            "This is a first grade math exam.\n",
            "Case: 10 + 10\n",
            "Answer: 20\n",
            "\n",
            "Case: 34 + 45\n",
            "Answer: 80\n",
            "!!!!!!!!!!!!!!!!!!!! EXAMPLE END !!\n",
            "******************** END **********************\n",
            "******************** START TWO-SHOT ********************\n",
            "!!!!!!!!!!!!!!!!!!!! EXAMPLE START !!!!!!!!!!!!!!!!!!!!\n"
          ]
        },
        {
          "output_type": "stream",
          "name": "stderr",
          "text": [
            "Setting `pad_token_id` to `eos_token_id`:50256 for open-end generation.\n"
          ]
        },
        {
          "output_type": "stream",
          "name": "stdout",
          "text": [
            "This is a first grade math exam.\n",
            "Case: 10 + 10\n",
            "Answer: 20\n",
            "\n",
            "Case: 5 + 5\n",
            "Answer: 10\n",
            "\n",
            "Case: 11 + 22\n",
            "Answer: 4\n",
            "!!!!!!!!!!!!!!!!!!!! EXAMPLE END !!\n",
            "!!!!!!!!!!!!!!!!!!!! EXAMPLE START !!!!!!!!!!!!!!!!!!!!\n"
          ]
        },
        {
          "output_type": "stream",
          "name": "stderr",
          "text": [
            "Setting `pad_token_id` to `eos_token_id`:50256 for open-end generation.\n"
          ]
        },
        {
          "output_type": "stream",
          "name": "stdout",
          "text": [
            "This is a first grade math exam.\n",
            "Case: 10 + 10\n",
            "Answer: 20\n",
            "\n",
            "Case: 5 + 5\n",
            "Answer: 10\n",
            "\n",
            "Case: 12 + 23\n",
            "Answer: 32\n",
            "!!!!!!!!!!!!!!!!!!!! EXAMPLE END !!\n",
            "!!!!!!!!!!!!!!!!!!!! EXAMPLE START !!!!!!!!!!!!!!!!!!!!\n",
            "This is a first grade math exam.\n",
            "Case: 10 + 10\n",
            "Answer: 20\n",
            "\n",
            "Case: 5 + 5\n",
            "Answer: 10\n",
            "\n",
            "Case: 34 + 45\n",
            "Answer: 65\n",
            "!!!!!!!!!!!!!!!!!!!! EXAMPLE END !!\n",
            "******************** END **********************\n"
          ]
        }
      ]
    },
    {
      "cell_type": "markdown",
      "source": [
        "Did not see any correct answer in many runs..."
      ],
      "metadata": {
        "id": "RBn-g2Vo7XG_"
      }
    },
    {
      "cell_type": "markdown",
      "source": [
        "## CAPITAL OF A COUNTRY"
      ],
      "metadata": {
        "id": "xCF0UCharT5c"
      }
    },
    {
      "cell_type": "code",
      "source": [
        "COUNTRIES = ['Finland', 'Norway', 'Estonia', 'Germany', 'France']\n"
      ],
      "metadata": {
        "id": "wdDblkFTr2vZ"
      },
      "execution_count": 116,
      "outputs": []
    },
    {
      "cell_type": "code",
      "source": [
        "\n",
        "\"\"\"\n",
        "\n",
        "FROM MOODLE\n",
        "\n",
        "Identify the capital cities of countries.\n",
        "\n",
        "Question: What is the capital of Sweden?\n",
        "Answer: Stockholm\n",
        "\n",
        "Question: What is the capital of Denmark?\n",
        "Answer: Copenhagen\n",
        "\n",
        "Question: What is the capital of Finland?\n",
        "Answer:\n",
        "\n",
        "\"\"\"\n",
        "\n",
        "#ZERO-SHOT\n",
        "country_prompt_zero = \"\"\"Identify the capital cities of countries.\n",
        "\n",
        "Question: What is the capital of {}?\n",
        "Answer:\"\"\"\n",
        "\n",
        "#ONE-SHOT\n",
        "country_prompt_one = \"\"\"Identify the capital cities of countries.\n",
        "\n",
        "Question: What is the capital of Sweden?\n",
        "Answer: Stockholm\n",
        "\n",
        "Question: What is the capital of {}?\n",
        "Answer:\"\"\"\n",
        "\n",
        "#TWO-SHOT\n",
        "country_prompt_two = \"\"\"Identify the capital cities of countries.\n",
        "\n",
        "Question: What is the capital of Sweden?\n",
        "Answer: Stockholm\n",
        "\n",
        "Question: What is the capital of Denmark?\n",
        "Answer: Copenhagen\n",
        "\n",
        "Question: What is the capital of {}?\n",
        "Answer:\"\"\"\n",
        "\n",
        "COUNTRY_PROMPTS = [country_prompt_zero, country_prompt_one, country_prompt_two]"
      ],
      "metadata": {
        "id": "wJnwKHdAs6Bh"
      },
      "execution_count": 117,
      "outputs": []
    },
    {
      "cell_type": "code",
      "source": [
        "for i, cp in enumerate(COUNTRY_PROMPTS):\n",
        "  print(\"*\"*20, 'START', LABELS[i], \"*\"*20)\n",
        "  for c in COUNTRIES:\n",
        "    print(\"\")\n",
        "    print(\"!\"*20, 'EXAMPLE START', \"!\"*20)\n",
        "    print(results(cp.format(c), 1))\n",
        "    print(\"!\"*20, 'EXAMPLE END', \"!\"*2)\n",
        "    print(\"\")\n",
        "  print(\"*\"*20, 'END', \"*\"*22)\n"
      ],
      "metadata": {
        "colab": {
          "base_uri": "https://localhost:8080/"
        },
        "id": "VwQzaVXouIKX",
        "outputId": "db236b7e-55f3-430e-80e4-d81341d39c0f"
      },
      "execution_count": 118,
      "outputs": [
        {
          "output_type": "stream",
          "name": "stderr",
          "text": [
            "Setting `pad_token_id` to `eos_token_id`:50256 for open-end generation.\n"
          ]
        },
        {
          "output_type": "stream",
          "name": "stdout",
          "text": [
            "******************** START ZERO-SHOT ********************\n",
            "\n",
            "!!!!!!!!!!!!!!!!!!!! EXAMPLE START !!!!!!!!!!!!!!!!!!!!\n"
          ]
        },
        {
          "output_type": "stream",
          "name": "stderr",
          "text": [
            "Setting `pad_token_id` to `eos_token_id`:50256 for open-end generation.\n"
          ]
        },
        {
          "output_type": "stream",
          "name": "stdout",
          "text": [
            "Identify the capital cities of countries.\n",
            "\n",
            "Question: What is the capital of Finland?\n",
            "Answer: Helsinki\n",
            "!!!!!!!!!!!!!!!!!!!! EXAMPLE END !!\n",
            "\n",
            "\n",
            "!!!!!!!!!!!!!!!!!!!! EXAMPLE START !!!!!!!!!!!!!!!!!!!!\n"
          ]
        },
        {
          "output_type": "stream",
          "name": "stderr",
          "text": [
            "Setting `pad_token_id` to `eos_token_id`:50256 for open-end generation.\n"
          ]
        },
        {
          "output_type": "stream",
          "name": "stdout",
          "text": [
            "Identify the capital cities of countries.\n",
            "\n",
            "Question: What is the capital of Norway?\n",
            "Answer: The\n",
            "!!!!!!!!!!!!!!!!!!!! EXAMPLE END !!\n",
            "\n",
            "\n",
            "!!!!!!!!!!!!!!!!!!!! EXAMPLE START !!!!!!!!!!!!!!!!!!!!\n"
          ]
        },
        {
          "output_type": "stream",
          "name": "stderr",
          "text": [
            "Setting `pad_token_id` to `eos_token_id`:50256 for open-end generation.\n"
          ]
        },
        {
          "output_type": "stream",
          "name": "stdout",
          "text": [
            "Identify the capital cities of countries.\n",
            "\n",
            "Question: What is the capital of Estonia?\n",
            "Answer: Tall\n",
            "!!!!!!!!!!!!!!!!!!!! EXAMPLE END !!\n",
            "\n",
            "\n",
            "!!!!!!!!!!!!!!!!!!!! EXAMPLE START !!!!!!!!!!!!!!!!!!!!\n"
          ]
        },
        {
          "output_type": "stream",
          "name": "stderr",
          "text": [
            "Setting `pad_token_id` to `eos_token_id`:50256 for open-end generation.\n"
          ]
        },
        {
          "output_type": "stream",
          "name": "stdout",
          "text": [
            "Identify the capital cities of countries.\n",
            "\n",
            "Question: What is the capital of Germany?\n",
            "Answer: Munich\n",
            "!!!!!!!!!!!!!!!!!!!! EXAMPLE END !!\n",
            "\n",
            "\n",
            "!!!!!!!!!!!!!!!!!!!! EXAMPLE START !!!!!!!!!!!!!!!!!!!!\n"
          ]
        },
        {
          "output_type": "stream",
          "name": "stderr",
          "text": [
            "Setting `pad_token_id` to `eos_token_id`:50256 for open-end generation.\n"
          ]
        },
        {
          "output_type": "stream",
          "name": "stdout",
          "text": [
            "Identify the capital cities of countries.\n",
            "\n",
            "Question: What is the capital of France?\n",
            "Answer: Paris\n",
            "!!!!!!!!!!!!!!!!!!!! EXAMPLE END !!\n",
            "\n",
            "******************** END **********************\n",
            "******************** START ONE-SHOT ********************\n",
            "\n",
            "!!!!!!!!!!!!!!!!!!!! EXAMPLE START !!!!!!!!!!!!!!!!!!!!\n"
          ]
        },
        {
          "output_type": "stream",
          "name": "stderr",
          "text": [
            "Setting `pad_token_id` to `eos_token_id`:50256 for open-end generation.\n"
          ]
        },
        {
          "output_type": "stream",
          "name": "stdout",
          "text": [
            "Identify the capital cities of countries.\n",
            "\n",
            "Question: What is the capital of Sweden?\n",
            "Answer: Stockholm\n",
            "\n",
            "Question: What is the capital of Finland?\n",
            "Answer: Helsinki\n",
            "!!!!!!!!!!!!!!!!!!!! EXAMPLE END !!\n",
            "\n",
            "\n",
            "!!!!!!!!!!!!!!!!!!!! EXAMPLE START !!!!!!!!!!!!!!!!!!!!\n"
          ]
        },
        {
          "output_type": "stream",
          "name": "stderr",
          "text": [
            "Setting `pad_token_id` to `eos_token_id`:50256 for open-end generation.\n"
          ]
        },
        {
          "output_type": "stream",
          "name": "stdout",
          "text": [
            "Identify the capital cities of countries.\n",
            "\n",
            "Question: What is the capital of Sweden?\n",
            "Answer: Stockholm\n",
            "\n",
            "Question: What is the capital of Norway?\n",
            "Answer: Oslo\n",
            "!!!!!!!!!!!!!!!!!!!! EXAMPLE END !!\n",
            "\n",
            "\n",
            "!!!!!!!!!!!!!!!!!!!! EXAMPLE START !!!!!!!!!!!!!!!!!!!!\n"
          ]
        },
        {
          "output_type": "stream",
          "name": "stderr",
          "text": [
            "Setting `pad_token_id` to `eos_token_id`:50256 for open-end generation.\n"
          ]
        },
        {
          "output_type": "stream",
          "name": "stdout",
          "text": [
            "Identify the capital cities of countries.\n",
            "\n",
            "Question: What is the capital of Sweden?\n",
            "Answer: Stockholm\n",
            "\n",
            "Question: What is the capital of Estonia?\n",
            "Answer: Tall\n",
            "!!!!!!!!!!!!!!!!!!!! EXAMPLE END !!\n",
            "\n",
            "\n",
            "!!!!!!!!!!!!!!!!!!!! EXAMPLE START !!!!!!!!!!!!!!!!!!!!\n"
          ]
        },
        {
          "output_type": "stream",
          "name": "stderr",
          "text": [
            "Setting `pad_token_id` to `eos_token_id`:50256 for open-end generation.\n"
          ]
        },
        {
          "output_type": "stream",
          "name": "stdout",
          "text": [
            "Identify the capital cities of countries.\n",
            "\n",
            "Question: What is the capital of Sweden?\n",
            "Answer: Stockholm\n",
            "\n",
            "Question: What is the capital of Germany?\n",
            "Answer: Berlin\n",
            "!!!!!!!!!!!!!!!!!!!! EXAMPLE END !!\n",
            "\n",
            "\n",
            "!!!!!!!!!!!!!!!!!!!! EXAMPLE START !!!!!!!!!!!!!!!!!!!!\n"
          ]
        },
        {
          "output_type": "stream",
          "name": "stderr",
          "text": [
            "Setting `pad_token_id` to `eos_token_id`:50256 for open-end generation.\n"
          ]
        },
        {
          "output_type": "stream",
          "name": "stdout",
          "text": [
            "Identify the capital cities of countries.\n",
            "\n",
            "Question: What is the capital of Sweden?\n",
            "Answer: Stockholm\n",
            "\n",
            "Question: What is the capital of France?\n",
            "Answer: Paris\n",
            "!!!!!!!!!!!!!!!!!!!! EXAMPLE END !!\n",
            "\n",
            "******************** END **********************\n",
            "******************** START TWO-SHOT ********************\n",
            "\n",
            "!!!!!!!!!!!!!!!!!!!! EXAMPLE START !!!!!!!!!!!!!!!!!!!!\n"
          ]
        },
        {
          "output_type": "stream",
          "name": "stderr",
          "text": [
            "Setting `pad_token_id` to `eos_token_id`:50256 for open-end generation.\n"
          ]
        },
        {
          "output_type": "stream",
          "name": "stdout",
          "text": [
            "Identify the capital cities of countries.\n",
            "\n",
            "Question: What is the capital of Sweden?\n",
            "Answer: Stockholm\n",
            "\n",
            "Question: What is the capital of Denmark?\n",
            "Answer: Copenhagen\n",
            "\n",
            "Question: What is the capital of Finland?\n",
            "Answer: Helsinki\n",
            "!!!!!!!!!!!!!!!!!!!! EXAMPLE END !!\n",
            "\n",
            "\n",
            "!!!!!!!!!!!!!!!!!!!! EXAMPLE START !!!!!!!!!!!!!!!!!!!!\n"
          ]
        },
        {
          "output_type": "stream",
          "name": "stderr",
          "text": [
            "Setting `pad_token_id` to `eos_token_id`:50256 for open-end generation.\n"
          ]
        },
        {
          "output_type": "stream",
          "name": "stdout",
          "text": [
            "Identify the capital cities of countries.\n",
            "\n",
            "Question: What is the capital of Sweden?\n",
            "Answer: Stockholm\n",
            "\n",
            "Question: What is the capital of Denmark?\n",
            "Answer: Copenhagen\n",
            "\n",
            "Question: What is the capital of Norway?\n",
            "Answer: Ber\n",
            "!!!!!!!!!!!!!!!!!!!! EXAMPLE END !!\n",
            "\n",
            "\n",
            "!!!!!!!!!!!!!!!!!!!! EXAMPLE START !!!!!!!!!!!!!!!!!!!!\n"
          ]
        },
        {
          "output_type": "stream",
          "name": "stderr",
          "text": [
            "Setting `pad_token_id` to `eos_token_id`:50256 for open-end generation.\n"
          ]
        },
        {
          "output_type": "stream",
          "name": "stdout",
          "text": [
            "Identify the capital cities of countries.\n",
            "\n",
            "Question: What is the capital of Sweden?\n",
            "Answer: Stockholm\n",
            "\n",
            "Question: What is the capital of Denmark?\n",
            "Answer: Copenhagen\n",
            "\n",
            "Question: What is the capital of Estonia?\n",
            "Answer: Tall\n",
            "!!!!!!!!!!!!!!!!!!!! EXAMPLE END !!\n",
            "\n",
            "\n",
            "!!!!!!!!!!!!!!!!!!!! EXAMPLE START !!!!!!!!!!!!!!!!!!!!\n"
          ]
        },
        {
          "output_type": "stream",
          "name": "stderr",
          "text": [
            "Setting `pad_token_id` to `eos_token_id`:50256 for open-end generation.\n"
          ]
        },
        {
          "output_type": "stream",
          "name": "stdout",
          "text": [
            "Identify the capital cities of countries.\n",
            "\n",
            "Question: What is the capital of Sweden?\n",
            "Answer: Stockholm\n",
            "\n",
            "Question: What is the capital of Denmark?\n",
            "Answer: Copenhagen\n",
            "\n",
            "Question: What is the capital of Germany?\n",
            "Answer: Berlin\n",
            "!!!!!!!!!!!!!!!!!!!! EXAMPLE END !!\n",
            "\n",
            "\n",
            "!!!!!!!!!!!!!!!!!!!! EXAMPLE START !!!!!!!!!!!!!!!!!!!!\n",
            "Identify the capital cities of countries.\n",
            "\n",
            "Question: What is the capital of Sweden?\n",
            "Answer: Stockholm\n",
            "\n",
            "Question: What is the capital of Denmark?\n",
            "Answer: Copenhagen\n",
            "\n",
            "Question: What is the capital of France?\n",
            "Answer: Paris\n",
            "!!!!!!!!!!!!!!!!!!!! EXAMPLE END !!\n",
            "\n",
            "******************** END **********************\n"
          ]
        }
      ]
    },
    {
      "cell_type": "markdown",
      "source": [
        "This seemed easy enough, almost all correct. Except for Germany and Estonia it run into mistakes"
      ],
      "metadata": {
        "id": "TGKyqifJ9cvQ"
      }
    },
    {
      "cell_type": "markdown",
      "source": [
        "## AN ESSAY FROM TWEETS (BONUS)"
      ],
      "metadata": {
        "id": "_kFSxSufIfM8"
      }
    },
    {
      "cell_type": "code",
      "source": [
        "\n",
        "tweets_prompt = \"\"\"\n",
        "Can you write me an 250 word essay about the subject?\n",
        "Text: {}\n",
        "Answer:\"\"\"\n",
        "\n"
      ],
      "metadata": {
        "id": "MFeQwpJAE28I"
      },
      "execution_count": 119,
      "outputs": []
    },
    {
      "cell_type": "code",
      "source": [
        "\n",
        "# MUSK TWEETS\n",
        "\n",
        "TWEETS = [\n",
        "    \"Next I’m buying Coca-Cola to put the cocaine back in\", # https://twitter.com/elonmusk/status/1519480761749016577\n",
        "    \"Pluto takes 248 years to orbit the sun, but Uranus only takes 84\", # https://twitter.com/elonmusk/status/1404351360644964355\n",
        "]\n"
      ],
      "metadata": {
        "id": "TU3zu5E-Ev-M"
      },
      "execution_count": 120,
      "outputs": []
    },
    {
      "cell_type": "code",
      "source": [
        "\n",
        "for tweet in TWEETS:\n",
        "  print(\"*\"*20, 'START')\n",
        "  print(results(tweets_prompt.format(tweet), 250))\n",
        "  print(\"*\"*20, 'END')\n"
      ],
      "metadata": {
        "colab": {
          "base_uri": "https://localhost:8080/"
        },
        "id": "D35igRg5E5K1",
        "outputId": "de21e9e4-7dc0-40ba-8f52-0b752bccedb1"
      },
      "execution_count": 121,
      "outputs": [
        {
          "output_type": "stream",
          "name": "stderr",
          "text": [
            "Setting `pad_token_id` to `eos_token_id`:50256 for open-end generation.\n"
          ]
        },
        {
          "output_type": "stream",
          "name": "stdout",
          "text": [
            "******************** START\n"
          ]
        },
        {
          "output_type": "stream",
          "name": "stderr",
          "text": [
            "Setting `pad_token_id` to `eos_token_id`:50256 for open-end generation.\n"
          ]
        },
        {
          "output_type": "stream",
          "name": "stdout",
          "text": [
            "\n",
            "Can you write me an 250 word essay about the subject?\n",
            "Text: Next I’m buying Coca-Cola to put the cocaine back in\n",
            "Answer: In a word…\n",
            "I need to get a job – This is my first post in nearly two months. I didn't have time to write a long essay and my essay about where I am now. But since your website is an absolute must read for anyone looking for advice on jobs, I have decided to post an essay from an essay I wrote several years ago, that I used to improve my essay writing skills. Hope you find it interesting!\n",
            "I'm thinking about quitting my job. Can you really quit your job, even though that means you won‪t be able to live in the same apartment you‪m moving into for years to come?\n",
            "No.\n",
            "But that's OK. My first post was about the day where I realized that quitting my job isn't a viable option. Today, on the day after I finally took that step, I realized that quitting my job for a year, or even 2 years, might be an option that I don't want to make. Even if I do have to pay my way to Europe every 2 months.\n",
            "So can you just stop working for a month, or for several, to give yourself a break?\n",
            "Not for me, as this will slow down my job\n",
            "******************** END\n",
            "******************** START\n",
            "\n",
            "Can you write me an 250 word essay about the subject?\n",
            "Text: Pluto takes 248 years to orbit the sun, but Uranus only takes 84\n",
            "Answer: It's not at all impossible for Pluto or Uranus to orbit one another. Both planets are at the center of the solar system, having been created there. We can actually visualize their orbits by using different techniques that are common in physics and mathematics.\n",
            "1.) The gravitational pull of a rotating body. The distance between the earth and the sun is 14.7 million km. While Uranus is in the same system as the Earth, they do not have the same distance (14.7 million km). At one time Uranus, Neptune and Pluto were known as the seven planets, but now we have a solid definition, Pluto the only planet that does not orbit the Earth. Uranus and Neptune are still visible to earth, while Uranus and Pluto are at a distance of 14.7 million km away. They share a common orbit. The satellites of Uranus and Neptune are very close to the center of the solar system and close to the center of the universe. Since the distance between the earth and the sun is 14.7 million km, it is almost impossible for the sun to be more than 4 or 5 light years away.\n",
            "2.) The orbital revolution of the sun. The distance between earth and the sun is 4.\n",
            "******************** END\n"
          ]
        }
      ]
    }
  ]
}