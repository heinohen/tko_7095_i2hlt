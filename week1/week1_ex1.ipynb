{
  "nbformat": 4,
  "nbformat_minor": 0,
  "metadata": {
    "colab": {
      "provenance": []
    },
    "kernelspec": {
      "name": "python3",
      "display_name": "Python 3"
    },
    "language_info": {
      "name": "python"
    }
  },
  "cells": [
    {
      "cell_type": "markdown",
      "source": [
        "Load file - finnish conllu"
      ],
      "metadata": {
        "id": "cZtmSYRovNeG"
      }
    },
    {
      "cell_type": "code",
      "execution_count": 1,
      "metadata": {
        "colab": {
          "base_uri": "https://localhost:8080/"
        },
        "id": "x8VBYws-uK4_",
        "outputId": "6735399f-6cb0-4c3d-9781-cb390fa92804"
      },
      "outputs": [
        {
          "output_type": "stream",
          "name": "stdout",
          "text": [
            "--2024-03-13 12:15:38--  https://raw.githubusercontent.com/UniversalDependencies/UD_Finnish-TDT/master/fi_tdt-ud-train.conllu\n",
            "Resolving raw.githubusercontent.com (raw.githubusercontent.com)... 185.199.108.133, 185.199.109.133, 185.199.110.133, ...\n",
            "Connecting to raw.githubusercontent.com (raw.githubusercontent.com)|185.199.108.133|:443... connected.\n",
            "HTTP request sent, awaiting response... 200 OK\n",
            "Length: 13373618 (13M) [text/plain]\n",
            "Saving to: ‘fi_tdt-ud-train.conllu’\n",
            "\n",
            "fi_tdt-ud-train.con 100%[===================>]  12.75M  --.-KB/s    in 0.1s    \n",
            "\n",
            "2024-03-13 12:15:39 (88.0 MB/s) - ‘fi_tdt-ud-train.conllu’ saved [13373618/13373618]\n",
            "\n"
          ]
        }
      ],
      "source": [
        "!wget https://raw.githubusercontent.com/UniversalDependencies/UD_Finnish-TDT/master/fi_tdt-ud-train.conllu"
      ]
    },
    {
      "cell_type": "code",
      "source": [
        "!pip3 install conllu"
      ],
      "metadata": {
        "colab": {
          "base_uri": "https://localhost:8080/"
        },
        "id": "1wyWNTZ1vWSE",
        "outputId": "0e7f6c3b-9a68-45ef-da37-9ebde4b145e2"
      },
      "execution_count": 2,
      "outputs": [
        {
          "output_type": "stream",
          "name": "stdout",
          "text": [
            "Collecting conllu\n",
            "  Downloading conllu-4.5.3-py2.py3-none-any.whl (16 kB)\n",
            "Installing collected packages: conllu\n",
            "Successfully installed conllu-4.5.3\n"
          ]
        }
      ]
    },
    {
      "cell_type": "code",
      "source": [
        "import conllu\n",
        "\n",
        "with open(\"fi_tdt-ud-train.conllu\", mode=\"r\", encoding=\"utf-8\") as data:\n",
        "  anns = data.read()\n"
      ],
      "metadata": {
        "colab": {
          "base_uri": "https://localhost:8080/"
        },
        "id": "sx0PIFiBvlNK",
        "outputId": "318f3aaf-8ac4-4ebc-98b9-9f0ad58c2f38"
      },
      "execution_count": 6,
      "outputs": [
        {
          "output_type": "execute_result",
          "data": {
            "text/plain": [
              "str"
            ]
          },
          "metadata": {},
          "execution_count": 6
        }
      ]
    },
    {
      "cell_type": "markdown",
      "source": [
        "Split the data by lines and then extract only from containing \"VERB\" to a set holding unique lemma forms"
      ],
      "metadata": {
        "id": "PPyK2LUO2Ywo"
      }
    },
    {
      "cell_type": "code",
      "source": [
        "lines = anns.splitlines()\n",
        "lems = set()\n",
        "\n",
        "for line in lines:\n",
        "  if \"VERB\" in line:\n",
        "    linelist = line.split(\"\\t\")\n",
        "    lems.add(linelist[2])\n",
        ""
      ],
      "metadata": {
        "id": "375cVdeswNg7"
      },
      "execution_count": 18,
      "outputs": []
    },
    {
      "cell_type": "markdown",
      "source": [
        "Go through the lines a second time, skipping the \"text\" line that starts with '#' and adding all forms of the word in col 1 to a unique set"
      ],
      "metadata": {
        "id": "WEA1uQPH22NF"
      }
    },
    {
      "cell_type": "code",
      "source": [
        "lemmapaketti = dict()\n",
        "for l in lems:\n",
        "  muodot = set()\n",
        "  for line in lines:\n",
        "    if line.startswith('#'):\n",
        "      continue\n",
        "    if l in line:\n",
        "      lst = line.split(\"\\t\")\n",
        "      muodot.add(lst[1]) # second col\n",
        "  lemmapaketti[l] = muodot"
      ],
      "metadata": {
        "id": "R-mz1nq2zhOK"
      },
      "execution_count": 22,
      "outputs": []
    },
    {
      "cell_type": "markdown",
      "source": [
        "Counting all of the unique forms and dividing by the lenght of all lemma forms to get average"
      ],
      "metadata": {
        "id": "NDzf4asG3NYr"
      }
    },
    {
      "cell_type": "code",
      "source": [
        "totals = 0\n",
        "\n",
        "for k,v in lemmapaketti.items():\n",
        "  totals += len(v)\n",
        "\n",
        "print(totals / len(lemmapaketti))"
      ],
      "metadata": {
        "colab": {
          "base_uri": "https://localhost:8080/"
        },
        "id": "GZgXrO3B1SXi",
        "outputId": "5cc451c7-1d2e-4623-fc16-3c54441144d4"
      },
      "execution_count": 29,
      "outputs": [
        {
          "output_type": "stream",
          "name": "stdout",
          "text": [
            "6.5125384953805545\n"
          ]
        }
      ]
    },
    {
      "cell_type": "markdown",
      "source": [
        "We see about ~7 different forms per verb"
      ],
      "metadata": {
        "id": "IpBsW6et2P30"
      }
    }
  ]
}