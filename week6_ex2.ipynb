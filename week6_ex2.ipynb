{
  "nbformat": 4,
  "nbformat_minor": 0,
  "metadata": {
    "colab": {
      "provenance": [],
      "authorship_tag": "ABX9TyOFj20jwMpAtoJYowIEZuUX",
      "include_colab_link": true
    },
    "kernelspec": {
      "name": "python3",
      "display_name": "Python 3"
    },
    "language_info": {
      "name": "python"
    }
  },
  "cells": [
    {
      "cell_type": "markdown",
      "metadata": {
        "id": "view-in-github",
        "colab_type": "text"
      },
      "source": [
        "<a href=\"https://colab.research.google.com/github/heinohen/tko_7095_i2hlt/blob/main/week6_ex2.ipynb\" target=\"_parent\"><img src=\"https://colab.research.google.com/assets/colab-badge.svg\" alt=\"Open In Colab\"/></a>"
      ]
    },
    {
      "cell_type": "markdown",
      "source": [
        "# TASK 12: Analogy evaluation"
      ],
      "metadata": {
        "id": "JCRqDjf4puHu"
      }
    },
    {
      "cell_type": "markdown",
      "source": [
        "Read in the analogy tuples from the file"
      ],
      "metadata": {
        "id": "-1IwqBiUp6cA"
      }
    },
    {
      "cell_type": "code",
      "execution_count": 10,
      "metadata": {
        "colab": {
          "base_uri": "https://localhost:8080/"
        },
        "id": "-i82aCxppeHw",
        "outputId": "3a35e6e7-afbc-497a-df0b-c58d438f341b"
      },
      "outputs": [
        {
          "output_type": "stream",
          "name": "stdout",
          "text": [
            "--2024-04-17 10:48:50--  https://raw.githubusercontent.com/nicholas-leonard/word2vec/master/questions-words.txt\n",
            "Resolving raw.githubusercontent.com (raw.githubusercontent.com)... 185.199.111.133, 185.199.110.133, 185.199.108.133, ...\n",
            "Connecting to raw.githubusercontent.com (raw.githubusercontent.com)|185.199.111.133|:443... connected.\n",
            "HTTP request sent, awaiting response... 200 OK\n",
            "Length: 603955 (590K) [text/plain]\n",
            "Saving to: ‘questions-words.txt’\n",
            "\n",
            "\rquestions-words.txt   0%[                    ]       0  --.-KB/s               \rquestions-words.txt 100%[===================>] 589.80K  --.-KB/s    in 0.04s   \n",
            "\n",
            "2024-04-17 10:48:50 (13.1 MB/s) - ‘questions-words.txt’ saved [603955/603955]\n",
            "\n"
          ]
        }
      ],
      "source": [
        "!wget https://raw.githubusercontent.com/nicholas-leonard/word2vec/master/questions-words.txt"
      ]
    },
    {
      "cell_type": "code",
      "source": [
        "!wget http://dl.turkunlp.org/TKO_7095_2023/12.zip"
      ],
      "metadata": {
        "colab": {
          "base_uri": "https://localhost:8080/"
        },
        "id": "DU523CAN2hU7",
        "outputId": "7965d4fc-492b-463a-a773-0c7f304a3e66"
      },
      "execution_count": 42,
      "outputs": [
        {
          "output_type": "stream",
          "name": "stdout",
          "text": [
            "--2024-04-17 11:38:52--  http://dl.turkunlp.org/TKO_7095_2023/12.zip\n",
            "Resolving dl.turkunlp.org (dl.turkunlp.org)... 195.148.30.23\n",
            "Connecting to dl.turkunlp.org (dl.turkunlp.org)|195.148.30.23|:80... connected.\n",
            "HTTP request sent, awaiting response... 200 OK\n",
            "Length: 613577258 (585M) [application/zip]\n",
            "Saving to: ‘12.zip’\n",
            "\n",
            "12.zip              100%[===================>] 585.15M  20.0MB/s    in 31s     \n",
            "\n",
            "2024-04-17 11:39:23 (18.9 MB/s) - ‘12.zip’ saved [613577258/613577258]\n",
            "\n"
          ]
        }
      ]
    },
    {
      "cell_type": "code",
      "source": [
        "!unzip -o 12.zip"
      ],
      "metadata": {
        "colab": {
          "base_uri": "https://localhost:8080/"
        },
        "id": "kUhzAGLD2kx9",
        "outputId": "53baf4cd-548e-4947-bf56-5415f7fdcc11"
      },
      "execution_count": 46,
      "outputs": [
        {
          "output_type": "stream",
          "name": "stdout",
          "text": [
            "Archive:  12.zip\n",
            "  inflating: meta.json               \n",
            "  inflating: model.bin               \n",
            "  inflating: model.txt               \n",
            "  inflating: README                  \n"
          ]
        }
      ]
    },
    {
      "cell_type": "code",
      "source": [
        "import gensim\n",
        "from gensim.models import KeyedVectors\n",
        "\n",
        "wv_emb_en = KeyedVectors.load_word2vec_format('model.bin', limit = 100000, binary = True) # same principle as ex. before"
      ],
      "metadata": {
        "id": "PsqcvZfu2os5"
      },
      "execution_count": 47,
      "outputs": []
    },
    {
      "cell_type": "code",
      "source": [
        "#012\n",
        "#: capital-common-countries\n",
        "#Athens Greece Baghdad Iraq\n",
        "#Athens Greece Bangkok Thailand\n",
        "#Athens Greece Beijing China\n",
        "#...\n",
        "\n",
        "#012\n",
        "#: capital-world\n",
        "#Abuja Nigeria Accra Ghana\n",
        "#Abuja Nigeria Algiers Algeria\n",
        "#Abuja Nigeria Amman Jordan\n",
        "#...\n",
        "\n",
        "#012\n",
        "#: currency\n",
        "#Algeria dinar Angola kwanza\n",
        "#Algeria dinar Argentina peso\n",
        "#Algeria dinar Armenia dram\n"
      ],
      "metadata": {
        "id": "J8BpaR7Yr6Fo"
      },
      "execution_count": null,
      "outputs": []
    },
    {
      "cell_type": "code",
      "source": [
        "## WORKFLOW ##\n",
        "# 1) create dict to store all 14\n",
        "# 2) line by line for file\n",
        "# 3) looking at above see that index 2 start of actual taskname\n",
        "# 4) format it and create dict entry\n",
        "# 5) create a list of tuples 'taskitems' to store in dict under key == 'taskname'\n",
        "# 6) return it\n",
        "## END ##\n",
        "\n",
        "# 1)\n",
        "task_dict = dict() # key == task, value == list of tuples\n",
        "\n",
        "fname = 'questions-words.txt'\n",
        "counter = 0\n",
        "\n",
        "with open(fname) as f:\n",
        "  # 2)\n",
        "  for r in f:\n",
        "    if not r:\n",
        "      continue # skip empty\n",
        "    # 3)\n",
        "    if r.startswith(\":\"):\n",
        "      counter += 1\n",
        "      print(counter) # if we are at start of a task, create entry for dict\n",
        "      task_name = r[2:].strip('\\n')\n",
        "      print(task_name)\n",
        "      taskitems = []\n",
        "      task_dict[task_name] = taskitems\n",
        "\n",
        "    else:\n",
        "      #012\n",
        "      #: capital-common-countries\n",
        "      #1    \" \" 2  \" \"  3  \" \"  4\n",
        "      #Athens Greece Baghdad Iraq\n",
        "      #Athens Greece Bangkok Thailand\n",
        "      #Athens Greece Beijing China\n",
        "      #print(r.strip('\\n').split(\" \"))\n",
        "      taskitems.append(tuple([word for word in r.strip('\\n').split(\" \")]))\n",
        "\n",
        "\n",
        "\n",
        ""
      ],
      "metadata": {
        "colab": {
          "base_uri": "https://localhost:8080/"
        },
        "id": "fiCib6zpp4Ka",
        "outputId": "c2972157-4f09-49a9-c3d0-f629758a5832"
      },
      "execution_count": 39,
      "outputs": [
        {
          "output_type": "stream",
          "name": "stdout",
          "text": [
            "1\n",
            "capital-common-countries\n",
            "2\n",
            "capital-world\n",
            "3\n",
            "currency\n",
            "4\n",
            "city-in-state\n",
            "5\n",
            "family\n",
            "6\n",
            "gram1-adjective-to-adverb\n",
            "7\n",
            "gram2-opposite\n",
            "8\n",
            "gram3-comparative\n",
            "9\n",
            "gram4-superlative\n",
            "10\n",
            "gram5-present-participle\n",
            "11\n",
            "gram6-nationality-adjective\n",
            "12\n",
            "gram7-past-tense\n",
            "13\n",
            "gram8-plural\n",
            "14\n",
            "gram9-plural-verbs\n"
          ]
        }
      ]
    },
    {
      "cell_type": "code",
      "source": [
        "\n",
        "## CHECK ##\n",
        "\n",
        "print(task_dict['capital-common-countries'][0]) # Athens Greece Baghdad Iraq\n",
        "print(task_dict['capital-world'][0]) # Abuja Nigeria Accra Ghana\n",
        "print(task_dict['currency'][0]) # Algeria dinar Angola kwanza\n",
        "\n",
        "if counter == 14: # It consists of 9+5=14 sets of word analogies.\n",
        "  print(f'tasks: {counter}')\n",
        "else:\n",
        "  print(f'some tasks missing, count is {counter}')\n",
        "## END ##\n"
      ],
      "metadata": {
        "colab": {
          "base_uri": "https://localhost:8080/"
        },
        "id": "wIq0JYM0woQk",
        "outputId": "33b547fc-a68d-48f6-d861-bac21b0d34d6"
      },
      "execution_count": 37,
      "outputs": [
        {
          "output_type": "stream",
          "name": "stdout",
          "text": [
            "('Athens', 'Greece', 'Baghdad', 'Iraq')\n",
            "('Abuja', 'Nigeria', 'Accra', 'Ghana')\n",
            "('Algeria', 'dinar', 'Angola', 'kwanza')\n",
            "tasks: 14\n"
          ]
        }
      ]
    },
    {
      "cell_type": "markdown",
      "source": [
        "Write a function eval_analogy(tuples,embeddings,K) which will return the top-K accuracy of the embeddings (Gensim's KeyedVectors) on tuples, which are the analogy 4-tuples. For instance for the tuple (\"Athens\",\"Greece\",\"Havana\",\"Cuba\") will be counted as correct if the analogy on the first three words results in K nearest neighbors that contain also \"Cuba\". Hope this is clear. :)\n",
        "Run this function on the 14 tasks you read in step (1) and see if you see any interesting differences"
      ],
      "metadata": {
        "id": "ZsuS4UcjydKm"
      }
    },
    {
      "cell_type": "code",
      "source": [
        "triples=[(\"cow\",\"milk\",\"hen\"),\n",
        "         (\"Paris\",\"France\",\"Helsinki\"),\n",
        "         (\"car\",\"wheel\",\"airplane\"),\n",
        "         (\"airplane\",\"propeller\",\"ship\"),\n",
        "         (\"king\",\"queen\",\"man\"),\n",
        "         (\"man\",\"doctor\",\"woman\"),\n",
        "         (\"man\",\"boss\",\"woman\")\n",
        "         ]\n",
        "for what,is_to_what,as_this_is in triples:\n",
        "    # is_to_what-what+as_this_is\n",
        "    to_what=wv_emb_en.most_similar(positive=[is_to_what,as_this_is],negative=[what])[0][0]\n",
        "    print(f\"{what} is to {is_to_what} as {as_this_is} is to: {to_what}\")\n"
      ],
      "metadata": {
        "colab": {
          "base_uri": "https://localhost:8080/"
        },
        "id": "dkYtc3zWCR1Q",
        "outputId": "b406aee1-988e-46e7-d008-e74ad29e94bd"
      },
      "execution_count": 96,
      "outputs": [
        {
          "output_type": "stream",
          "name": "stdout",
          "text": [
            "cow is to milk as hen is to: sauce\n",
            "Paris is to France as Helsinki is to: Finland\n",
            "car is to wheel as airplane is to: rudder\n",
            "airplane is to propeller as ship is to: vessel\n",
            "king is to queen as man is to: woman\n",
            "man is to doctor as woman is to: physician\n",
            "man is to boss as woman is to: bosses\n"
          ]
        }
      ]
    },
    {
      "cell_type": "code",
      "source": [
        "# Build func for this so it can be run in sequence\n",
        "\n",
        "\"\"\"\n",
        "Returns percentage of accuracy as a float\n",
        "tuples == 2 pairs, 4 words\n",
        "\n",
        "\"\"\"\n",
        "def eval_analogy(t: tuple, embeddings: KeyedVectors, K: int) -> list:\n",
        "  \"\"\"\n",
        "  B     A      C\n",
        "  Paris-France+Sweden= ___?\n",
        "  i.e. France is to Paris as Sweden is to X\n",
        "  wv_emb_en.most_similar(positive=[\"Paris\",\"Sweden\"],negative=[\"France\"])\n",
        "\n",
        "  \"\"\"\n",
        "  corr = 0 # analogy correct\n",
        "  all = 0 # all tuples\n",
        "  loss = 0 # skipped tuples i.e KeyError: \"Key 'kwanza' not present in vocabulary\"?????????????????\n",
        "\n",
        "  for word1,word2,word3,word4 in t[:10]:\n",
        "    try:\n",
        "      nearest = embeddings.most_similar(positive = [word2, word3], negative = [word1], topn = K)\n",
        "      words = set([word for word,scores in nearest])\n",
        "      print(f'original tuple: {word1,word2,word3,word4}')\n",
        "      print(f'unique nearest neighbours: {words}')\n",
        "      if word4 in words:\n",
        "        print(f'match {word4} {words}')\n",
        "        corr += 1\n",
        "      all += 1\n",
        "    except:\n",
        "      pass\n",
        "\n",
        "  print(corr, all)\n",
        "  return \"\""
      ],
      "metadata": {
        "id": "AE8LlqoRyZrW"
      },
      "execution_count": 125,
      "outputs": []
    },
    {
      "cell_type": "code",
      "source": [
        "eval_analogy(task_dict['capital-common-countries'], wv_emb_en, 3)"
      ],
      "metadata": {
        "colab": {
          "base_uri": "https://localhost:8080/",
          "height": 574
        },
        "id": "AMrp4fYf2Kx-",
        "outputId": "b8a8c46d-6f0c-404d-9231-694d23bb6f9d"
      },
      "execution_count": 126,
      "outputs": [
        {
          "output_type": "stream",
          "name": "stdout",
          "text": [
            "original tuple: ('Athens', 'Greece', 'Baghdad', 'Iraq')\n",
            "unique nearest neighbours: {'Iraqi', 'Iraq', 'BAGHDAD'}\n",
            "match Iraq {'Iraqi', 'Iraq', 'BAGHDAD'}\n",
            "original tuple: ('Athens', 'Greece', 'Bangkok', 'Thailand')\n",
            "unique nearest neighbours: {'Thai', 'BANGKOK', 'Thailand'}\n",
            "match Thailand {'Thai', 'BANGKOK', 'Thailand'}\n",
            "original tuple: ('Athens', 'Greece', 'Beijing', 'China')\n",
            "unique nearest neighbours: {'mainland', 'Chinese', 'China'}\n",
            "match China {'mainland', 'Chinese', 'China'}\n",
            "original tuple: ('Athens', 'Greece', 'Berlin', 'Germany')\n",
            "unique nearest neighbours: {'German', 'Germany', 'BERLIN'}\n",
            "match Germany {'German', 'Germany', 'BERLIN'}\n",
            "original tuple: ('Athens', 'Greece', 'Bern', 'Switzerland')\n",
            "unique nearest neighbours: {'Switzerland', 'Germany', 'Luxembourg'}\n",
            "match Switzerland {'Switzerland', 'Germany', 'Luxembourg'}\n",
            "original tuple: ('Athens', 'Greece', 'Cairo', 'Egypt')\n",
            "unique nearest neighbours: {'Egypt', 'Egyptian', 'Hosni'}\n",
            "match Egypt {'Egypt', 'Egyptian', 'Hosni'}\n",
            "original tuple: ('Athens', 'Greece', 'Canberra', 'Australia')\n",
            "unique nearest neighbours: {'CANBERRA', 'PNG', 'Australia'}\n",
            "match Australia {'CANBERRA', 'PNG', 'Australia'}\n",
            "original tuple: ('Athens', 'Greece', 'Hanoi', 'Vietnam')\n",
            "unique nearest neighbours: {'Laos', 'Cambodia', 'Vietnam'}\n",
            "match Vietnam {'Laos', 'Cambodia', 'Vietnam'}\n",
            "original tuple: ('Athens', 'Greece', 'Havana', 'Cuba')\n",
            "unique nearest neighbours: {'Castro', 'Cuba', 'Cuban'}\n",
            "match Cuba {'Castro', 'Cuba', 'Cuban'}\n",
            "original tuple: ('Athens', 'Greece', 'Helsinki', 'Finland')\n",
            "unique nearest neighbours: {'Estonia', 'Finland', 'Portugal'}\n",
            "match Finland {'Estonia', 'Finland', 'Portugal'}\n",
            "10 10\n"
          ]
        },
        {
          "output_type": "execute_result",
          "data": {
            "text/plain": [
              "''"
            ],
            "application/vnd.google.colaboratory.intrinsic+json": {
              "type": "string"
            }
          },
          "metadata": {},
          "execution_count": 126
        }
      ]
    },
    {
      "cell_type": "code",
      "source": [
        "#import matplotlib.pyplot as plt\n",
        "#import numpy as np\n",
        "\n",
        "#setup\n",
        "#width = 0.5\n",
        "\n",
        "#fig, ax = plt.subplots()\n",
        "\n",
        "#bar = ax.bar([\"accuracy\", \"loss\"], results[key])"
      ],
      "metadata": {
        "colab": {
          "base_uri": "https://localhost:8080/",
          "height": 430
        },
        "id": "jw4Hm8fS2ZtU",
        "outputId": "e6eb66c5-1b4c-488b-e3a7-a3624062dce2"
      },
      "execution_count": 84,
      "outputs": [
        {
          "output_type": "display_data",
          "data": {
            "text/plain": [
              "<Figure size 640x480 with 1 Axes>"
            ],
            "image/png": "[encoded data removed]"
          },
          "metadata": {}
        }
      ]
    }
  ]
}