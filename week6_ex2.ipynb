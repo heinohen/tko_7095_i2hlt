{
  "nbformat": 4,
  "nbformat_minor": 0,
  "metadata": {
    "colab": {
      "provenance": [],
      "authorship_tag": "ABX9TyOGpxcuOoBarF5I0eP3WAjD",
      "include_colab_link": true
    },
    "kernelspec": {
      "name": "python3",
      "display_name": "Python 3"
    },
    "language_info": {
      "name": "python"
    }
  },
  "cells": [
    {
      "cell_type": "markdown",
      "metadata": {
        "id": "view-in-github",
        "colab_type": "text"
      },
      "source": [
        "<a href=\"https://colab.research.google.com/github/heinohen/tko_7095_i2hlt/blob/main/week6_ex2.ipynb\" target=\"_parent\"><img src=\"https://colab.research.google.com/assets/colab-badge.svg\" alt=\"Open In Colab\"/></a>"
      ]
    },
    {
      "cell_type": "markdown",
      "source": [
        "# TASK 12: Analogy evaluation"
      ],
      "metadata": {
        "id": "JCRqDjf4puHu"
      }
    },
    {
      "cell_type": "markdown",
      "source": [
        "Read in the analogy tuples from the file"
      ],
      "metadata": {
        "id": "-1IwqBiUp6cA"
      }
    },
    {
      "cell_type": "code",
      "execution_count": 1,
      "metadata": {
        "colab": {
          "base_uri": "https://localhost:8080/"
        },
        "id": "-i82aCxppeHw",
        "outputId": "82ba6948-68be-42cf-92ba-7ca71b0bd582"
      },
      "outputs": [
        {
          "output_type": "stream",
          "name": "stdout",
          "text": [
            "--2024-04-20 06:29:15--  https://raw.githubusercontent.com/nicholas-leonard/word2vec/master/questions-words.txt\n",
            "Resolving raw.githubusercontent.com (raw.githubusercontent.com)... 185.199.108.133, 185.199.109.133, 185.199.110.133, ...\n",
            "Connecting to raw.githubusercontent.com (raw.githubusercontent.com)|185.199.108.133|:443... connected.\n",
            "HTTP request sent, awaiting response... 200 OK\n",
            "Length: 603955 (590K) [text/plain]\n",
            "Saving to: ‘questions-words.txt’\n",
            "\n",
            "questions-words.txt 100%[===================>] 589.80K  --.-KB/s    in 0.05s   \n",
            "\n",
            "2024-04-20 06:29:15 (12.1 MB/s) - ‘questions-words.txt’ saved [603955/603955]\n",
            "\n"
          ]
        }
      ],
      "source": [
        "!wget https://raw.githubusercontent.com/nicholas-leonard/word2vec/master/questions-words.txt"
      ]
    },
    {
      "cell_type": "code",
      "source": [
        "!wget http://dl.turkunlp.org/TKO_7095_2023/12.zip"
      ],
      "metadata": {
        "colab": {
          "base_uri": "https://localhost:8080/"
        },
        "id": "DU523CAN2hU7",
        "outputId": "2f88acdd-69c1-4256-d7e1-1a163f055d5b"
      },
      "execution_count": 2,
      "outputs": [
        {
          "output_type": "stream",
          "name": "stdout",
          "text": [
            "--2024-04-20 06:29:15--  http://dl.turkunlp.org/TKO_7095_2023/12.zip\n",
            "Resolving dl.turkunlp.org (dl.turkunlp.org)... 195.148.30.23\n",
            "Connecting to dl.turkunlp.org (dl.turkunlp.org)|195.148.30.23|:80... connected.\n",
            "HTTP request sent, awaiting response... 200 OK\n",
            "Length: 613577258 (585M) [application/zip]\n",
            "Saving to: ‘12.zip’\n",
            "\n",
            "12.zip              100%[===================>] 585.15M  20.7MB/s    in 29s     \n",
            "\n",
            "2024-04-20 06:29:44 (20.3 MB/s) - ‘12.zip’ saved [613577258/613577258]\n",
            "\n"
          ]
        }
      ]
    },
    {
      "cell_type": "code",
      "source": [
        "!unzip -o 12.zip"
      ],
      "metadata": {
        "colab": {
          "base_uri": "https://localhost:8080/"
        },
        "id": "kUhzAGLD2kx9",
        "outputId": "808bb5d0-429c-42be-a2fc-a098fad8ea3c"
      },
      "execution_count": 3,
      "outputs": [
        {
          "output_type": "stream",
          "name": "stdout",
          "text": [
            "Archive:  12.zip\n",
            "  inflating: meta.json               \n",
            "  inflating: model.bin               \n",
            "  inflating: model.txt               \n",
            "  inflating: README                  \n"
          ]
        }
      ]
    },
    {
      "cell_type": "code",
      "source": [
        "import gensim\n",
        "from gensim.models import KeyedVectors\n",
        "\n",
        "wv_emb_en = KeyedVectors.load_word2vec_format('model.bin', limit = 100000, binary = True) # same principle as ex. before"
      ],
      "metadata": {
        "id": "PsqcvZfu2os5"
      },
      "execution_count": 4,
      "outputs": []
    },
    {
      "cell_type": "code",
      "source": [
        "#012\n",
        "#: capital-common-countries\n",
        "#Athens Greece Baghdad Iraq\n",
        "#Athens Greece Bangkok Thailand\n",
        "#Athens Greece Beijing China\n",
        "#...\n",
        "\n",
        "#012\n",
        "#: capital-world\n",
        "#Abuja Nigeria Accra Ghana\n",
        "#Abuja Nigeria Algiers Algeria\n",
        "#Abuja Nigeria Amman Jordan\n",
        "#...\n",
        "\n",
        "#012\n",
        "#: currency\n",
        "#Algeria dinar Angola kwanza\n",
        "#Algeria dinar Argentina peso\n",
        "#Algeria dinar Armenia dram\n"
      ],
      "metadata": {
        "id": "J8BpaR7Yr6Fo"
      },
      "execution_count": 5,
      "outputs": []
    },
    {
      "cell_type": "code",
      "source": [
        "## WORKFLOW ##\n",
        "# 1) create dict to store all 14\n",
        "# 2) line by line for file\n",
        "# 3) looking at above see that index 2 start of actual taskname\n",
        "# 4) format it and create dict entry\n",
        "# 5) create a list of tuples 'taskitems' to store in dict under key == 'taskname'\n",
        "## END ##\n",
        "\n",
        "# 1)\n",
        "task_dict = dict() # key == task, value == list of tuples\n",
        "\n",
        "fname = 'questions-words.txt'\n",
        "counter = 0\n",
        "\n",
        "with open(fname) as f:\n",
        "  # 2)\n",
        "  for r in f:\n",
        "    if not r:\n",
        "      continue # skip empty\n",
        "    # 3)\n",
        "    if r.startswith(\":\"):\n",
        "      counter += 1\n",
        "      print(counter) # if we are at start of a task, create entry for dict\n",
        "\n",
        "      #012 indexes\n",
        "      #: capital-common-countries\n",
        "\n",
        "      # 4)\n",
        "      task_name = r[2:].strip('\\n')\n",
        "      print(task_name)\n",
        "      taskitems = []\n",
        "      # 5)\n",
        "      task_dict[task_name] = taskitems\n",
        "\n",
        "    else: # append to the task's list\n",
        "      #012 indexes\n",
        "      #: capital-common-countries\n",
        "      # splits\n",
        "      #1    \" \" 2  \" \"  3  \" \"  4\n",
        "      #Athens Greece Baghdad Iraq\n",
        "      #Athens Greece Bangkok Thailand\n",
        "      #Athens Greece Beijing China\n",
        "      #print(r.strip('\\n').split(\" \"))\n",
        "      taskitems.append(tuple([word for word in r.strip('\\n').split(\" \")]))\n",
        "\n",
        "\n",
        "\n"
      ],
      "metadata": {
        "colab": {
          "base_uri": "https://localhost:8080/"
        },
        "id": "fiCib6zpp4Ka",
        "outputId": "bbca0e64-bfb1-45b7-d2a4-d5bc68e23320"
      },
      "execution_count": 15,
      "outputs": [
        {
          "output_type": "stream",
          "name": "stdout",
          "text": [
            "1\n",
            "capital-common-countries\n",
            "2\n",
            "capital-world\n",
            "3\n",
            "currency\n",
            "4\n",
            "city-in-state\n",
            "5\n",
            "family\n",
            "6\n",
            "gram1-adjective-to-adverb\n",
            "7\n",
            "gram2-opposite\n",
            "8\n",
            "gram3-comparative\n",
            "9\n",
            "gram4-superlative\n",
            "10\n",
            "gram5-present-participle\n",
            "11\n",
            "gram6-nationality-adjective\n",
            "12\n",
            "gram7-past-tense\n",
            "13\n",
            "gram8-plural\n",
            "14\n",
            "gram9-plural-verbs\n"
          ]
        }
      ]
    },
    {
      "cell_type": "code",
      "source": [
        "\n",
        "## CHECK ##\n",
        "\n",
        "print(task_dict['capital-common-countries'][0]) # Athens Greece Baghdad Iraq\n",
        "print(task_dict['capital-world'][0]) # Abuja Nigeria Accra Ghana\n",
        "print(task_dict['currency'][0]) # Algeria dinar Angola kwanza\n",
        "\n",
        "if counter == 14: # It consists of 9+5=14 sets of word analogies.\n",
        "  print(f'tasks: {counter}')\n",
        "else:\n",
        "  print(f'some tasks missing, count is {counter}')\n",
        "## END ##\n"
      ],
      "metadata": {
        "colab": {
          "base_uri": "https://localhost:8080/"
        },
        "id": "wIq0JYM0woQk",
        "outputId": "46afbb78-ed15-4bb1-ad86-e628b261fc55"
      },
      "execution_count": 16,
      "outputs": [
        {
          "output_type": "stream",
          "name": "stdout",
          "text": [
            "('Athens', 'Greece', 'Baghdad', 'Iraq')\n",
            "('Abuja', 'Nigeria', 'Accra', 'Ghana')\n",
            "('Algeria', 'dinar', 'Angola', 'kwanza')\n",
            "tasks: 14\n"
          ]
        }
      ]
    },
    {
      "cell_type": "markdown",
      "source": [
        "Write a function eval_analogy(tuples,embeddings,K) which will return the top-K accuracy of the embeddings (Gensim's KeyedVectors) on tuples, which are the analogy 4-tuples. For instance for the tuple (\"Athens\",\"Greece\",\"Havana\",\"Cuba\") will be counted as correct if the analogy on the first three words results in K nearest neighbors that contain also \"Cuba\". Hope this is clear. :)\n",
        "Run this function on the 14 tasks you read in step (1) and see if you see any interesting differences"
      ],
      "metadata": {
        "id": "ZsuS4UcjydKm"
      }
    },
    {
      "cell_type": "code",
      "source": [
        "### DEMO TO UNDERSTAND CONCEPT ###\n",
        "\n",
        "triples=[(\"cow\",\"milk\",\"hen\"),\n",
        "         (\"Paris\",\"France\",\"Helsinki\"),\n",
        "         (\"car\",\"wheel\",\"airplane\"),\n",
        "         (\"airplane\",\"propeller\",\"ship\"),\n",
        "         (\"king\",\"queen\",\"man\"),\n",
        "         (\"man\",\"doctor\",\"woman\"),\n",
        "         (\"man\",\"boss\",\"woman\")\n",
        "         ]\n",
        "for what,is_to_what,as_this_is in triples:\n",
        "    # is_to_what-what+as_this_is\n",
        "    to_what=wv_emb_en.most_similar(positive=[is_to_what,as_this_is],negative=[what])[0][0]\n",
        "    print(f\"{what} is to {is_to_what} as {as_this_is} is to: {to_what}\")\n",
        "\n",
        "### END ###"
      ],
      "metadata": {
        "colab": {
          "base_uri": "https://localhost:8080/"
        },
        "id": "dkYtc3zWCR1Q",
        "outputId": "062a839c-a5d1-4f73-fe06-6a24041ef8fc"
      },
      "execution_count": 8,
      "outputs": [
        {
          "output_type": "stream",
          "name": "stdout",
          "text": [
            "cow is to milk as hen is to: sauce\n",
            "Paris is to France as Helsinki is to: Finland\n",
            "car is to wheel as airplane is to: rudder\n",
            "airplane is to propeller as ship is to: vessel\n",
            "king is to queen as man is to: woman\n",
            "man is to doctor as woman is to: physician\n",
            "man is to boss as woman is to: bosses\n"
          ]
        }
      ]
    },
    {
      "cell_type": "code",
      "source": [
        "\n",
        "\"\"\"\n",
        "Returns percentage of accuracy as a float\n",
        "tuples == 2 pairs, 4 words\n",
        "embeddings == learned KeyedVectors object\n",
        "K == top n value for nearest neighbour\n",
        "\n",
        "\"\"\"\n",
        "def eval_analogy(t: tuple, embeddings: KeyedVectors, K: int) -> list:\n",
        "\n",
        "  corr = 0 # analogy correct\n",
        "  all = 0 # all tuples\n",
        "  loss = 0 # skipped tuples\n",
        "\n",
        "  for word1,word2,word3,word4 in t:\n",
        "    all += 1\n",
        "    try:\n",
        "      \"\"\"\n",
        "      word2  word1  word3  word4\n",
        "      Paris-France+Sweden= ___?\n",
        "      i.e. France is to Paris as Sweden is to X\n",
        "      wv_emb_en.most_similar(positive=[\"Paris\",\"Sweden\"],negative=[\"France\"])\n",
        "\n",
        "      \"\"\"\n",
        "      nearest = embeddings.most_similar(positive = [word2, word3], negative = [word1], topn = K)\n",
        "      words = set([word for word,scores in nearest]) # hashable --> fast\n",
        "      #print(f'original tuple: {word1,word2,word3,word4}')\n",
        "      #print(f'unique nearest neighbours: {words}')\n",
        "      if word4 in words:\n",
        "        #print(f'match {word4} {words}')\n",
        "        corr += 1\n",
        "    except KeyError: # why is it giving keyerror? --> Wrap in try/catch\n",
        "      loss += 1 # Cannot count this tuple because of it\n",
        "      continue\n",
        "\n",
        "  # if i fu'd\n",
        "  if all == 0:\n",
        "    return [0,0,0]\n",
        "  miss = all - (corr + loss)\n",
        "  print(loss, corr, miss, all)\n",
        "  return [loss,corr, all - (corr + loss)]"
      ],
      "metadata": {
        "id": "AE8LlqoRyZrW"
      },
      "execution_count": 12,
      "outputs": []
    },
    {
      "cell_type": "code",
      "source": [
        "\n",
        "tasks = []\n",
        "for i,t in enumerate(task_dict.keys()):\n",
        "  print(f'task {i+1} started ... ', end=\"\")\n",
        "  entry_as_list = [t] + eval_analogy(task_dict[t], wv_emb_en, 3)\n",
        "  tasks.append(entry_as_list)\n",
        "  print(f'completed!')\n",
        "\n",
        "print(tasks)\n"
      ],
      "metadata": {
        "colab": {
          "base_uri": "https://localhost:8080/"
        },
        "id": "AMrp4fYf2Kx-",
        "outputId": "98fb29bf-27d6-4c5e-ac51-39500a20ed59"
      },
      "execution_count": 10,
      "outputs": [
        {
          "output_type": "stream",
          "name": "stdout",
          "text": [
            "task 1 started ... 0 474 32 506\n",
            "completed!\n",
            "task 2 started ... 385 3972 167 4524\n",
            "completed!\n",
            "task 3 started ... 232 257 377 866\n",
            "completed!\n",
            "task 4 started ... 0 1573 894 2467\n",
            "completed!\n",
            "task 5 started ... 126 354 26 506\n",
            "completed!\n",
            "task 6 started ... 62 458 472 992\n",
            "completed!\n",
            "task 7 started ... 28 389 395 812\n",
            "completed!\n",
            "task 8 started ... 0 1272 60 1332\n",
            "completed!\n",
            "task 9 started ... 33 940 149 1122\n",
            "completed!\n",
            "task 10 started ... 64 833 159 1056\n",
            "completed!\n",
            "task 11 started ... 39 1489 71 1599\n",
            "completed!\n",
            "task 12 started ... 0 1411 149 1560\n",
            "completed!\n",
            "task 13 started ... 0 1186 146 1332\n",
            "completed!\n",
            "task 14 started ... 0 726 144 870\n",
            "completed!\n",
            "[['capital-common-countries', 0, 474, 32], ['capital-world', 385, 3972, 167], ['currency', 232, 257, 377], ['city-in-state', 0, 1573, 894], ['family', 126, 354, 26], ['gram1-adjective-to-adverb', 62, 458, 472], ['gram2-opposite', 28, 389, 395], ['gram3-comparative', 0, 1272, 60], ['gram4-superlative', 33, 940, 149], ['gram5-present-participle', 64, 833, 159], ['gram6-nationality-adjective', 39, 1489, 71], ['gram7-past-tense', 0, 1411, 149], ['gram8-plural', 0, 1186, 146], ['gram9-plural-verbs', 0, 726, 144]]\n"
          ]
        }
      ]
    },
    {
      "cell_type": "code",
      "source": [
        "import numpy as np\n",
        "import pandas as pd\n",
        "\n",
        "# Let's channel inner R programming\n",
        "\n",
        "\n",
        "dframe = pd.DataFrame([x for x in tasks],\n",
        "                      columns = ['task name',\n",
        "                                'loss',\n",
        "                               'correct',\n",
        "                                 'miss'])\n",
        "\n",
        "dframe['accuracy'] = 100 * dframe['correct'] / (dframe['miss'] + dframe['loss'] + dframe['correct'])\n",
        "print(dframe)\n",
        "\n",
        "dframe[['task name', 'loss', 'correct', 'miss']].plot(x = 'task name',\n",
        "                                              kind = 'bar',\n",
        "                                              stacked = True,\n",
        "                                              title = 'Results from 14 tasks',\n",
        "                                              color={'loss': 'blue',\n",
        "                                                    'correct': \"green\",\n",
        "                                                    'miss': 'red',\n",
        "                                                    })\n",
        "\n",
        "\n"
      ],
      "metadata": {
        "colab": {
          "base_uri": "https://localhost:8080/",
          "height": 945
        },
        "id": "jw4Hm8fS2ZtU",
        "outputId": "9863f500-af2e-4a9c-b410-a5315dde65e2"
      },
      "execution_count": 14,
      "outputs": [
        {
          "output_type": "stream",
          "name": "stdout",
          "text": [
            "                      task name  loss  correct  miss   accuracy\n",
            "0      capital-common-countries     0      474    32  93.675889\n",
            "1                 capital-world   385     3972   167  87.798408\n",
            "2                      currency   232      257   377  29.676674\n",
            "3                 city-in-state     0     1573   894  63.761654\n",
            "4                        family   126      354    26  69.960474\n",
            "5     gram1-adjective-to-adverb    62      458   472  46.169355\n",
            "6                gram2-opposite    28      389   395  47.906404\n",
            "7             gram3-comparative     0     1272    60  95.495495\n",
            "8             gram4-superlative    33      940   149  83.778966\n",
            "9      gram5-present-participle    64      833   159  78.882576\n",
            "10  gram6-nationality-adjective    39     1489    71  93.120700\n",
            "11             gram7-past-tense     0     1411   149  90.448718\n",
            "12                 gram8-plural     0     1186   146  89.039039\n",
            "13           gram9-plural-verbs     0      726   144  83.448276\n"
          ]
        },
        {
          "output_type": "execute_result",
          "data": {
            "text/plain": [
              "<Axes: title={'center': 'Results from 14 tasks'}, xlabel='task name'>"
            ]
          },
          "metadata": {},
          "execution_count": 14
        },
        {
          "output_type": "display_data",
          "data": {
            "text/plain": [
              "<Figure size 640x480 with 1 Axes>"
            ],
            "image/png": "[encoded data removed]"
          },
          "metadata": {}
        }
      ]
    },
    {
      "cell_type": "markdown",
      "source": [
        "## REFLECTION\n",
        "\n",
        "* Fun task, needed a bit of problem solving\n",
        "* KeyError was giving a headache\n",
        "* I thought it was essential to count the loss count also to get full composition of data, i don't fully understand why it is giving it tho...\n",
        "* Time spent 3 h"
      ],
      "metadata": {
        "id": "LH8eMr7JOXxn"
      }
    }
  ]
}