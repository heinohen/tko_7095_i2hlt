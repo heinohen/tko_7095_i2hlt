{
  "nbformat": 4,
  "nbformat_minor": 0,
  "metadata": {
    "colab": {
      "provenance": [],
      "authorship_tag": "ABX9TyPgFsBxjfxdBcm870YdmBfo",
      "include_colab_link": true
    },
    "kernelspec": {
      "name": "python3",
      "display_name": "Python 3"
    },
    "language_info": {
      "name": "python"
    }
  },
  "cells": [
    {
      "cell_type": "markdown",
      "metadata": {
        "id": "view-in-github",
        "colab_type": "text"
      },
      "source": [
        "<a href=\"https://colab.research.google.com/github/heinohen/tko_7095_i2hlt/blob/main/week6_ex2.ipynb\" target=\"_parent\"><img src=\"https://colab.research.google.com/assets/colab-badge.svg\" alt=\"Open In Colab\"/></a>"
      ]
    },
    {
      "cell_type": "markdown",
      "source": [
        "# TASK 12: Analogy evaluation"
      ],
      "metadata": {
        "id": "JCRqDjf4puHu"
      }
    },
    {
      "cell_type": "markdown",
      "source": [
        "Read in the analogy tuples from the file"
      ],
      "metadata": {
        "id": "-1IwqBiUp6cA"
      }
    },
    {
      "cell_type": "code",
      "execution_count": 10,
      "metadata": {
        "colab": {
          "base_uri": "https://localhost:8080/"
        },
        "id": "-i82aCxppeHw",
        "outputId": "3a35e6e7-afbc-497a-df0b-c58d438f341b"
      },
      "outputs": [
        {
          "output_type": "stream",
          "name": "stdout",
          "text": [
            "--2024-04-17 10:48:50--  https://raw.githubusercontent.com/nicholas-leonard/word2vec/master/questions-words.txt\n",
            "Resolving raw.githubusercontent.com (raw.githubusercontent.com)... 185.199.111.133, 185.199.110.133, 185.199.108.133, ...\n",
            "Connecting to raw.githubusercontent.com (raw.githubusercontent.com)|185.199.111.133|:443... connected.\n",
            "HTTP request sent, awaiting response... 200 OK\n",
            "Length: 603955 (590K) [text/plain]\n",
            "Saving to: ‘questions-words.txt’\n",
            "\n",
            "\rquestions-words.txt   0%[                    ]       0  --.-KB/s               \rquestions-words.txt 100%[===================>] 589.80K  --.-KB/s    in 0.04s   \n",
            "\n",
            "2024-04-17 10:48:50 (13.1 MB/s) - ‘questions-words.txt’ saved [603955/603955]\n",
            "\n"
          ]
        }
      ],
      "source": [
        "!wget https://raw.githubusercontent.com/nicholas-leonard/word2vec/master/questions-words.txt"
      ]
    },
    {
      "cell_type": "code",
      "source": [
        "#012\n",
        "#: capital-common-countries\n",
        "#Athens Greece Baghdad Iraq\n",
        "#Athens Greece Bangkok Thailand\n",
        "#Athens Greece Beijing China\n",
        "#...\n",
        "\n",
        "#012\n",
        "#: capital-world\n",
        "#Abuja Nigeria Accra Ghana\n",
        "#Abuja Nigeria Algiers Algeria\n",
        "#Abuja Nigeria Amman Jordan\n",
        "#...\n",
        "\n",
        "#012\n",
        "#: currency\n",
        "#Algeria dinar Angola kwanza\n",
        "#Algeria dinar Argentina peso\n",
        "#Algeria dinar Armenia dram\n"
      ],
      "metadata": {
        "id": "J8BpaR7Yr6Fo"
      },
      "execution_count": null,
      "outputs": []
    },
    {
      "cell_type": "code",
      "source": [
        "## WORKFLOW ##\n",
        "# 1) create dict to store all 14\n",
        "# 2) line by line for file\n",
        "# 3) looking at above see that index 2 start of actual taskname\n",
        "# 4) format it and create dict entry\n",
        "# 5) create a list of tuples 'taskitems' to store in dict under key == 'taskname'\n",
        "# 6) return it\n",
        "## END ##\n",
        "\n",
        "# 1)\n",
        "task_dict = dict() # key == task, value == list of tuples\n",
        "\n",
        "fname = 'questions-words.txt'\n",
        "counter = 0\n",
        "\n",
        "with open(fname) as f:\n",
        "  # 2)\n",
        "  for r in f:\n",
        "    if not r:\n",
        "      continue # skip empty\n",
        "    # 3)\n",
        "    if r.startswith(\":\"):\n",
        "      counter += 1\n",
        "      print(counter) # if we are at start of a task, create entry for dict\n",
        "      task_name = r[2:].strip('\\n')\n",
        "      print(task_name)\n",
        "      taskitems = []\n",
        "      task_dict[task_name] = taskitems\n",
        "\n",
        "    else:\n",
        "      #012\n",
        "      #: capital-common-countries\n",
        "      #1    \" \" 2  \" \"  3  \" \"  4\n",
        "      #Athens Greece Baghdad Iraq\n",
        "      #Athens Greece Bangkok Thailand\n",
        "      #Athens Greece Beijing China\n",
        "      #print(r.strip('\\n').split(\" \"))\n",
        "      taskitems.append(tuple([word for word in r.strip('\\n').split(\" \")]))\n",
        "\n",
        "\n",
        "\n",
        ""
      ],
      "metadata": {
        "colab": {
          "base_uri": "https://localhost:8080/"
        },
        "id": "fiCib6zpp4Ka",
        "outputId": "c2972157-4f09-49a9-c3d0-f629758a5832"
      },
      "execution_count": 39,
      "outputs": [
        {
          "output_type": "stream",
          "name": "stdout",
          "text": [
            "1\n",
            "capital-common-countries\n",
            "2\n",
            "capital-world\n",
            "3\n",
            "currency\n",
            "4\n",
            "city-in-state\n",
            "5\n",
            "family\n",
            "6\n",
            "gram1-adjective-to-adverb\n",
            "7\n",
            "gram2-opposite\n",
            "8\n",
            "gram3-comparative\n",
            "9\n",
            "gram4-superlative\n",
            "10\n",
            "gram5-present-participle\n",
            "11\n",
            "gram6-nationality-adjective\n",
            "12\n",
            "gram7-past-tense\n",
            "13\n",
            "gram8-plural\n",
            "14\n",
            "gram9-plural-verbs\n"
          ]
        }
      ]
    },
    {
      "cell_type": "code",
      "source": [
        "\n",
        "## CHECK ##\n",
        "\n",
        "print(task_dict['capital-common-countries'][0]) # Athens Greece Baghdad Iraq\n",
        "print(task_dict['capital-world'][0]) # Abuja Nigeria Accra Ghana\n",
        "print(task_dict['currency'][0]) # Algeria dinar Angola kwanza\n",
        "\n",
        "if counter == 14: # It consists of 9+5=14 sets of word analogies.\n",
        "  print(f'tasks: {counter}')\n",
        "else:\n",
        "  print(f'some tasks missing, count is {counter}')\n",
        "## END ##\n"
      ],
      "metadata": {
        "colab": {
          "base_uri": "https://localhost:8080/"
        },
        "id": "wIq0JYM0woQk",
        "outputId": "33b547fc-a68d-48f6-d861-bac21b0d34d6"
      },
      "execution_count": 37,
      "outputs": [
        {
          "output_type": "stream",
          "name": "stdout",
          "text": [
            "('Athens', 'Greece', 'Baghdad', 'Iraq')\n",
            "('Abuja', 'Nigeria', 'Accra', 'Ghana')\n",
            "('Algeria', 'dinar', 'Angola', 'kwanza')\n",
            "tasks: 14\n"
          ]
        }
      ]
    }
  ]
}