{
  "nbformat": 4,
  "nbformat_minor": 0,
  "metadata": {
    "colab": {
      "provenance": [],
      "authorship_tag": "ABX9TyNxvjPeYXK8BN2SoRLnS366",
      "include_colab_link": true
    },
    "kernelspec": {
      "name": "python3",
      "display_name": "Python 3"
    },
    "language_info": {
      "name": "python"
    }
  },
  "cells": [
    {
      "cell_type": "markdown",
      "metadata": {
        "id": "view-in-github",
        "colab_type": "text"
      },
      "source": [
        "<a href=\"https://colab.research.google.com/github/heinohen/tko_7095_i2hlt/blob/main/week5_ex2.ipynb\" target=\"_parent\"><img src=\"https://colab.research.google.com/assets/colab-badge.svg\" alt=\"Open In Colab\"/></a>"
      ]
    },
    {
      "cell_type": "markdown",
      "source": [
        "In this exercise, you'll apply the text processing skills you learned earlier on the course and a Python library implementing the word2vec model to create your own word embeddings.\n",
        "\n",
        "\n",
        "REFLECTION AT THE END OF THE NOTEBOOK"
      ],
      "metadata": {
        "id": "aI6A3RXnx1Ey"
      }
    },
    {
      "cell_type": "markdown",
      "source": [
        "You can work on either Finnish or English data. We've placed samples of Wikipedia texts that you can use here in a plain text format with one paragraph per line:"
      ],
      "metadata": {
        "id": "iV4kARYlyQ-6"
      }
    },
    {
      "cell_type": "code",
      "execution_count": 48,
      "metadata": {
        "colab": {
          "base_uri": "https://localhost:8080/"
        },
        "id": "-n_GeaXIxwVl",
        "outputId": "3ca2bb8e-0e91-4482-816d-8c8b91d3f1cb"
      },
      "outputs": [
        {
          "output_type": "stream",
          "name": "stdout",
          "text": [
            "--2024-04-16 08:59:12--  http://dl.turkunlp.org/TKO_7095_2023/fiwiki-20221120-sample.txt\n",
            "Resolving dl.turkunlp.org (dl.turkunlp.org)... 195.148.30.23\n",
            "Connecting to dl.turkunlp.org (dl.turkunlp.org)|195.148.30.23|:80... connected.\n",
            "HTTP request sent, awaiting response... 200 OK\n",
            "Length: 500364237 (477M) [text/plain]\n",
            "Saving to: ‘fiwiki-20221120-sample.txt.2’\n",
            "\n",
            "fiwiki-20221120-sam 100%[===================>] 477.18M  20.2MB/s    in 26s     \n",
            "\n",
            "2024-04-16 08:59:38 (18.4 MB/s) - ‘fiwiki-20221120-sample.txt.2’ saved [500364237/500364237]\n",
            "\n"
          ]
        }
      ],
      "source": [
        "# First, download the dataset of your choice\n",
        "\n",
        "!wget http://dl.turkunlp.org/TKO_7095_2023/fiwiki-20221120-sample.txt\n"
      ]
    },
    {
      "cell_type": "markdown",
      "source": [
        "Next, install the gensim python package and use its Word2Vec class to create word vectors from your data."
      ],
      "metadata": {
        "id": "xcEng2J20acB"
      }
    },
    {
      "cell_type": "code",
      "source": [
        "!pip3 install gensim sentence-splitter"
      ],
      "metadata": {
        "colab": {
          "base_uri": "https://localhost:8080/"
        },
        "id": "Vmtah_rT0QZy",
        "outputId": "bc50e91a-6963-4ae1-9cc8-77b4478a4abc"
      },
      "execution_count": 49,
      "outputs": [
        {
          "output_type": "stream",
          "name": "stdout",
          "text": [
            "Requirement already satisfied: gensim in /usr/local/lib/python3.10/dist-packages (4.3.2)\n",
            "Requirement already satisfied: sentence-splitter in /usr/local/lib/python3.10/dist-packages (1.4)\n",
            "Requirement already satisfied: numpy>=1.18.5 in /usr/local/lib/python3.10/dist-packages (from gensim) (1.25.2)\n",
            "Requirement already satisfied: scipy>=1.7.0 in /usr/local/lib/python3.10/dist-packages (from gensim) (1.11.4)\n",
            "Requirement already satisfied: smart-open>=1.8.1 in /usr/local/lib/python3.10/dist-packages (from gensim) (6.4.0)\n",
            "Requirement already satisfied: regex>=2017.12.12 in /usr/local/lib/python3.10/dist-packages (from sentence-splitter) (2023.12.25)\n"
          ]
        }
      ]
    },
    {
      "cell_type": "code",
      "source": [
        "source_file = \"fiwiki-20221120-sample.txt.1\""
      ],
      "metadata": {
        "id": "XmJkxRD12CK3"
      },
      "execution_count": 9,
      "outputs": []
    },
    {
      "cell_type": "code",
      "source": [
        "# check pa's\n",
        "\n",
        "for i, p in enumerate(pa[:10]):\n",
        "  print(f'*** PARAGRAPH {i}: {p}', end = '')"
      ],
      "metadata": {
        "colab": {
          "base_uri": "https://localhost:8080/"
        },
        "id": "hS_PU5y52pLe",
        "outputId": "8d0b9bb8-4976-412d-da84-d73806d59e00"
      },
      "execution_count": 14,
      "outputs": [
        {
          "output_type": "stream",
          "name": "stdout",
          "text": [
            "*** PARAGRAPH 0: Patrick Joseph Leahy (s. 31. maaliskuuta 1940 Montpelier, Vermont) on yhdysvaltalainen demokraattisen puolueen poliitikko. Leahy toimii Yhdysvaltain senaatin president pro temporena eli de facto senaatin varapresidenttinä. Hän on toiminut Vermontin osavaltion senaattorina vuodesta 1975. Grassley myös toimi senaatin president pro temporena joulukuusta 2012 tammikuuhun 2015. Hän on ollut myös senaatin oikeusvaliokunnan puheenjohtaja.\n",
            "*** PARAGRAPH 1: Elävä kuollut eli epäkuollut tarkoittaa yleisesti erilaisia taruolentoja, jotka ovat heränneet kuolleista takaisin elävien maailmaan. Populaarikulttuurissa tunnetuimpia eläviä kuolleita ovat vampyyrit ja zombit. Sanan 'epäkuollut' kehitti kääntäjä Kersti Juva englannin sanan \"undead\" vastineeksi kääntäessään J. R. R. Tolkienin \"Tarua sormusten herrasta\".\n",
            "*** PARAGRAPH 2: Isku pelasi ensimmäisen kautensa mestaruussarjassa vuonna 1962, kun vuoden 1961 Suomen-mestari Järvensivun Kisa luopui sarjapaikastaan Iskun hyväksi. Heti ensimmäisellä kaudellaan Isku voitti SM-hopeaa. Seuraavalla kaudella Isku voitti mestaruuden, mutta luopui samalla useiden muiden TUL:n seurojen kanssa sarjapaikastaan. Seuraavan kerran Isku nähtiin mestaruussarjassa kaudella 1965-1966.\n",
            "*** PARAGRAPH 3: Kaudella 2005–06 Paatelainen aloitti Skotlannin 3. divisioonan Cowdenbeath FC:n pelaaja-managerina. Seura nousi Paatelaisen ensimmäisellä kaudellaan ylemmälle sarjaportaalle. Toisena Cowdenbeath-kautena Paatelainen päätti keskittyä kokonaan valmentamiseen. Lokakuussa 2006 Paatelainen siirtyi Cowdenbeathista kesken kauden Turun Palloseuran valmentajaksi 3+2-vuotisella sopimuksella. Paatelaisella oli ollut sopimus, että hän pääsisi siirtymään Cowdenbeathista vapaasti, jos hän saisi tarjouksen korkeammalta tasolta.\n",
            "*** PARAGRAPH 4: Siiri Louhi, o.s. Lemberg, (1886 – 1963) oli suomalainen ammattiyhdistysvaikuttaja ja sosialidemokraatti. Konttoristina työskennellyt Louhi tuli mukaan Tampereen Työväenyhdistyksen naisosaston toimintaan jo 15-vuotiaana vuonna 1901 ja vaikutti myöhemmin muun muassa SDP:ssä sekä puolueen naisjärjestössä Suomen sosialidemokraattisessa naisliitossa.\n",
            "*** PARAGRAPH 5: Alopeke sijaitsi noin 11–12 stadioninmittaa Ateenasta, suunnilleen Ilissos-joen ja Lykabettos-kukkulan välimailla. Sen pohjoispuolella sijaitsi Diomeian demos ja länsipuolella Faleronin demos. Demoksen katsotaan sijainneen nykyisten Dáfnin, Ymittóksen tai Ágios Dimítrioksen tienoilla Ateenan keskustan kaakkoispuolella. Aiemmin demos sijoitettiin usein pohjoisemmaksi Ampelókipoiin tai sen lähelle.\n",
            "*** PARAGRAPH 6: Luonnollisissa populaatioissa todellinen menopaussi on tähän mennessä löydetty ihmisten lisäksi vain muutamilta hammasvalailta, kuten miekkavalailta ja lyhyteväpallopäiltä, sekä joiltain sosiaalisilta hyönteisiltä. Quadratus yoshinomiyai-lajin kirvoilla naaraat käyvät läpi menopaussin ja toimivat sen jälkeen lisääntymiskyvyttöminä koloniaa puolustavina vartijoina. Myös Xylocopa pubescens-lajin rautamehiläisillä iäkkäiden naaraiden on todettu puolustavan pesää lisääntymiskyvyn menetettyään.\n",
            "*** PARAGRAPH 7: Keeler vetäytyi julkisuudesta pian sen jälkeen, kun hän vapautui vankilasta. Hän kirjoitti kuitenkin viisi kirjaa elämästään. Vuonna 1989 yhden kirjan pohjalta tehtiin elokuva \"Skandaali\", jossa Keeleria näytteli Joanne Whalley. Elokuvan oli tarkoitus olla tarkka kuva skandaalin vaiheista. Keelerin läsnäoloa ensi-illassa pidettiin hyväksyntänä, mutta Keeler itse kertoi, että hän tarvitsi 5 000 punnan osallistumispalkkion. Hänen mukaansa elokuva vääristi kuvaa hänestä ja oli myös solvaava.\n",
            "*** PARAGRAPH 8: Alus jatkoi palvelustaan Kotilaivastossa, kunnes se palasi maaliskuussa Kanadaan. Huhtikuussa alus määrättiin Brittiläiseen Tyynenmeren laivastoon, mutta ennen lähtöään se siirrettiin Halifaxiin telakalle. Alus ei siten ehtinyt liittymään laivastoon ennen Japanin antautumista. Alus päätettiin 1954 muuttaa sukellusveneentorjuntafregatiksi, jonka työn valmistuttua se jatkoi palvelustaan Kanadan laivastossa. Alus siirrettiin 1960-luvun alussa reserviin. Alus poistettiin palveluksesta 1. huhtikuuta 1970 ja se myytiin romutettavaksi Taiwaniin. Alus lähti 21. huhtikuuta 1971 hinattuna Kanadasta Kaoshiangiin romuttajalle.\n",
            "*** PARAGRAPH 9: Vuonna 2011 yhtye osallistui Latviassa järjestettyyn kansainväliseen New Wave -musiikkikilpailuun. Se sai kolmantena iltana esittämällään kappaleella \"Pictures on My Wall\" tuomaristolta kilpailun historian ensimmäistä kertaa täydet pisteet, mutta yhtye ei silti yltänyt kilpailun kärkeen. Se kuitenkin palkittiin 50 000 euron arvoisella Alla Pugatšovan \"Kultainen tähti\" -palkinnolla, joka vastaa rahalliselta arvoltaan kilpailun voittajan palkintoa. Voiton jälkeen Flute of Shame sai tarjouksia levy-yhtiöiltä, mutta näistä kieltäydyttiin. Arponen kertoi bändin halunneen tehdä ensimmäisen levyn omatoimisesti, ja käyttää palkintorahansa siihen. Levyn ensimmäinen sinkku, \"Pictures on My Wall\", julkaistiin Suomessa 17. lokakuuta 2011.\n"
          ]
        }
      ]
    },
    {
      "cell_type": "code",
      "source": [
        "from sentence_splitter import SentenceSplitter # https://github.com/mediacloud/sentence-splitter\n",
        "\n",
        "# ************* DEMO USECASE *************\n",
        "demo_pa = pa[:1]\n",
        "print(demo_pa[0])\n",
        "\n",
        "# CHECK HOW THIS WORKS with github ''USAGE''\n",
        "splitter = SentenceSplitter('fi')\n",
        "print(splitter.split(demo_pa[0])) # Paragraph is now splitted to sentences -> ok to use\n",
        "# ************* END **********************\n",
        "\n",
        "\n"
      ],
      "metadata": {
        "colab": {
          "base_uri": "https://localhost:8080/"
        },
        "id": "2u_gOYIK1wZr",
        "outputId": "089a72bb-65bc-41aa-d95e-3740b40eaf85"
      },
      "execution_count": 24,
      "outputs": [
        {
          "output_type": "stream",
          "name": "stdout",
          "text": [
            "Patrick Joseph Leahy (s. 31. maaliskuuta 1940 Montpelier, Vermont) on yhdysvaltalainen demokraattisen puolueen poliitikko. Leahy toimii Yhdysvaltain senaatin president pro temporena eli de facto senaatin varapresidenttinä. Hän on toiminut Vermontin osavaltion senaattorina vuodesta 1975. Grassley myös toimi senaatin president pro temporena joulukuusta 2012 tammikuuhun 2015. Hän on ollut myös senaatin oikeusvaliokunnan puheenjohtaja.\n",
            "\n",
            "['Patrick Joseph Leahy (s.', '31. maaliskuuta 1940 Montpelier, Vermont) on yhdysvaltalainen demokraattisen puolueen poliitikko.', 'Leahy toimii Yhdysvaltain senaatin president pro temporena eli de facto senaatin varapresidenttinä.', 'Hän on toiminut Vermontin osavaltion senaattorina vuodesta 1975.', 'Grassley myös toimi senaatin president pro temporena joulukuusta 2012 tammikuuhun 2015.', 'Hän on ollut myös senaatin oikeusvaliokunnan puheenjohtaja.']\n"
          ]
        },
        {
          "output_type": "stream",
          "name": "stderr",
          "text": [
            "UsageError: Line magic function `%%time` not found.\n"
          ]
        }
      ]
    },
    {
      "cell_type": "code",
      "source": [
        "# https://github.com/TurkuNLP/intro-to-nlp/blob/master/sentence_splitting_and_tokenization.ipynb\n",
        "# Split dataset into sentences, and split each of the sentences into tokens.\n",
        "\n",
        "%%time\n",
        "\n",
        "sents = [s for p in pa for s in splitter.split(p)]\n",
        "\n",
        "# Format this data as a list of lists\n",
        "# the top-level lists has sentences, each of which is a list of tokens."
      ],
      "metadata": {
        "colab": {
          "base_uri": "https://localhost:8080/"
        },
        "id": "9BTalfSy58fw",
        "outputId": "00420c53-3c5f-4a54-8e5a-c3dd29502d54"
      },
      "execution_count": 25,
      "outputs": [
        {
          "output_type": "stream",
          "name": "stdout",
          "text": [
            "CPU times: user 12min 45s, sys: 3.42 s, total: 12min 48s\n",
            "Wall time: 12min 57s\n"
          ]
        }
      ]
    },
    {
      "cell_type": "code",
      "source": [
        "import regex as re\n",
        "\n",
        "TOKEN_KEY = re.compile(r'([[:alnum:]]+|\\S)')"
      ],
      "metadata": {
        "id": "fMOSBbgb-0oi"
      },
      "execution_count": 28,
      "outputs": []
    },
    {
      "cell_type": "code",
      "source": [
        "%%time\n",
        "\n",
        "tokens = [TOKEN_KEY.findall(sent) for sent in sents]"
      ],
      "metadata": {
        "colab": {
          "base_uri": "https://localhost:8080/"
        },
        "id": "AFJZ5fX-_dNJ",
        "outputId": "24ac5e3b-677d-4dea-edf5-61e8f1b1c309"
      },
      "execution_count": 29,
      "outputs": [
        {
          "output_type": "stream",
          "name": "stdout",
          "text": [
            "CPU times: user 1min 8s, sys: 6.41 s, total: 1min 14s\n",
            "Wall time: 1min 15s\n"
          ]
        }
      ]
    },
    {
      "cell_type": "code",
      "source": [
        "%%time\n",
        "\n",
        "from gensim.models import Word2Vec # https://radimrehurek.com/gensim/models/word2vec.html\n",
        "\n",
        "\"\"\"\n",
        "sentences == he sentences iterable can be simply a list of lists of tokens,\n",
        "                 #but for larger corpora, consider an iterable that streams the sentences directly from disk/network.\n",
        "vector_size == vector_size (int, optional) – Dimensionality of the word vectors.\n",
        "\"\"\"\n",
        "\n",
        "# seems to take a long time also... ---> interrupt ---> time it!\n",
        "\n",
        "\n",
        "\n",
        "model = Word2Vec(\n",
        "                  sentences=tokens,\n",
        "                 vector_size=100\n",
        "                 )"
      ],
      "metadata": {
        "colab": {
          "base_uri": "https://localhost:8080/"
        },
        "id": "vWxqYws90K3n",
        "outputId": "8de955e3-524d-47c4-960e-c3081efaa931"
      },
      "execution_count": 35,
      "outputs": [
        {
          "output_type": "stream",
          "name": "stdout",
          "text": [
            "CPU times: user 22min 26s, sys: 6.31 s, total: 22min 33s\n",
            "Wall time: 16min 13s\n"
          ]
        }
      ]
    },
    {
      "cell_type": "code",
      "source": [
        "#Finally, use the word vectors to find the words that are most similar to each of the following words:\n",
        "#Finnish: hyvä, huono, koira, kissa, kuningas, kuningatar\n",
        "\n",
        "# https://tedboy.github.io/nlps/generated/generated/gensim.models.Word2Vec.most_similar.html\n",
        "words = ['hyvä', 'huono', 'koira', 'kissa', 'kuningas', 'kuningatar']\n",
        "\n",
        "d = dict()\n",
        "\n",
        "for w in words:\n",
        "  d[w] = model.wv.most_similar(w, topn=5)\n",
        ""
      ],
      "metadata": {
        "id": "S4Gj_5dRFiX-"
      },
      "execution_count": 46,
      "outputs": []
    },
    {
      "cell_type": "code",
      "source": [
        "for k, v in d.items():\n",
        "  print(k, v)"
      ],
      "metadata": {
        "colab": {
          "base_uri": "https://localhost:8080/"
        },
        "id": "BFaBaJqAGqpS",
        "outputId": "4f82a95d-4c9a-42f9-af0b-cf5d8772f5c0"
      },
      "execution_count": 47,
      "outputs": [
        {
          "output_type": "stream",
          "name": "stdout",
          "text": [
            "hyvä [('erinomainen', 0.8560775518417358), ('luotettava', 0.7747753858566284), ('huono', 0.7599952220916748), ('turvallinen', 0.7494949698448181), ('heikko', 0.7480828166007996)]\n",
            "huono [('heikko', 0.883922278881073), ('vähäinen', 0.7782816290855408), ('kova', 0.7774924635887146), ('hyvä', 0.7599952220916748), ('puutteellinen', 0.7577497959136963)]\n",
            "koira [('kissa', 0.8904037475585938), ('hevonen', 0.8615732192993164), ('käärme', 0.8272932171821594), ('olento', 0.8076182007789612), ('tyttö', 0.7924479246139526)]\n",
            "kissa [('koira', 0.8904037475585938), ('hiiri', 0.8539467453956604), ('jänis', 0.8510414958000183), ('rotta', 0.8411906361579895), ('apina', 0.8392532467842102)]\n",
            "kuningas [('kuninkaan', 0.8427284955978394), ('Rikhard', 0.823360025882721), ('kuningatar', 0.8226029872894287), ('Knuut', 0.8059371113777161), ('prinssi', 0.8037520051002502)]\n",
            "kuningatar [('prinsessa', 0.8713064789772034), ('prinssi', 0.8604024052619934), ('kuningas', 0.8226029872894287), ('Elisabet', 0.8212150931358337), ('Kuningatar', 0.8141452074050903)]\n"
          ]
        }
      ]
    },
    {
      "cell_type": "markdown",
      "source": [
        "REFLECTION ON EXERCISE:\n",
        "* Much easier than ex.9\n",
        "* Relatively straightforward when given packages and librarys were given\n",
        "* A lot idle time as cellruns were up to 15min\n",
        "* Great example of a well done exercise!\n",
        "* Time spent reading packages and coding: 3-4 hours"
      ],
      "metadata": {
        "id": "UMxENUUNHsMM"
      }
    }
  ]
}