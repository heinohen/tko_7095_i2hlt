{
  "nbformat": 4,
  "nbformat_minor": 0,
  "metadata": {
    "colab": {
      "provenance": [],
      "authorship_tag": "ABX9TyMlp7U7iFGS8wZlj4WdjYzk",
      "include_colab_link": true
    },
    "kernelspec": {
      "name": "python3",
      "display_name": "Python 3"
    },
    "language_info": {
      "name": "python"
    },
    "widgets": {
      "application/vnd.jupyter.widget-state+json": {
        "77208def64ca4b38b2f7fca068c2be69": {
          "model_module": "@jupyter-widgets/controls",
          "model_name": "HBoxModel",
          "model_module_version": "1.5.0",
          "state": {
            "_dom_classes": [],
            "_model_module": "@jupyter-widgets/controls",
            "_model_module_version": "1.5.0",
            "_model_name": "HBoxModel",
            "_view_count": null,
            "_view_module": "@jupyter-widgets/controls",
            "_view_module_version": "1.5.0",
            "_view_name": "HBoxView",
            "box_style": "",
            "children": [
              "IPY_MODEL_c4b93e0bebde40b483949e6ee1a17471",
              "IPY_MODEL_3e2082156d9340bda3888a798294fc15",
              "IPY_MODEL_f0169b9894c94aef97fe2c5f35614051"
            ],
            "layout": "IPY_MODEL_da1b895a56164d80af1d9e2b1d622f55"
          }
        },
        "c4b93e0bebde40b483949e6ee1a17471": {
          "model_module": "@jupyter-widgets/controls",
          "model_name": "HTMLModel",
          "model_module_version": "1.5.0",
          "state": {
            "_dom_classes": [],
            "_model_module": "@jupyter-widgets/controls",
            "_model_module_version": "1.5.0",
            "_model_name": "HTMLModel",
            "_view_count": null,
            "_view_module": "@jupyter-widgets/controls",
            "_view_module_version": "1.5.0",
            "_view_name": "HTMLView",
            "description": "",
            "description_tooltip": null,
            "layout": "IPY_MODEL_a42465a2a3f540a18014a3cd0f65a011",
            "placeholder": "​",
            "style": "IPY_MODEL_43ddca390b834c068a6502fd4663ee2f",
            "value": "Map (num_proc=4): 100%"
          }
        },
        "3e2082156d9340bda3888a798294fc15": {
          "model_module": "@jupyter-widgets/controls",
          "model_name": "FloatProgressModel",
          "model_module_version": "1.5.0",
          "state": {
            "_dom_classes": [],
            "_model_module": "@jupyter-widgets/controls",
            "_model_module_version": "1.5.0",
            "_model_name": "FloatProgressModel",
            "_view_count": null,
            "_view_module": "@jupyter-widgets/controls",
            "_view_module_version": "1.5.0",
            "_view_name": "ProgressView",
            "bar_style": "success",
            "description": "",
            "description_tooltip": null,
            "layout": "IPY_MODEL_22b7df8c1af7427ba231ad4a5383565a",
            "max": 25000,
            "min": 0,
            "orientation": "horizontal",
            "style": "IPY_MODEL_9168a584ec864ebb9092b18871a05c8c",
            "value": 25000
          }
        },
        "f0169b9894c94aef97fe2c5f35614051": {
          "model_module": "@jupyter-widgets/controls",
          "model_name": "HTMLModel",
          "model_module_version": "1.5.0",
          "state": {
            "_dom_classes": [],
            "_model_module": "@jupyter-widgets/controls",
            "_model_module_version": "1.5.0",
            "_model_name": "HTMLModel",
            "_view_count": null,
            "_view_module": "@jupyter-widgets/controls",
            "_view_module_version": "1.5.0",
            "_view_name": "HTMLView",
            "description": "",
            "description_tooltip": null,
            "layout": "IPY_MODEL_c83f8b646785485cb4a09a8648b22848",
            "placeholder": "​",
            "style": "IPY_MODEL_fe03341a9e1a4280bd93924661b22655",
            "value": " 25000/25000 [00:10&lt;00:00, 2004.62 examples/s]"
          }
        },
        "da1b895a56164d80af1d9e2b1d622f55": {
          "model_module": "@jupyter-widgets/base",
          "model_name": "LayoutModel",
          "model_module_version": "1.2.0",
          "state": {
            "_model_module": "@jupyter-widgets/base",
            "_model_module_version": "1.2.0",
            "_model_name": "LayoutModel",
            "_view_count": null,
            "_view_module": "@jupyter-widgets/base",
            "_view_module_version": "1.2.0",
            "_view_name": "LayoutView",
            "align_content": null,
            "align_items": null,
            "align_self": null,
            "border": null,
            "bottom": null,
            "display": null,
            "flex": null,
            "flex_flow": null,
            "grid_area": null,
            "grid_auto_columns": null,
            "grid_auto_flow": null,
            "grid_auto_rows": null,
            "grid_column": null,
            "grid_gap": null,
            "grid_row": null,
            "grid_template_areas": null,
            "grid_template_columns": null,
            "grid_template_rows": null,
            "height": null,
            "justify_content": null,
            "justify_items": null,
            "left": null,
            "margin": null,
            "max_height": null,
            "max_width": null,
            "min_height": null,
            "min_width": null,
            "object_fit": null,
            "object_position": null,
            "order": null,
            "overflow": null,
            "overflow_x": null,
            "overflow_y": null,
            "padding": null,
            "right": null,
            "top": null,
            "visibility": null,
            "width": null
          }
        },
        "a42465a2a3f540a18014a3cd0f65a011": {
          "model_module": "@jupyter-widgets/base",
          "model_name": "LayoutModel",
          "model_module_version": "1.2.0",
          "state": {
            "_model_module": "@jupyter-widgets/base",
            "_model_module_version": "1.2.0",
            "_model_name": "LayoutModel",
            "_view_count": null,
            "_view_module": "@jupyter-widgets/base",
            "_view_module_version": "1.2.0",
            "_view_name": "LayoutView",
            "align_content": null,
            "align_items": null,
            "align_self": null,
            "border": null,
            "bottom": null,
            "display": null,
            "flex": null,
            "flex_flow": null,
            "grid_area": null,
            "grid_auto_columns": null,
            "grid_auto_flow": null,
            "grid_auto_rows": null,
            "grid_column": null,
            "grid_gap": null,
            "grid_row": null,
            "grid_template_areas": null,
            "grid_template_columns": null,
            "grid_template_rows": null,
            "height": null,
            "justify_content": null,
            "justify_items": null,
            "left": null,
            "margin": null,
            "max_height": null,
            "max_width": null,
            "min_height": null,
            "min_width": null,
            "object_fit": null,
            "object_position": null,
            "order": null,
            "overflow": null,
            "overflow_x": null,
            "overflow_y": null,
            "padding": null,
            "right": null,
            "top": null,
            "visibility": null,
            "width": null
          }
        },
        "43ddca390b834c068a6502fd4663ee2f": {
          "model_module": "@jupyter-widgets/controls",
          "model_name": "DescriptionStyleModel",
          "model_module_version": "1.5.0",
          "state": {
            "_model_module": "@jupyter-widgets/controls",
            "_model_module_version": "1.5.0",
            "_model_name": "DescriptionStyleModel",
            "_view_count": null,
            "_view_module": "@jupyter-widgets/base",
            "_view_module_version": "1.2.0",
            "_view_name": "StyleView",
            "description_width": ""
          }
        },
        "22b7df8c1af7427ba231ad4a5383565a": {
          "model_module": "@jupyter-widgets/base",
          "model_name": "LayoutModel",
          "model_module_version": "1.2.0",
          "state": {
            "_model_module": "@jupyter-widgets/base",
            "_model_module_version": "1.2.0",
            "_model_name": "LayoutModel",
            "_view_count": null,
            "_view_module": "@jupyter-widgets/base",
            "_view_module_version": "1.2.0",
            "_view_name": "LayoutView",
            "align_content": null,
            "align_items": null,
            "align_self": null,
            "border": null,
            "bottom": null,
            "display": null,
            "flex": null,
            "flex_flow": null,
            "grid_area": null,
            "grid_auto_columns": null,
            "grid_auto_flow": null,
            "grid_auto_rows": null,
            "grid_column": null,
            "grid_gap": null,
            "grid_row": null,
            "grid_template_areas": null,
            "grid_template_columns": null,
            "grid_template_rows": null,
            "height": null,
            "justify_content": null,
            "justify_items": null,
            "left": null,
            "margin": null,
            "max_height": null,
            "max_width": null,
            "min_height": null,
            "min_width": null,
            "object_fit": null,
            "object_position": null,
            "order": null,
            "overflow": null,
            "overflow_x": null,
            "overflow_y": null,
            "padding": null,
            "right": null,
            "top": null,
            "visibility": null,
            "width": null
          }
        },
        "9168a584ec864ebb9092b18871a05c8c": {
          "model_module": "@jupyter-widgets/controls",
          "model_name": "ProgressStyleModel",
          "model_module_version": "1.5.0",
          "state": {
            "_model_module": "@jupyter-widgets/controls",
            "_model_module_version": "1.5.0",
            "_model_name": "ProgressStyleModel",
            "_view_count": null,
            "_view_module": "@jupyter-widgets/base",
            "_view_module_version": "1.2.0",
            "_view_name": "StyleView",
            "bar_color": null,
            "description_width": ""
          }
        },
        "c83f8b646785485cb4a09a8648b22848": {
          "model_module": "@jupyter-widgets/base",
          "model_name": "LayoutModel",
          "model_module_version": "1.2.0",
          "state": {
            "_model_module": "@jupyter-widgets/base",
            "_model_module_version": "1.2.0",
            "_model_name": "LayoutModel",
            "_view_count": null,
            "_view_module": "@jupyter-widgets/base",
            "_view_module_version": "1.2.0",
            "_view_name": "LayoutView",
            "align_content": null,
            "align_items": null,
            "align_self": null,
            "border": null,
            "bottom": null,
            "display": null,
            "flex": null,
            "flex_flow": null,
            "grid_area": null,
            "grid_auto_columns": null,
            "grid_auto_flow": null,
            "grid_auto_rows": null,
            "grid_column": null,
            "grid_gap": null,
            "grid_row": null,
            "grid_template_areas": null,
            "grid_template_columns": null,
            "grid_template_rows": null,
            "height": null,
            "justify_content": null,
            "justify_items": null,
            "left": null,
            "margin": null,
            "max_height": null,
            "max_width": null,
            "min_height": null,
            "min_width": null,
            "object_fit": null,
            "object_position": null,
            "order": null,
            "overflow": null,
            "overflow_x": null,
            "overflow_y": null,
            "padding": null,
            "right": null,
            "top": null,
            "visibility": null,
            "width": null
          }
        },
        "fe03341a9e1a4280bd93924661b22655": {
          "model_module": "@jupyter-widgets/controls",
          "model_name": "DescriptionStyleModel",
          "model_module_version": "1.5.0",
          "state": {
            "_model_module": "@jupyter-widgets/controls",
            "_model_module_version": "1.5.0",
            "_model_name": "DescriptionStyleModel",
            "_view_count": null,
            "_view_module": "@jupyter-widgets/base",
            "_view_module_version": "1.2.0",
            "_view_name": "StyleView",
            "description_width": ""
          }
        },
        "82ce6ce7bc194406a78c1adcadca3fdb": {
          "model_module": "@jupyter-widgets/controls",
          "model_name": "HBoxModel",
          "model_module_version": "1.5.0",
          "state": {
            "_dom_classes": [],
            "_model_module": "@jupyter-widgets/controls",
            "_model_module_version": "1.5.0",
            "_model_name": "HBoxModel",
            "_view_count": null,
            "_view_module": "@jupyter-widgets/controls",
            "_view_module_version": "1.5.0",
            "_view_name": "HBoxView",
            "box_style": "",
            "children": [
              "IPY_MODEL_e5f554824d5445faa4c9fe8efa623625",
              "IPY_MODEL_82c7fa824ef249c6acb03878f4d2212f",
              "IPY_MODEL_87e3367cd1ad4b3b97a3c5f277063a54"
            ],
            "layout": "IPY_MODEL_2898677f6dd74844b7c5cf676c078f44"
          }
        },
        "e5f554824d5445faa4c9fe8efa623625": {
          "model_module": "@jupyter-widgets/controls",
          "model_name": "HTMLModel",
          "model_module_version": "1.5.0",
          "state": {
            "_dom_classes": [],
            "_model_module": "@jupyter-widgets/controls",
            "_model_module_version": "1.5.0",
            "_model_name": "HTMLModel",
            "_view_count": null,
            "_view_module": "@jupyter-widgets/controls",
            "_view_module_version": "1.5.0",
            "_view_name": "HTMLView",
            "description": "",
            "description_tooltip": null,
            "layout": "IPY_MODEL_7146ce8b5f314044b48a7b5715ba4e95",
            "placeholder": "​",
            "style": "IPY_MODEL_854352d863e0420cafdba90d099c52f7",
            "value": "Map (num_proc=4): 100%"
          }
        },
        "82c7fa824ef249c6acb03878f4d2212f": {
          "model_module": "@jupyter-widgets/controls",
          "model_name": "FloatProgressModel",
          "model_module_version": "1.5.0",
          "state": {
            "_dom_classes": [],
            "_model_module": "@jupyter-widgets/controls",
            "_model_module_version": "1.5.0",
            "_model_name": "FloatProgressModel",
            "_view_count": null,
            "_view_module": "@jupyter-widgets/controls",
            "_view_module_version": "1.5.0",
            "_view_name": "ProgressView",
            "bar_style": "success",
            "description": "",
            "description_tooltip": null,
            "layout": "IPY_MODEL_98416b8ce49647eb88627d920f573e2d",
            "max": 25000,
            "min": 0,
            "orientation": "horizontal",
            "style": "IPY_MODEL_0eeb9cc921144692bfa23401fe939877",
            "value": 25000
          }
        },
        "87e3367cd1ad4b3b97a3c5f277063a54": {
          "model_module": "@jupyter-widgets/controls",
          "model_name": "HTMLModel",
          "model_module_version": "1.5.0",
          "state": {
            "_dom_classes": [],
            "_model_module": "@jupyter-widgets/controls",
            "_model_module_version": "1.5.0",
            "_model_name": "HTMLModel",
            "_view_count": null,
            "_view_module": "@jupyter-widgets/controls",
            "_view_module_version": "1.5.0",
            "_view_name": "HTMLView",
            "description": "",
            "description_tooltip": null,
            "layout": "IPY_MODEL_3cea966798cb4126aa0a02b27b8e70f6",
            "placeholder": "​",
            "style": "IPY_MODEL_5b93a534dff140d59a7a33a8dc607e9e",
            "value": " 25000/25000 [00:10&lt;00:00, 2556.89 examples/s]"
          }
        },
        "2898677f6dd74844b7c5cf676c078f44": {
          "model_module": "@jupyter-widgets/base",
          "model_name": "LayoutModel",
          "model_module_version": "1.2.0",
          "state": {
            "_model_module": "@jupyter-widgets/base",
            "_model_module_version": "1.2.0",
            "_model_name": "LayoutModel",
            "_view_count": null,
            "_view_module": "@jupyter-widgets/base",
            "_view_module_version": "1.2.0",
            "_view_name": "LayoutView",
            "align_content": null,
            "align_items": null,
            "align_self": null,
            "border": null,
            "bottom": null,
            "display": null,
            "flex": null,
            "flex_flow": null,
            "grid_area": null,
            "grid_auto_columns": null,
            "grid_auto_flow": null,
            "grid_auto_rows": null,
            "grid_column": null,
            "grid_gap": null,
            "grid_row": null,
            "grid_template_areas": null,
            "grid_template_columns": null,
            "grid_template_rows": null,
            "height": null,
            "justify_content": null,
            "justify_items": null,
            "left": null,
            "margin": null,
            "max_height": null,
            "max_width": null,
            "min_height": null,
            "min_width": null,
            "object_fit": null,
            "object_position": null,
            "order": null,
            "overflow": null,
            "overflow_x": null,
            "overflow_y": null,
            "padding": null,
            "right": null,
            "top": null,
            "visibility": null,
            "width": null
          }
        },
        "7146ce8b5f314044b48a7b5715ba4e95": {
          "model_module": "@jupyter-widgets/base",
          "model_name": "LayoutModel",
          "model_module_version": "1.2.0",
          "state": {
            "_model_module": "@jupyter-widgets/base",
            "_model_module_version": "1.2.0",
            "_model_name": "LayoutModel",
            "_view_count": null,
            "_view_module": "@jupyter-widgets/base",
            "_view_module_version": "1.2.0",
            "_view_name": "LayoutView",
            "align_content": null,
            "align_items": null,
            "align_self": null,
            "border": null,
            "bottom": null,
            "display": null,
            "flex": null,
            "flex_flow": null,
            "grid_area": null,
            "grid_auto_columns": null,
            "grid_auto_flow": null,
            "grid_auto_rows": null,
            "grid_column": null,
            "grid_gap": null,
            "grid_row": null,
            "grid_template_areas": null,
            "grid_template_columns": null,
            "grid_template_rows": null,
            "height": null,
            "justify_content": null,
            "justify_items": null,
            "left": null,
            "margin": null,
            "max_height": null,
            "max_width": null,
            "min_height": null,
            "min_width": null,
            "object_fit": null,
            "object_position": null,
            "order": null,
            "overflow": null,
            "overflow_x": null,
            "overflow_y": null,
            "padding": null,
            "right": null,
            "top": null,
            "visibility": null,
            "width": null
          }
        },
        "854352d863e0420cafdba90d099c52f7": {
          "model_module": "@jupyter-widgets/controls",
          "model_name": "DescriptionStyleModel",
          "model_module_version": "1.5.0",
          "state": {
            "_model_module": "@jupyter-widgets/controls",
            "_model_module_version": "1.5.0",
            "_model_name": "DescriptionStyleModel",
            "_view_count": null,
            "_view_module": "@jupyter-widgets/base",
            "_view_module_version": "1.2.0",
            "_view_name": "StyleView",
            "description_width": ""
          }
        },
        "98416b8ce49647eb88627d920f573e2d": {
          "model_module": "@jupyter-widgets/base",
          "model_name": "LayoutModel",
          "model_module_version": "1.2.0",
          "state": {
            "_model_module": "@jupyter-widgets/base",
            "_model_module_version": "1.2.0",
            "_model_name": "LayoutModel",
            "_view_count": null,
            "_view_module": "@jupyter-widgets/base",
            "_view_module_version": "1.2.0",
            "_view_name": "LayoutView",
            "align_content": null,
            "align_items": null,
            "align_self": null,
            "border": null,
            "bottom": null,
            "display": null,
            "flex": null,
            "flex_flow": null,
            "grid_area": null,
            "grid_auto_columns": null,
            "grid_auto_flow": null,
            "grid_auto_rows": null,
            "grid_column": null,
            "grid_gap": null,
            "grid_row": null,
            "grid_template_areas": null,
            "grid_template_columns": null,
            "grid_template_rows": null,
            "height": null,
            "justify_content": null,
            "justify_items": null,
            "left": null,
            "margin": null,
            "max_height": null,
            "max_width": null,
            "min_height": null,
            "min_width": null,
            "object_fit": null,
            "object_position": null,
            "order": null,
            "overflow": null,
            "overflow_x": null,
            "overflow_y": null,
            "padding": null,
            "right": null,
            "top": null,
            "visibility": null,
            "width": null
          }
        },
        "0eeb9cc921144692bfa23401fe939877": {
          "model_module": "@jupyter-widgets/controls",
          "model_name": "ProgressStyleModel",
          "model_module_version": "1.5.0",
          "state": {
            "_model_module": "@jupyter-widgets/controls",
            "_model_module_version": "1.5.0",
            "_model_name": "ProgressStyleModel",
            "_view_count": null,
            "_view_module": "@jupyter-widgets/base",
            "_view_module_version": "1.2.0",
            "_view_name": "StyleView",
            "bar_color": null,
            "description_width": ""
          }
        },
        "3cea966798cb4126aa0a02b27b8e70f6": {
          "model_module": "@jupyter-widgets/base",
          "model_name": "LayoutModel",
          "model_module_version": "1.2.0",
          "state": {
            "_model_module": "@jupyter-widgets/base",
            "_model_module_version": "1.2.0",
            "_model_name": "LayoutModel",
            "_view_count": null,
            "_view_module": "@jupyter-widgets/base",
            "_view_module_version": "1.2.0",
            "_view_name": "LayoutView",
            "align_content": null,
            "align_items": null,
            "align_self": null,
            "border": null,
            "bottom": null,
            "display": null,
            "flex": null,
            "flex_flow": null,
            "grid_area": null,
            "grid_auto_columns": null,
            "grid_auto_flow": null,
            "grid_auto_rows": null,
            "grid_column": null,
            "grid_gap": null,
            "grid_row": null,
            "grid_template_areas": null,
            "grid_template_columns": null,
            "grid_template_rows": null,
            "height": null,
            "justify_content": null,
            "justify_items": null,
            "left": null,
            "margin": null,
            "max_height": null,
            "max_width": null,
            "min_height": null,
            "min_width": null,
            "object_fit": null,
            "object_position": null,
            "order": null,
            "overflow": null,
            "overflow_x": null,
            "overflow_y": null,
            "padding": null,
            "right": null,
            "top": null,
            "visibility": null,
            "width": null
          }
        },
        "5b93a534dff140d59a7a33a8dc607e9e": {
          "model_module": "@jupyter-widgets/controls",
          "model_name": "DescriptionStyleModel",
          "model_module_version": "1.5.0",
          "state": {
            "_model_module": "@jupyter-widgets/controls",
            "_model_module_version": "1.5.0",
            "_model_name": "DescriptionStyleModel",
            "_view_count": null,
            "_view_module": "@jupyter-widgets/base",
            "_view_module_version": "1.2.0",
            "_view_name": "StyleView",
            "description_width": ""
          }
        },
        "fb20ee25d33c4c7faabe774bd9f5045c": {
          "model_module": "@jupyter-widgets/controls",
          "model_name": "HBoxModel",
          "model_module_version": "1.5.0",
          "state": {
            "_dom_classes": [],
            "_model_module": "@jupyter-widgets/controls",
            "_model_module_version": "1.5.0",
            "_model_name": "HBoxModel",
            "_view_count": null,
            "_view_module": "@jupyter-widgets/controls",
            "_view_module_version": "1.5.0",
            "_view_name": "HBoxView",
            "box_style": "",
            "children": [
              "IPY_MODEL_4b6212f9dc2a46468d5b69bb809d8e73",
              "IPY_MODEL_930e4d99c466414282aa70a40a4a084d",
              "IPY_MODEL_ef779d07e14c45d381e95cc1fc5f9e56"
            ],
            "layout": "IPY_MODEL_0811d8b213164e5e907cbacd37481386"
          }
        },
        "4b6212f9dc2a46468d5b69bb809d8e73": {
          "model_module": "@jupyter-widgets/controls",
          "model_name": "HTMLModel",
          "model_module_version": "1.5.0",
          "state": {
            "_dom_classes": [],
            "_model_module": "@jupyter-widgets/controls",
            "_model_module_version": "1.5.0",
            "_model_name": "HTMLModel",
            "_view_count": null,
            "_view_module": "@jupyter-widgets/controls",
            "_view_module_version": "1.5.0",
            "_view_name": "HTMLView",
            "description": "",
            "description_tooltip": null,
            "layout": "IPY_MODEL_dcad8113ddb8464f96dec4084b8326f1",
            "placeholder": "​",
            "style": "IPY_MODEL_883ddc6a6e6040eeb8278eefaf7030c1",
            "value": "Map (num_proc=4): 100%"
          }
        },
        "930e4d99c466414282aa70a40a4a084d": {
          "model_module": "@jupyter-widgets/controls",
          "model_name": "FloatProgressModel",
          "model_module_version": "1.5.0",
          "state": {
            "_dom_classes": [],
            "_model_module": "@jupyter-widgets/controls",
            "_model_module_version": "1.5.0",
            "_model_name": "FloatProgressModel",
            "_view_count": null,
            "_view_module": "@jupyter-widgets/controls",
            "_view_module_version": "1.5.0",
            "_view_name": "ProgressView",
            "bar_style": "success",
            "description": "",
            "description_tooltip": null,
            "layout": "IPY_MODEL_0aefe1692c50422ebd2f0249021244f9",
            "max": 50000,
            "min": 0,
            "orientation": "horizontal",
            "style": "IPY_MODEL_19c9f5626c7e486fba4e4753fab1cba4",
            "value": 50000
          }
        },
        "ef779d07e14c45d381e95cc1fc5f9e56": {
          "model_module": "@jupyter-widgets/controls",
          "model_name": "HTMLModel",
          "model_module_version": "1.5.0",
          "state": {
            "_dom_classes": [],
            "_model_module": "@jupyter-widgets/controls",
            "_model_module_version": "1.5.0",
            "_model_name": "HTMLModel",
            "_view_count": null,
            "_view_module": "@jupyter-widgets/controls",
            "_view_module_version": "1.5.0",
            "_view_name": "HTMLView",
            "description": "",
            "description_tooltip": null,
            "layout": "IPY_MODEL_9b641798521e4302af646fbed1de6807",
            "placeholder": "​",
            "style": "IPY_MODEL_469ca6adb9bf4d8d932db8a805f41636",
            "value": " 50000/50000 [00:14&lt;00:00, 3526.30 examples/s]"
          }
        },
        "0811d8b213164e5e907cbacd37481386": {
          "model_module": "@jupyter-widgets/base",
          "model_name": "LayoutModel",
          "model_module_version": "1.2.0",
          "state": {
            "_model_module": "@jupyter-widgets/base",
            "_model_module_version": "1.2.0",
            "_model_name": "LayoutModel",
            "_view_count": null,
            "_view_module": "@jupyter-widgets/base",
            "_view_module_version": "1.2.0",
            "_view_name": "LayoutView",
            "align_content": null,
            "align_items": null,
            "align_self": null,
            "border": null,
            "bottom": null,
            "display": null,
            "flex": null,
            "flex_flow": null,
            "grid_area": null,
            "grid_auto_columns": null,
            "grid_auto_flow": null,
            "grid_auto_rows": null,
            "grid_column": null,
            "grid_gap": null,
            "grid_row": null,
            "grid_template_areas": null,
            "grid_template_columns": null,
            "grid_template_rows": null,
            "height": null,
            "justify_content": null,
            "justify_items": null,
            "left": null,
            "margin": null,
            "max_height": null,
            "max_width": null,
            "min_height": null,
            "min_width": null,
            "object_fit": null,
            "object_position": null,
            "order": null,
            "overflow": null,
            "overflow_x": null,
            "overflow_y": null,
            "padding": null,
            "right": null,
            "top": null,
            "visibility": null,
            "width": null
          }
        },
        "dcad8113ddb8464f96dec4084b8326f1": {
          "model_module": "@jupyter-widgets/base",
          "model_name": "LayoutModel",
          "model_module_version": "1.2.0",
          "state": {
            "_model_module": "@jupyter-widgets/base",
            "_model_module_version": "1.2.0",
            "_model_name": "LayoutModel",
            "_view_count": null,
            "_view_module": "@jupyter-widgets/base",
            "_view_module_version": "1.2.0",
            "_view_name": "LayoutView",
            "align_content": null,
            "align_items": null,
            "align_self": null,
            "border": null,
            "bottom": null,
            "display": null,
            "flex": null,
            "flex_flow": null,
            "grid_area": null,
            "grid_auto_columns": null,
            "grid_auto_flow": null,
            "grid_auto_rows": null,
            "grid_column": null,
            "grid_gap": null,
            "grid_row": null,
            "grid_template_areas": null,
            "grid_template_columns": null,
            "grid_template_rows": null,
            "height": null,
            "justify_content": null,
            "justify_items": null,
            "left": null,
            "margin": null,
            "max_height": null,
            "max_width": null,
            "min_height": null,
            "min_width": null,
            "object_fit": null,
            "object_position": null,
            "order": null,
            "overflow": null,
            "overflow_x": null,
            "overflow_y": null,
            "padding": null,
            "right": null,
            "top": null,
            "visibility": null,
            "width": null
          }
        },
        "883ddc6a6e6040eeb8278eefaf7030c1": {
          "model_module": "@jupyter-widgets/controls",
          "model_name": "DescriptionStyleModel",
          "model_module_version": "1.5.0",
          "state": {
            "_model_module": "@jupyter-widgets/controls",
            "_model_module_version": "1.5.0",
            "_model_name": "DescriptionStyleModel",
            "_view_count": null,
            "_view_module": "@jupyter-widgets/base",
            "_view_module_version": "1.2.0",
            "_view_name": "StyleView",
            "description_width": ""
          }
        },
        "0aefe1692c50422ebd2f0249021244f9": {
          "model_module": "@jupyter-widgets/base",
          "model_name": "LayoutModel",
          "model_module_version": "1.2.0",
          "state": {
            "_model_module": "@jupyter-widgets/base",
            "_model_module_version": "1.2.0",
            "_model_name": "LayoutModel",
            "_view_count": null,
            "_view_module": "@jupyter-widgets/base",
            "_view_module_version": "1.2.0",
            "_view_name": "LayoutView",
            "align_content": null,
            "align_items": null,
            "align_self": null,
            "border": null,
            "bottom": null,
            "display": null,
            "flex": null,
            "flex_flow": null,
            "grid_area": null,
            "grid_auto_columns": null,
            "grid_auto_flow": null,
            "grid_auto_rows": null,
            "grid_column": null,
            "grid_gap": null,
            "grid_row": null,
            "grid_template_areas": null,
            "grid_template_columns": null,
            "grid_template_rows": null,
            "height": null,
            "justify_content": null,
            "justify_items": null,
            "left": null,
            "margin": null,
            "max_height": null,
            "max_width": null,
            "min_height": null,
            "min_width": null,
            "object_fit": null,
            "object_position": null,
            "order": null,
            "overflow": null,
            "overflow_x": null,
            "overflow_y": null,
            "padding": null,
            "right": null,
            "top": null,
            "visibility": null,
            "width": null
          }
        },
        "19c9f5626c7e486fba4e4753fab1cba4": {
          "model_module": "@jupyter-widgets/controls",
          "model_name": "ProgressStyleModel",
          "model_module_version": "1.5.0",
          "state": {
            "_model_module": "@jupyter-widgets/controls",
            "_model_module_version": "1.5.0",
            "_model_name": "ProgressStyleModel",
            "_view_count": null,
            "_view_module": "@jupyter-widgets/base",
            "_view_module_version": "1.2.0",
            "_view_name": "StyleView",
            "bar_color": null,
            "description_width": ""
          }
        },
        "9b641798521e4302af646fbed1de6807": {
          "model_module": "@jupyter-widgets/base",
          "model_name": "LayoutModel",
          "model_module_version": "1.2.0",
          "state": {
            "_model_module": "@jupyter-widgets/base",
            "_model_module_version": "1.2.0",
            "_model_name": "LayoutModel",
            "_view_count": null,
            "_view_module": "@jupyter-widgets/base",
            "_view_module_version": "1.2.0",
            "_view_name": "LayoutView",
            "align_content": null,
            "align_items": null,
            "align_self": null,
            "border": null,
            "bottom": null,
            "display": null,
            "flex": null,
            "flex_flow": null,
            "grid_area": null,
            "grid_auto_columns": null,
            "grid_auto_flow": null,
            "grid_auto_rows": null,
            "grid_column": null,
            "grid_gap": null,
            "grid_row": null,
            "grid_template_areas": null,
            "grid_template_columns": null,
            "grid_template_rows": null,
            "height": null,
            "justify_content": null,
            "justify_items": null,
            "left": null,
            "margin": null,
            "max_height": null,
            "max_width": null,
            "min_height": null,
            "min_width": null,
            "object_fit": null,
            "object_position": null,
            "order": null,
            "overflow": null,
            "overflow_x": null,
            "overflow_y": null,
            "padding": null,
            "right": null,
            "top": null,
            "visibility": null,
            "width": null
          }
        },
        "469ca6adb9bf4d8d932db8a805f41636": {
          "model_module": "@jupyter-widgets/controls",
          "model_name": "DescriptionStyleModel",
          "model_module_version": "1.5.0",
          "state": {
            "_model_module": "@jupyter-widgets/controls",
            "_model_module_version": "1.5.0",
            "_model_name": "DescriptionStyleModel",
            "_view_count": null,
            "_view_module": "@jupyter-widgets/base",
            "_view_module_version": "1.2.0",
            "_view_name": "StyleView",
            "description_width": ""
          }
        }
      }
    }
  },
  "cells": [
    {
      "cell_type": "markdown",
      "metadata": {
        "id": "view-in-github",
        "colab_type": "text"
      },
      "source": [
        "<a href=\"https://colab.research.google.com/github/heinohen/tko_7095_i2hlt/blob/main/week5_ex_1.ipynb\" target=\"_parent\"><img src=\"https://colab.research.google.com/assets/colab-badge.svg\" alt=\"Open In Colab\"/></a>"
      ]
    },
    {
      "cell_type": "markdown",
      "source": [
        "# In this exercise, you'll try to generate text with an n-gram model. In the generation, we use the last generated n-1 words as the prefix, and the n-gram counts to establish the distribution of possible continuations.\n",
        "\n",
        "## REFLECTIONS IN THE END OF THE NOTEBOOK"
      ],
      "metadata": {
        "id": "Wh9opt8su6xs"
      }
    },
    {
      "cell_type": "code",
      "execution_count": 1,
      "metadata": {
        "colab": {
          "base_uri": "https://localhost:8080/"
        },
        "id": "CXaFTjCh-VKU",
        "outputId": "f8ac80c0-45f3-4591-c1a3-029a4bed6c6e"
      },
      "outputs": [
        {
          "output_type": "stream",
          "name": "stdout",
          "text": [
            "Requirement already satisfied: datasets in /usr/local/lib/python3.10/dist-packages (2.18.0)\n",
            "Requirement already satisfied: more-itertools in /usr/local/lib/python3.10/dist-packages (10.1.0)\n",
            "Requirement already satisfied: filelock in /usr/local/lib/python3.10/dist-packages (from datasets) (3.13.4)\n",
            "Requirement already satisfied: numpy>=1.17 in /usr/local/lib/python3.10/dist-packages (from datasets) (1.25.2)\n",
            "Requirement already satisfied: pyarrow>=12.0.0 in /usr/local/lib/python3.10/dist-packages (from datasets) (14.0.2)\n",
            "Requirement already satisfied: pyarrow-hotfix in /usr/local/lib/python3.10/dist-packages (from datasets) (0.6)\n",
            "Requirement already satisfied: dill<0.3.9,>=0.3.0 in /usr/local/lib/python3.10/dist-packages (from datasets) (0.3.8)\n",
            "Requirement already satisfied: pandas in /usr/local/lib/python3.10/dist-packages (from datasets) (2.0.3)\n",
            "Requirement already satisfied: requests>=2.19.0 in /usr/local/lib/python3.10/dist-packages (from datasets) (2.31.0)\n",
            "Requirement already satisfied: tqdm>=4.62.1 in /usr/local/lib/python3.10/dist-packages (from datasets) (4.66.2)\n",
            "Requirement already satisfied: xxhash in /usr/local/lib/python3.10/dist-packages (from datasets) (3.4.1)\n",
            "Requirement already satisfied: multiprocess in /usr/local/lib/python3.10/dist-packages (from datasets) (0.70.16)\n",
            "Requirement already satisfied: fsspec[http]<=2024.2.0,>=2023.1.0 in /usr/local/lib/python3.10/dist-packages (from datasets) (2023.6.0)\n",
            "Requirement already satisfied: aiohttp in /usr/local/lib/python3.10/dist-packages (from datasets) (3.9.3)\n",
            "Requirement already satisfied: huggingface-hub>=0.19.4 in /usr/local/lib/python3.10/dist-packages (from datasets) (0.20.3)\n",
            "Requirement already satisfied: packaging in /usr/local/lib/python3.10/dist-packages (from datasets) (24.0)\n",
            "Requirement already satisfied: pyyaml>=5.1 in /usr/local/lib/python3.10/dist-packages (from datasets) (6.0.1)\n",
            "Requirement already satisfied: aiosignal>=1.1.2 in /usr/local/lib/python3.10/dist-packages (from aiohttp->datasets) (1.3.1)\n",
            "Requirement already satisfied: attrs>=17.3.0 in /usr/local/lib/python3.10/dist-packages (from aiohttp->datasets) (23.2.0)\n",
            "Requirement already satisfied: frozenlist>=1.1.1 in /usr/local/lib/python3.10/dist-packages (from aiohttp->datasets) (1.4.1)\n",
            "Requirement already satisfied: multidict<7.0,>=4.5 in /usr/local/lib/python3.10/dist-packages (from aiohttp->datasets) (6.0.5)\n",
            "Requirement already satisfied: yarl<2.0,>=1.0 in /usr/local/lib/python3.10/dist-packages (from aiohttp->datasets) (1.9.4)\n",
            "Requirement already satisfied: async-timeout<5.0,>=4.0 in /usr/local/lib/python3.10/dist-packages (from aiohttp->datasets) (4.0.3)\n",
            "Requirement already satisfied: typing-extensions>=3.7.4.3 in /usr/local/lib/python3.10/dist-packages (from huggingface-hub>=0.19.4->datasets) (4.11.0)\n",
            "Requirement already satisfied: charset-normalizer<4,>=2 in /usr/local/lib/python3.10/dist-packages (from requests>=2.19.0->datasets) (3.3.2)\n",
            "Requirement already satisfied: idna<4,>=2.5 in /usr/local/lib/python3.10/dist-packages (from requests>=2.19.0->datasets) (3.6)\n",
            "Requirement already satisfied: urllib3<3,>=1.21.1 in /usr/local/lib/python3.10/dist-packages (from requests>=2.19.0->datasets) (2.0.7)\n",
            "Requirement already satisfied: certifi>=2017.4.17 in /usr/local/lib/python3.10/dist-packages (from requests>=2.19.0->datasets) (2024.2.2)\n",
            "Requirement already satisfied: python-dateutil>=2.8.2 in /usr/local/lib/python3.10/dist-packages (from pandas->datasets) (2.8.2)\n",
            "Requirement already satisfied: pytz>=2020.1 in /usr/local/lib/python3.10/dist-packages (from pandas->datasets) (2023.4)\n",
            "Requirement already satisfied: tzdata>=2022.1 in /usr/local/lib/python3.10/dist-packages (from pandas->datasets) (2024.1)\n",
            "Requirement already satisfied: six>=1.5 in /usr/local/lib/python3.10/dist-packages (from python-dateutil>=2.8.2->pandas->datasets) (1.16.0)\n"
          ]
        }
      ],
      "source": [
        "!pip3 install datasets more-itertools"
      ]
    },
    {
      "cell_type": "code",
      "source": [
        "import datasets\n",
        "import sklearn.feature_extraction"
      ],
      "metadata": {
        "id": "EIIIC5M3-4bN"
      },
      "execution_count": 2,
      "outputs": []
    },
    {
      "cell_type": "code",
      "source": [
        "data = datasets.load_dataset(\"imdb\")"
      ],
      "metadata": {
        "colab": {
          "base_uri": "https://localhost:8080/"
        },
        "id": "SLLBHRr-_BQ5",
        "outputId": "d5a7c82f-63e8-44b3-a4d5-6b748729d6b4"
      },
      "execution_count": 3,
      "outputs": [
        {
          "output_type": "stream",
          "name": "stderr",
          "text": [
            "/usr/local/lib/python3.10/dist-packages/huggingface_hub/utils/_token.py:88: UserWarning: \n",
            "The secret `HF_TOKEN` does not exist in your Colab secrets.\n",
            "To authenticate with the Hugging Face Hub, create a token in your settings tab (https://huggingface.co/settings/tokens), set it as secret in your Google Colab and restart your session.\n",
            "You will be able to reuse this secret in all of your notebooks.\n",
            "Please note that authentication is recommended but still optional to access public models or datasets.\n",
            "  warnings.warn(\n"
          ]
        }
      ]
    },
    {
      "cell_type": "code",
      "source": [
        "cvec = sklearn.feature_extraction.text.CountVectorizer(lowercase = False, stop_words = None, token_pattern=r\"(?u)\\b\\w+\\b\" )\n",
        "analyzer = cvec.build_analyzer()\n",
        "analyzer('I have a dog at home, it likes to shred newspapers.')"
      ],
      "metadata": {
        "colab": {
          "base_uri": "https://localhost:8080/"
        },
        "id": "4OkKV17a_W92",
        "outputId": "369ddfbd-485b-4bfa-885c-8d6e5a994f5f"
      },
      "execution_count": 4,
      "outputs": [
        {
          "output_type": "execute_result",
          "data": {
            "text/plain": [
              "['I',\n",
              " 'have',\n",
              " 'a',\n",
              " 'dog',\n",
              " 'at',\n",
              " 'home',\n",
              " 'it',\n",
              " 'likes',\n",
              " 'to',\n",
              " 'shred',\n",
              " 'newspapers']"
            ]
          },
          "metadata": {},
          "execution_count": 4
        }
      ]
    },
    {
      "cell_type": "markdown",
      "source": [
        "## TASK A"
      ],
      "metadata": {
        "id": "5a0-_DW0DxS_"
      }
    },
    {
      "cell_type": "code",
      "source": [
        "# Tokenize the IMDB dataset\n",
        "\n",
        "def tokenize(ex) -> dict:\n",
        "  return {\"tokenized\":analyzer(ex[\"text\"])}\n",
        "\n",
        "data = data.map(tokenize, num_proc = 4)"
      ],
      "metadata": {
        "colab": {
          "base_uri": "https://localhost:8080/",
          "height": 113,
          "referenced_widgets": [
            "77208def64ca4b38b2f7fca068c2be69",
            "c4b93e0bebde40b483949e6ee1a17471",
            "3e2082156d9340bda3888a798294fc15",
            "f0169b9894c94aef97fe2c5f35614051",
            "da1b895a56164d80af1d9e2b1d622f55",
            "a42465a2a3f540a18014a3cd0f65a011",
            "43ddca390b834c068a6502fd4663ee2f",
            "22b7df8c1af7427ba231ad4a5383565a",
            "9168a584ec864ebb9092b18871a05c8c",
            "c83f8b646785485cb4a09a8648b22848",
            "fe03341a9e1a4280bd93924661b22655",
            "82ce6ce7bc194406a78c1adcadca3fdb",
            "e5f554824d5445faa4c9fe8efa623625",
            "82c7fa824ef249c6acb03878f4d2212f",
            "87e3367cd1ad4b3b97a3c5f277063a54",
            "2898677f6dd74844b7c5cf676c078f44",
            "7146ce8b5f314044b48a7b5715ba4e95",
            "854352d863e0420cafdba90d099c52f7",
            "98416b8ce49647eb88627d920f573e2d",
            "0eeb9cc921144692bfa23401fe939877",
            "3cea966798cb4126aa0a02b27b8e70f6",
            "5b93a534dff140d59a7a33a8dc607e9e",
            "fb20ee25d33c4c7faabe774bd9f5045c",
            "4b6212f9dc2a46468d5b69bb809d8e73",
            "930e4d99c466414282aa70a40a4a084d",
            "ef779d07e14c45d381e95cc1fc5f9e56",
            "0811d8b213164e5e907cbacd37481386",
            "dcad8113ddb8464f96dec4084b8326f1",
            "883ddc6a6e6040eeb8278eefaf7030c1",
            "0aefe1692c50422ebd2f0249021244f9",
            "19c9f5626c7e486fba4e4753fab1cba4",
            "9b641798521e4302af646fbed1de6807",
            "469ca6adb9bf4d8d932db8a805f41636"
          ]
        },
        "id": "Gf6PxnNDABQu",
        "outputId": "c6582d5c-cb36-4173-fbd2-45699a9be333"
      },
      "execution_count": 5,
      "outputs": [
        {
          "output_type": "display_data",
          "data": {
            "text/plain": [
              "Map (num_proc=4):   0%|          | 0/25000 [00:00<?, ? examples/s]"
            ],
            "application/vnd.jupyter.widget-view+json": {
              "version_major": 2,
              "version_minor": 0,
              "model_id": "77208def64ca4b38b2f7fca068c2be69"
            }
          },
          "metadata": {}
        },
        {
          "output_type": "display_data",
          "data": {
            "text/plain": [
              "Map (num_proc=4):   0%|          | 0/25000 [00:00<?, ? examples/s]"
            ],
            "application/vnd.jupyter.widget-view+json": {
              "version_major": 2,
              "version_minor": 0,
              "model_id": "82ce6ce7bc194406a78c1adcadca3fdb"
            }
          },
          "metadata": {}
        },
        {
          "output_type": "display_data",
          "data": {
            "text/plain": [
              "Map (num_proc=4):   0%|          | 0/50000 [00:00<?, ? examples/s]"
            ],
            "application/vnd.jupyter.widget-view+json": {
              "version_major": 2,
              "version_minor": 0,
              "model_id": "fb20ee25d33c4c7faabe774bd9f5045c"
            }
          },
          "metadata": {}
        }
      ]
    },
    {
      "cell_type": "code",
      "source": [
        "from collections import Counter\n",
        "from more_itertools import sliding_window\n",
        "import tqdm\n",
        "\n",
        "def generate_ngrams(dset, n ):\n",
        "  for ex in tqdm.tqdm(dset):\n",
        "    tokens = [\"<bos>\"] * (n-1) + ex[\"tokenized\"]+[\"<eos>\"]\n",
        "    for ngram in sliding_window(tokens,n):\n",
        "      yield ngram"
      ],
      "metadata": {
        "id": "plJkq3ayAqHE"
      },
      "execution_count": 6,
      "outputs": []
    },
    {
      "cell_type": "markdown",
      "source": [
        "## TASK B"
      ],
      "metadata": {
        "id": "a0bNpqP2D1Mu"
      }
    },
    {
      "cell_type": "code",
      "source": [
        "# Concat all invid datasets (train, test, unlabelled) in IMDB\n",
        "# The \"master\" dataset is a dict of these, so data.values() has the datasets of the individual sections\n",
        "combined_dataset = datasets.concatenate_datasets(list(data.values()))"
      ],
      "metadata": {
        "id": "WMzlpIMrD6G1"
      },
      "execution_count": 7,
      "outputs": []
    },
    {
      "cell_type": "code",
      "source": [
        "ngrams={}\n",
        "for ngram in generate_ngrams(combined_dataset,4):\n",
        "    \"\"\"\n",
        "    ngram[:-1] == tuple: 4 items (from arg) ex. ('got', 'back', 'then', '<eos>')\n",
        "    prefix == tuple: 3 items ex. ('got', 'back', 'then')\n",
        "    \"\"\"\n",
        "    prefix=ngram[:-1]\n",
        "    \"\"\"\n",
        "    ngam[-1] == last item\n",
        "    word is above as string\n",
        "    \"\"\"\n",
        "    word=ngram[-1]\n",
        "    \"\"\"\n",
        "    setdefault(key[, default])\n",
        "    If key is in the dictionary, return its value. If not, insert key with a value of default and return default.\n",
        "    default defaults to None.\n",
        "    \"\"\"\n",
        "    d=ngrams.setdefault(prefix,{})\n",
        "    \"\"\"\n",
        "    so this is actually a freq counter after all, like i thought\n",
        "    \"\"\"\n",
        "    d[word]=d.get(word,0)+1"
      ],
      "metadata": {
        "colab": {
          "base_uri": "https://localhost:8080/"
        },
        "id": "LmtLkP24ENcu",
        "outputId": "c581ff97-5b13-4f41-eccb-33d1ecf75c1d"
      },
      "execution_count": 8,
      "outputs": [
        {
          "output_type": "stream",
          "name": "stderr",
          "text": [
            "100%|██████████| 100000/100000 [01:57<00:00, 850.67it/s]\n"
          ]
        }
      ]
    },
    {
      "cell_type": "markdown",
      "source": [
        "*** TRIED THIS WITH MANY DIFFERENT COMBINATIONS ***\n",
        "\n",
        "* convert to string and store with freq\n",
        "* store as a tuple with freq\n",
        "* tried storing as individiual words with freqs (i know... not n-gram)\n",
        "\n",
        "Could not get it to work, had to resort looking at model solution.\n",
        "Did line-by-line read-through to understand fundamentals\n",
        "\n",
        "But why do i need the prefix ?"
      ],
      "metadata": {
        "id": "C5rG443lWvp7"
      }
    },
    {
      "cell_type": "code",
      "source": [],
      "metadata": {
        "id": "Nt_o0kggZJW9"
      },
      "execution_count": 8,
      "outputs": []
    },
    {
      "cell_type": "markdown",
      "source": [
        "## TASK C"
      ],
      "metadata": {
        "id": "AaY_PWdXIC0S"
      }
    },
    {
      "cell_type": "code",
      "source": [
        "import numpy as np\n",
        "\n",
        "def softmax(x):\n",
        "  \"\"\"\n",
        "  Calculate the exponential of all elements in the input array.\n",
        "  https://numpy.org/doc/stable/reference/generated/numpy.exp.html#numpy.exp\n",
        "  \"\"\"\n",
        "  return np.exp(x) / sum(np.exp(x))\n",
        "\n",
        "def sample_from(counts, temperature):\n",
        "  \"\"\"\n",
        "  counts: List of counts that form the distribution\n",
        "  temperature: The \"how wild the generation should be\" parameter, numbers close to 0 are very conservative,\n",
        "  numbers close or above 1 lead to quite wild generations\n",
        "  \"\"\"\n",
        "\n",
        "\n",
        "  counts_array = np.array(counts)\n",
        "\n",
        "  # Make thse sum up to 1\n",
        "  counts_array_norm = counts_array / counts_array.sum()\n",
        "\n",
        "  # Divide by temperature, that is what the algorithm does\n",
        "  counts_array_norm /= temperature # augmented assignment operator for floating point division\n",
        "\n",
        "  # Renormalize into a distribution using the softmax function, that is what the algorithm does\n",
        "  final_distribution = softmax(counts_array_norm)\n",
        "\n",
        "  # A good way to sample from a distribution is the following function from numpy\n",
        "  x = np.random.multinomial(n = 1, pvals = final_distribution)\n",
        "  selected_word = np.argmax(x).flatten()\n",
        "  return selected_word[0]\n",
        "\n",
        "\"\"\"\n",
        "from this sample_from([1,1,1,17], temperature = 0.5) call:\n",
        "\n",
        "counts_array type --> <class 'numpy.ndarray'>\n",
        "counts_array contains --> [ 1  1  1 17]\n",
        "\n",
        "counts_array_norm = counts_array / counts_array.sum() --> [0.05 0.05 0.05 0.85]\n",
        "counts_array_norm /= temperature --> [0.1 0.1 0.1 1.7]\n",
        "final_distribution = softmax(counts_array_norm) --> [0.1257382  0.1257382  0.1257382  0.62278539]\n",
        "\"\"\"\n",
        "\n",
        "sample_from([1,1,1,17], temperature = 0.5)\n"
      ],
      "metadata": {
        "colab": {
          "base_uri": "https://localhost:8080/"
        },
        "id": "yH4qqLfdIFAS",
        "outputId": "74ea6cae-4f97-4acd-d2e9-194c6bf1d360"
      },
      "execution_count": 9,
      "outputs": [
        {
          "output_type": "execute_result",
          "data": {
            "text/plain": [
              "0"
            ]
          },
          "metadata": {},
          "execution_count": 9
        }
      ]
    },
    {
      "cell_type": "markdown",
      "source": [
        "## TASK D"
      ],
      "metadata": {
        "id": "g0p7zBLaJcx_"
      }
    },
    {
      "cell_type": "code",
      "source": [
        "from pprint import pprint\n",
        "\n",
        "def generate(ngrams, n, max_len, temperature, is_this_the_beginning = True) -> list: # RETURNS LIST WITH ALL THE WORDS IN IT\n",
        "  \"\"\"\n",
        "  ngrams: the master dict\n",
        "  max_len: how many words at maximum\n",
        "  temperature: the generation temperature\n",
        "  prompt: the initial prompt, as a tuple, if not given n-1 <bos> symbols will be used\n",
        "  \"\"\"\n",
        "\n",
        "  # The <bos> we want to have there n-1 times, so we can use it as the initial prompt and let the model learn how the sequences start.\n",
        "  if is_this_the_beginning is True:\n",
        "    sequence_start = [\"<bos>\"] * (n-1)\n",
        "    is_this_the_beginning = False\n",
        "\n",
        "\n",
        "  final_product = list(sequence_start) # in here lies the final text\n",
        "\n",
        "  for i in range(max_len):\n",
        "    \"\"\"\n",
        "    PLAN INSIDE THE LOOP\n",
        "    1) take what we already have produced\n",
        "    2) access it's dict\n",
        "    3) separate words and counts\n",
        "    4) select a new word with \"TASK C\" codeblock\n",
        "    5) append to final return list\n",
        "    \"\"\"\n",
        "\n",
        "    # So, when generating, we can take the last n-1 words, look them up in the master dictionary,\n",
        "    # and we get a dictionary of all seen continuations and their counts.\n",
        "\n",
        "    # AS OUR N-GRAM IS A VARIABLE THE FOLLOWING MEANS THAT WE GO BACK n-times and add +1\n",
        "    prefix=tuple(final_product[-n+1:])\n",
        "    dict_of_prefix = ngrams[prefix] # THESE WERE GENERATED IN TASK B \"MASTER DICTIONARY\"\n",
        "    words_from_dict = [] # INSERT ALL WORDS INSIDE THE DICT\n",
        "    counts_from_dict = [] # INSERT ALL COUNTS OF CORRESPONDING WORDS INSIDE THE DICT\n",
        "\n",
        "    for k,v in dict_of_prefix.items():\n",
        "      words_from_dict.append(k)\n",
        "      counts_from_dict.append(v)\n",
        "\n",
        "    # GET INDEX USING THE \"TASK C\"\n",
        "    \"\"\"\n",
        "    counts_from_dict == intlist, used to calculate the new index\n",
        "    temperature ==\n",
        "    index_of_a_new_word = sample_from(counts_from_dict, temperature)\n",
        "    \"\"\"\n",
        "    index_of_a_new_word = sample_from(counts_from_dict, temperature)\n",
        "    final_product.append(words_from_dict[index_of_a_new_word])\n",
        "    # The <eos> allows us to stop generating, and prevents a crash on unknown n-grams at the very end of a sequence.\n",
        "    # (if an n-gram was seen only once at the end of a \"training\" sequence,\n",
        "    # then an attempt to continue it during generation, would lead to a crash,\n",
        "    # since we have no known n-gram to continue the sequence with our simple, unsmoothed model :)\n",
        "    if final_product[-1] == \"<eos>\":\n",
        "      break\n",
        "\n",
        "  return final_product\n",
        "\n",
        "\n",
        "for temp in (0.1,0.5,1.0,2.0,5.0):\n",
        "    generated=generate(ngrams=ngrams,n=4,max_len=60,temperature=temp)\n",
        "    print(f\"Temp={temp}:\")\n",
        "    pprint(\" \".join(generated))\n",
        "    print(\"-----------\")\n"
      ],
      "metadata": {
        "colab": {
          "base_uri": "https://localhost:8080/"
        },
        "id": "qAMraN_NJee7",
        "outputId": "0cf6b40a-bf0c-4f09-fa51-2e08901e8d8a"
      },
      "execution_count": 13,
      "outputs": [
        {
          "output_type": "stream",
          "name": "stdout",
          "text": [
            "Temp=0.1:\n",
            "('<bos> <bos> <bos> Zeoy101 Really this has to be evaluated for what it speaks '\n",
            " 'about a terrorist dirty bomb attack in London The film is kind of dumb I '\n",
            " 'guess it required a woman to a secluded island that the Thornberries are '\n",
            " 'filming on the adults and have them dwarfed by the system The boy never '\n",
            " 'forgets about what happened to each person')\n",
            "-----------\n",
            "Temp=0.5:\n",
            "('<bos> <bos> <bos> Ginger Snaps 2 there is no audience The nightclub scene '\n",
            " 'has Nanette Workman singing Call girl and Les Fros Brossuere performing a '\n",
            " 'Mikado like take off The writer hasn t stop for a minute reckons that MaxÕs '\n",
            " 'sights are on a class reunion This is a Brit formerly of the NYPD since '\n",
            " 'their interest in American broadcasts <eos>')\n",
            "-----------\n",
            "Temp=1.0:\n",
            "('<bos> <bos> <bos> Marjorie a young woman through the matrimonial ads of a '\n",
            " 'newspaper Office fool Charley at first gets the stigmata she also defies the '\n",
            " 'laws of crap by producing new levels of low This is truly an innovator br br '\n",
            " 'I Married Joan was a detriment to the film Alien most are unfairly '\n",
            " 'criticized for copying that film In both cases')\n",
            "-----------\n",
            "Temp=2.0:\n",
            "('<bos> <bos> <bos> Odd but wonderfully original movie Genuinely frightening '\n",
            " 'creepy and ridiculous in this film Maston is the typical I will create '\n",
            " 'monsters that can be an enjoyable and relaxing movie if one ever existed '\n",
            " 'Hank however is divorcée who finds himself chucked into a blender and this '\n",
            " 'is certainly worth checking out Route 666 its not the baddies so much that')\n",
            "-----------\n",
            "Temp=5.0:\n",
            "('<bos> <bos> <bos> Geat movie Salma and Pierce were great together At least '\n",
            " 'for the likes of lookers like Cameron Bancroft and Andrew McCarthy except '\n",
            " 'that she professes her love for horses It s also wonderfully shot and acted '\n",
            " 'Matthew Fox gives an amazing performance establishing the credibility and '\n",
            " 'popularity of Who Wants To BE A Super Model on Bravo I think it')\n",
            "-----------\n"
          ]
        }
      ]
    },
    {
      "cell_type": "markdown",
      "source": [
        "# REFLECTION OF EXERCISE\n",
        "\n",
        "* Not much is my original code as a whole lot was given\n",
        "* Took hints from solved as this is completely new task for me\n",
        "* Concept was hard, coding relatively easy\n",
        "* Took time to fully understand the concept\n",
        "* Time used for the exercise roughly 4-5 hours"
      ],
      "metadata": {
        "id": "wVGFdMn6uPfE"
      }
    }
  ]
}